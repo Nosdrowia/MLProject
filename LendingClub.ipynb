{
 "cells": [
  {
   "cell_type": "markdown",
   "metadata": {
    "collapsed": true
   },
   "source": [
    "<h1><font color='blue'>Lending Club</font></h1>"
   ]
  },
  {
   "cell_type": "code",
   "execution_count": 21,
   "metadata": {
    "collapsed": false
   },
   "outputs": [],
   "source": [
    "# Import the python environment libraries\n",
    "import sklearn\n",
    "import numpy as np\n",
    "import pandas as pd\n",
    "#import seaborn as sb\n",
    "#from sklearn.linear_model import SGDClassifier\n",
    "#from sklearn import metrics\n",
    "from sklearn.cross_validation import cross_val_score, KFold, train_test_split\n",
    "from sklearn import neighbors\n",
    "from sklearn.metrics import classification_report\n",
    "from __future__ import print_function\n",
    "import matplotlib.pyplot as plt\n",
    "from sklearn import metrics\n",
    "from sklearn import datasets, linear_model\n",
    "from sklearn.linear_model import LogisticRegression\n",
    "import time\n",
    "from mpl_toolkits.mplot3d import Axes3D\n",
    "from sklearn.cluster import KMeans\n",
    "from sklearn.decomposition import PCA\n",
    "import random\n",
    "import collections\n",
    "from sklearn.naive_bayes import BernoulliNB\n",
    "%matplotlib inline"
   ]
  },
  {
   "cell_type": "code",
   "execution_count": 27,
   "metadata": {
    "collapsed": false
   },
   "outputs": [
    {
     "data": {
      "text/html": [
       "<div>\n",
       "<table border=\"1\" class=\"dataframe\">\n",
       "  <thead>\n",
       "    <tr style=\"text-align: right;\">\n",
       "      <th></th>\n",
       "      <th>id</th>\n",
       "      <th>member_id</th>\n",
       "      <th>loan_amnt</th>\n",
       "      <th>funded_amnt</th>\n",
       "      <th>funded_amnt_inv</th>\n",
       "      <th>term</th>\n",
       "      <th>int_rate</th>\n",
       "      <th>installment</th>\n",
       "      <th>grade</th>\n",
       "      <th>sub_grade</th>\n",
       "      <th>...</th>\n",
       "      <th>recoveries</th>\n",
       "      <th>collection_recovery_fee</th>\n",
       "      <th>last_pymnt_d</th>\n",
       "      <th>last_pymnt_amnt</th>\n",
       "      <th>last_credit_pull_d</th>\n",
       "      <th>pub_rec_bankruptcies</th>\n",
       "      <th>new_int_rate</th>\n",
       "      <th>int_bucket</th>\n",
       "      <th>issue_year</th>\n",
       "      <th>issue_month</th>\n",
       "    </tr>\n",
       "  </thead>\n",
       "  <tbody>\n",
       "    <tr>\n",
       "      <th>0</th>\n",
       "      <td>1077501</td>\n",
       "      <td>1296599</td>\n",
       "      <td>5000</td>\n",
       "      <td>5000</td>\n",
       "      <td>4975.0</td>\n",
       "      <td>36</td>\n",
       "      <td>0.1065</td>\n",
       "      <td>162.87</td>\n",
       "      <td>-141909181</td>\n",
       "      <td>406699638</td>\n",
       "      <td>...</td>\n",
       "      <td>0.0</td>\n",
       "      <td>0.0</td>\n",
       "      <td>42384.0</td>\n",
       "      <td>171.62</td>\n",
       "      <td>42659.0</td>\n",
       "      <td>0</td>\n",
       "      <td>11</td>\n",
       "      <td>2</td>\n",
       "      <td>2016</td>\n",
       "      <td>12</td>\n",
       "    </tr>\n",
       "  </tbody>\n",
       "</table>\n",
       "<p>1 rows × 46 columns</p>\n",
       "</div>"
      ],
      "text/plain": [
       "        id member_id  loan_amnt  funded_amnt  funded_amnt_inv  term  int_rate  \\\n",
       "0  1077501   1296599       5000         5000           4975.0    36    0.1065   \n",
       "\n",
       "   installment      grade  sub_grade     ...       recoveries  \\\n",
       "0       162.87 -141909181  406699638     ...              0.0   \n",
       "\n",
       "   collection_recovery_fee  last_pymnt_d  last_pymnt_amnt last_credit_pull_d  \\\n",
       "0                      0.0       42384.0           171.62            42659.0   \n",
       "\n",
       "   pub_rec_bankruptcies  new_int_rate  int_bucket  issue_year  issue_month  \n",
       "0                     0            11           2        2016           12  \n",
       "\n",
       "[1 rows x 46 columns]"
      ]
     },
     "execution_count": 27,
     "metadata": {},
     "output_type": "execute_result"
    }
   ],
   "source": [
    "# Import the data \n",
    "data = pd.read_csv(\"data.csv\", parse_dates = [1])\n",
    "\n",
    "#Adding additional dates to the dataframe \n",
    "df_date_split = pd.DatetimeIndex(data['issue_d'])\n",
    "data['issue_year'] = df_date_split.year\n",
    "data['issue_month'] = df_date_split.month\n",
    "\n",
    "# Setting the initial features\n",
    "df_features = data.copy()\n",
    "del df_features['id']\n",
    "del df_features['new_int_rate']\n",
    "del df_features['issue_d']\n",
    "\n",
    "\n",
    "\n",
    "# Hash the dataset until we determine columns that require it\n",
    "data['grade'] = data['grade'].apply(hash)\n",
    "data['sub_grade'] = data['sub_grade'].apply(hash)\n",
    "data['home_ownership'] = data['home_ownership'].apply(hash)\n",
    "data['verification_status'] = data['verification_status'].apply(hash)\n",
    "data['loan_status'] = data['loan_status'].apply(hash)\n",
    "data['pymnt_plan'] = data['pymnt_plan'].apply(hash)\n",
    "data['purpose'] = data['purpose'].apply(hash)\n",
    "data['addr_state'] = data['addr_state'].apply(hash)\n",
    "\n",
    "# Preview the data\n",
    "data.head(1)\n"
   ]
  },
  {
   "cell_type": "code",
   "execution_count": 28,
   "metadata": {
    "collapsed": false
   },
   "outputs": [],
   "source": [
    "#use this function to randomly select the features\n",
    "#we should look at a few thousand scenarios as we explore the best scores\n",
    "def RandomFeatures():\n",
    "    features = df_features.columns.values.tolist()\n",
    "    results = list()\n",
    "    for f in features:\n",
    "        randomNumber = random.randint(1, 10)\n",
    "        if randomNumber >= 5:\n",
    "            results.append(f)\n",
    "        \n",
    "    return results\n"
   ]
  },
  {
   "cell_type": "code",
   "execution_count": 29,
   "metadata": {
    "collapsed": false
   },
   "outputs": [],
   "source": [
    "#automated classifier support\n",
    "'''\n",
    "train_c = features to use\n",
    "model = KNN,LOG_REG, ETC\n",
    "ts = test size (.4)\n",
    "'''\n",
    "def PredStats(train_c,model,ts):\n",
    "    \n",
    "    X = np.matrix(data[train_c])\n",
    "    y = (np.array(data['new_int_rate'])).T\n",
    "\n",
    "    #train the data\n",
    "    X_train,X_test,y_train,y_test = train_test_split(X,y,random_state=0,test_size=ts)\n",
    "\n",
    "    if model == 'KNN_REG':\n",
    "        #knn classifier\n",
    "        knearest_clf = neighbors.KNeighborsRegressor(n_neighbors=2, weights='uniform') \n",
    "        knearest_clf = knearest_clf.fit(X_train, y_train)\n",
    "        y_pred_class = knearest_clf.predict(X_test)\n",
    "    elif model =='LOG_REG':\n",
    "        #logistic regression classifier\n",
    "        logreg = LogisticRegression()\n",
    "        logreg = logreg.fit(X_train, y_train)\n",
    "        y_pred_class = logreg.predict(X_test)\n",
    "    elif model =='BAYES':\n",
    "        #bayes classifier\n",
    "        bayes_clf = BernoulliNB()\n",
    "        #fit classifier\n",
    "        bayes_clf.fit(X_train, y_train)\n",
    "        y_pred_class = bayes_clf.predict(X_test)\n",
    "    else:\n",
    "        print('Input a correct model')\n",
    "        #break\n",
    "\n",
    "    if model == 'LOG_REG':\n",
    "        print('Coefficients: \\n',logreg.coef_)\n",
    "        print('MSE:',metrics.mean_squared_error(y_test,y_pred_class))\n",
    "        print('Variance score: ' , logreg.score(X,y))\n",
    "    elif model == 'KNN_REG':\n",
    "        print ('KNN Score: ',knearest_clf.score(X,y))\n",
    "        print('MSE:',metrics.mean_squared_error(y_test,y_pred_class))\n",
    "        print('Variance score: ' , knearest_clf.score(X,y))\n",
    "    elif model == 'BAYES':\n",
    "        scores = cross_val_score(bayes_clf, X, y, cv=2, scoring='accuracy')\n",
    "        print('Scores: ',scores)\n",
    "        print('Score mean:',scores.mean())\n",
    "    print (train_c)"
   ]
  },
  {
   "cell_type": "code",
   "execution_count": 30,
   "metadata": {
    "collapsed": false
   },
   "outputs": [
    {
     "name": "stdout",
     "output_type": "stream",
     "text": [
      "Scores:  [ 0.24510282  0.2663319 ]\n",
      "Score mean: 0.255717359883\n",
      "['member_id', 'loan_amnt', 'funded_amnt', 'term', 'installment', 'grade', 'sub_grade', 'emp_length', 'verification_status', 'loan_status', 'purpose', 'revol_util', 'out_prncp', 'total_pymnt', 'total_pymnt_inv', 'total_rec_prncp', 'total_rec_int', 'total_rec_late_fee', 'recoveries', 'collection_recovery_fee', 'last_pymnt_d', 'last_pymnt_amnt', 'pub_rec_bankruptcies', 'int_bucket', 'issue_year']\n",
      "Scores:  [ 0.17668843  0.19642161]\n",
      "Score mean: 0.186555019395\n",
      "['member_id', 'loan_amnt', 'funded_amnt', 'funded_amnt_inv', 'int_rate', 'installment', 'grade', 'annual_inc', 'verification_status', 'purpose', 'zip_code', 'delinq_2yrs', 'open_acc', 'pub_rec', 'revol_bal', 'revol_util', 'total_acc', 'out_prncp_inv', 'total_rec_prncp', 'total_rec_int', 'recoveries', 'collection_recovery_fee', 'last_pymnt_d', 'last_pymnt_amnt', 'int_bucket', 'issue_month']\n",
      "Scores:  [ 0.22419842  0.22187012]\n",
      "Score mean: 0.223034273006\n",
      "['funded_amnt', 'funded_amnt_inv', 'term', 'int_rate', 'installment', 'sub_grade', 'emp_length', 'home_ownership', 'annual_inc', 'loan_status', 'pymnt_plan', 'zip_code', 'addr_state', 'dti', 'delinq_2yrs', 'inq_last_6mths', 'revol_bal', 'revol_util', 'out_prncp_inv', 'total_pymnt', 'total_pymnt_inv', 'total_rec_prncp', 'total_rec_int', 'collection_recovery_fee', 'last_pymnt_amnt', 'last_credit_pull_d', 'pub_rec_bankruptcies', 'int_bucket']\n",
      "Scores:  [ 0.21031089  0.20885335]\n",
      "Score mean: 0.209582120006\n",
      "['member_id', 'loan_amnt', 'funded_amnt', 'funded_amnt_inv', 'int_rate', 'installment', 'sub_grade', 'home_ownership', 'loan_status', 'purpose', 'zip_code', 'addr_state', 'delinq_2yrs', 'earliest_cr_line', 'open_acc', 'pub_rec', 'revol_bal', 'total_acc', 'out_prncp_inv', 'total_pymnt', 'total_pymnt_inv', 'total_rec_prncp', 'recoveries', 'collection_recovery_fee', 'last_pymnt_d', 'last_credit_pull_d']\n",
      "Scores:  [ 0.25670013  0.26891576]\n",
      "Score mean: 0.262807941662\n",
      "['funded_amnt_inv', 'term', 'installment', 'grade', 'sub_grade', 'annual_inc', 'verification_status', 'loan_status', 'pymnt_plan', 'purpose', 'zip_code', 'dti', 'inq_last_6mths', 'pub_rec', 'revol_bal', 'revol_util', 'total_acc', 'out_prncp_inv', 'total_pymnt', 'total_pymnt_inv', 'total_rec_int', 'recoveries', 'collection_recovery_fee', 'last_pymnt_d', 'last_credit_pull_d', 'pub_rec_bankruptcies', 'issue_year', 'issue_month']\n"
     ]
    }
   ],
   "source": [
    "# Look for the best score\n",
    "for i in range(5):\n",
    "    features= RandomFeatures()\n",
    "    PredStats(features,\"BAYES\",.4)"
   ]
  },
  {
   "cell_type": "code",
   "execution_count": null,
   "metadata": {
    "collapsed": false
   },
   "outputs": [],
   "source": []
  },
  {
   "cell_type": "code",
   "execution_count": null,
   "metadata": {
    "collapsed": true
   },
   "outputs": [],
   "source": []
  }
 ],
 "metadata": {
  "anaconda-cloud": {},
  "kernelspec": {
   "display_name": "Python [Root]",
   "language": "python",
   "name": "Python [Root]"
  },
  "language_info": {
   "codemirror_mode": {
    "name": "ipython",
    "version": 2
   },
   "file_extension": ".py",
   "mimetype": "text/x-python",
   "name": "python",
   "nbconvert_exporter": "python",
   "pygments_lexer": "ipython2",
   "version": "2.7.12"
  }
 },
 "nbformat": 4,
 "nbformat_minor": 0
}
