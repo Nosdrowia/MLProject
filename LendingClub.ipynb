{
 "cells": [
  {
   "cell_type": "markdown",
   "metadata": {
    "collapsed": true
   },
   "source": [
    "<h1><font color='blue'>Lending Club</font></h1>"
   ]
  },
  {
   "cell_type": "code",
   "execution_count": 1,
   "metadata": {
    "collapsed": false
   },
   "outputs": [],
   "source": [
    "# Import the python environment libraries\n",
    "import sklearn\n",
    "import numpy as np\n",
    "import pandas as pd\n",
    "#import seaborn as sb\n",
    "#from sklearn.linear_model import SGDClassifier\n",
    "#from sklearn import metrics\n",
    "from sklearn.cross_validation import cross_val_score, KFold, train_test_split\n",
    "from sklearn import neighbors\n",
    "from sklearn.metrics import classification_report\n",
    "from __future__ import print_function\n",
    "import matplotlib.pyplot as plt\n",
    "from sklearn import metrics\n",
    "from sklearn import datasets, linear_model\n",
    "from sklearn.linear_model import LogisticRegression\n",
    "import time\n",
    "from mpl_toolkits.mplot3d import Axes3D\n",
    "from sklearn.cluster import KMeans\n",
    "from sklearn.decomposition import PCA\n",
    "import random\n",
    "import collections\n",
    "from sklearn.naive_bayes import BernoulliNB\n",
    "from sklearn.ensemble import ExtraTreesClassifier, ExtraTreesRegressor\n",
    "from sklearn.feature_selection import RFE\n",
    "from sklearn.tree import DecisionTreeClassifier, DecisionTreeRegressor\n",
    "from sklearn.ensemble import RandomForestClassifier, RandomForestRegressor\n",
    "%matplotlib inline"
   ]
  },
  {
   "cell_type": "code",
   "execution_count": 2,
   "metadata": {
    "collapsed": false
   },
   "outputs": [
    {
     "data": {
      "text/html": [
       "<div>\n",
       "<table border=\"1\" class=\"dataframe\">\n",
       "  <thead>\n",
       "    <tr style=\"text-align: right;\">\n",
       "      <th></th>\n",
       "      <th>id</th>\n",
       "      <th>member_id</th>\n",
       "      <th>loan_amnt</th>\n",
       "      <th>funded_amnt</th>\n",
       "      <th>funded_amnt_inv</th>\n",
       "      <th>term</th>\n",
       "      <th>int_rate</th>\n",
       "      <th>installment</th>\n",
       "      <th>grade</th>\n",
       "      <th>sub_grade</th>\n",
       "      <th>...</th>\n",
       "      <th>recoveries</th>\n",
       "      <th>collection_recovery_fee</th>\n",
       "      <th>last_pymnt_d</th>\n",
       "      <th>last_pymnt_amnt</th>\n",
       "      <th>last_credit_pull_d</th>\n",
       "      <th>pub_rec_bankruptcies</th>\n",
       "      <th>new_int_rate</th>\n",
       "      <th>target</th>\n",
       "      <th>issue_year</th>\n",
       "      <th>issue_month</th>\n",
       "    </tr>\n",
       "  </thead>\n",
       "  <tbody>\n",
       "    <tr>\n",
       "      <th>0</th>\n",
       "      <td>1077501</td>\n",
       "      <td>1296599</td>\n",
       "      <td>5000</td>\n",
       "      <td>5000</td>\n",
       "      <td>4975.0</td>\n",
       "      <td>36</td>\n",
       "      <td>0.1065</td>\n",
       "      <td>162.87</td>\n",
       "      <td>B</td>\n",
       "      <td>B2</td>\n",
       "      <td>...</td>\n",
       "      <td>0.0</td>\n",
       "      <td>0.0</td>\n",
       "      <td>42384</td>\n",
       "      <td>171.62</td>\n",
       "      <td>42659</td>\n",
       "      <td>0</td>\n",
       "      <td>11</td>\n",
       "      <td>2</td>\n",
       "      <td>2016</td>\n",
       "      <td>12</td>\n",
       "    </tr>\n",
       "  </tbody>\n",
       "</table>\n",
       "<p>1 rows × 46 columns</p>\n",
       "</div>"
      ],
      "text/plain": [
       "        id member_id  loan_amnt  funded_amnt  funded_amnt_inv  term  int_rate  \\\n",
       "0  1077501   1296599       5000         5000           4975.0    36    0.1065   \n",
       "\n",
       "   installment grade sub_grade     ...      recoveries  \\\n",
       "0       162.87     B        B2     ...             0.0   \n",
       "\n",
       "  collection_recovery_fee  last_pymnt_d last_pymnt_amnt last_credit_pull_d  \\\n",
       "0                     0.0         42384          171.62              42659   \n",
       "\n",
       "  pub_rec_bankruptcies new_int_rate target  issue_year issue_month  \n",
       "0                    0           11      2        2016          12  \n",
       "\n",
       "[1 rows x 46 columns]"
      ]
     },
     "execution_count": 2,
     "metadata": {},
     "output_type": "execute_result"
    }
   ],
   "source": [
    "# Import the data \n",
    "data = pd.read_csv(\"data.csv\", parse_dates = [1])\n",
    "\n",
    "#Adding additional dates to the dataframe \n",
    "df_date_split = pd.DatetimeIndex(data['issue_d'])\n",
    "data['issue_year'] = df_date_split.year\n",
    "data['issue_month'] = df_date_split.month\n",
    "\n",
    "# Setting the initial features\n",
    "df_features = data.copy()\n",
    "del df_features['id']\n",
    "del df_features['new_int_rate']\n",
    "del df_features['issue_d']\n",
    "\n",
    "\n",
    "# Preview the data\n",
    "data.head(1)\n"
   ]
  },
  {
   "cell_type": "code",
   "execution_count": 3,
   "metadata": {
    "collapsed": false
   },
   "outputs": [
    {
     "name": "stdout",
     "output_type": "stream",
     "text": [
      "<class 'pandas.core.frame.DataFrame'>\n",
      "RangeIndex: 41034 entries, 0 to 41033\n",
      "Data columns (total 46 columns):\n",
      "id                         41034 non-null int64\n",
      "member_id                  41034 non-null object\n",
      "loan_amnt                  41034 non-null int64\n",
      "funded_amnt                41034 non-null int64\n",
      "funded_amnt_inv            41034 non-null float64\n",
      "term                       41034 non-null int64\n",
      "int_rate                   41034 non-null float64\n",
      "installment                41034 non-null float64\n",
      "grade                      41034 non-null object\n",
      "sub_grade                  41034 non-null object\n",
      "emp_length                 41034 non-null int64\n",
      "home_ownership             41034 non-null object\n",
      "annual_inc                 41034 non-null float64\n",
      "verification_status        41034 non-null object\n",
      "issue_d                    41034 non-null object\n",
      "loan_status                41034 non-null object\n",
      "pymnt_plan                 41034 non-null object\n",
      "purpose                    41034 non-null object\n",
      "zip_code                   41034 non-null int64\n",
      "addr_state                 41034 non-null object\n",
      "dti                        41034 non-null float64\n",
      "delinq_2yrs                41034 non-null int64\n",
      "earliest_cr_line           41034 non-null int64\n",
      "inq_last_6mths             41034 non-null int64\n",
      "open_acc                   41034 non-null int64\n",
      "pub_rec                    41034 non-null int64\n",
      "revol_bal                  41034 non-null int64\n",
      "revol_util                 41034 non-null float64\n",
      "total_acc                  41034 non-null int64\n",
      "out_prncp                  41034 non-null float64\n",
      "out_prncp_inv              41034 non-null float64\n",
      "total_pymnt                41034 non-null float64\n",
      "total_pymnt_inv            41034 non-null float64\n",
      "total_rec_prncp            41034 non-null float64\n",
      "total_rec_int              41034 non-null float64\n",
      "total_rec_late_fee         41034 non-null float64\n",
      "recoveries                 41034 non-null float64\n",
      "collection_recovery_fee    41034 non-null float64\n",
      "last_pymnt_d               41034 non-null int64\n",
      "last_pymnt_amnt            41034 non-null float64\n",
      "last_credit_pull_d         41034 non-null int64\n",
      "pub_rec_bankruptcies       41034 non-null int64\n",
      "new_int_rate               41034 non-null int64\n",
      "target                     41034 non-null int64\n",
      "issue_year                 41034 non-null int32\n",
      "issue_month                41034 non-null int32\n",
      "dtypes: float64(16), int32(2), int64(18), object(10)\n",
      "memory usage: 14.1+ MB\n"
     ]
    }
   ],
   "source": [
    "data.info()"
   ]
  },
  {
   "cell_type": "code",
   "execution_count": 4,
   "metadata": {
    "collapsed": false
   },
   "outputs": [
    {
     "data": {
      "text/html": [
       "<div>\n",
       "<table border=\"1\" class=\"dataframe\">\n",
       "  <thead>\n",
       "    <tr style=\"text-align: right;\">\n",
       "      <th></th>\n",
       "      <th>id</th>\n",
       "      <th>loan_amnt</th>\n",
       "      <th>funded_amnt</th>\n",
       "      <th>funded_amnt_inv</th>\n",
       "      <th>term</th>\n",
       "      <th>int_rate</th>\n",
       "      <th>installment</th>\n",
       "      <th>emp_length</th>\n",
       "      <th>annual_inc</th>\n",
       "      <th>zip_code</th>\n",
       "      <th>...</th>\n",
       "      <th>recoveries</th>\n",
       "      <th>collection_recovery_fee</th>\n",
       "      <th>last_pymnt_d</th>\n",
       "      <th>last_pymnt_amnt</th>\n",
       "      <th>last_credit_pull_d</th>\n",
       "      <th>pub_rec_bankruptcies</th>\n",
       "      <th>new_int_rate</th>\n",
       "      <th>target</th>\n",
       "      <th>issue_year</th>\n",
       "      <th>issue_month</th>\n",
       "    </tr>\n",
       "  </thead>\n",
       "  <tbody>\n",
       "    <tr>\n",
       "      <th>count</th>\n",
       "      <td>4.103400e+04</td>\n",
       "      <td>41034.000000</td>\n",
       "      <td>41034.000000</td>\n",
       "      <td>41034.000000</td>\n",
       "      <td>41034.000000</td>\n",
       "      <td>41034.000000</td>\n",
       "      <td>41034.000000</td>\n",
       "      <td>41034.000000</td>\n",
       "      <td>4.103400e+04</td>\n",
       "      <td>41034.000000</td>\n",
       "      <td>...</td>\n",
       "      <td>41034.000000</td>\n",
       "      <td>41034.000000</td>\n",
       "      <td>41034.000000</td>\n",
       "      <td>41034.000000</td>\n",
       "      <td>41034.000000</td>\n",
       "      <td>41034.000000</td>\n",
       "      <td>41034.000000</td>\n",
       "      <td>41034.000000</td>\n",
       "      <td>41034.0</td>\n",
       "      <td>41034.000000</td>\n",
       "    </tr>\n",
       "    <tr>\n",
       "      <th>mean</th>\n",
       "      <td>6.803563e+05</td>\n",
       "      <td>11165.055198</td>\n",
       "      <td>10892.249720</td>\n",
       "      <td>10410.807692</td>\n",
       "      <td>42.421992</td>\n",
       "      <td>0.121650</td>\n",
       "      <td>323.607605</td>\n",
       "      <td>4.955500</td>\n",
       "      <td>6.931481e+04</td>\n",
       "      <td>50182.273237</td>\n",
       "      <td>...</td>\n",
       "      <td>98.520570</td>\n",
       "      <td>13.321207</td>\n",
       "      <td>42550.677414</td>\n",
       "      <td>2663.782731</td>\n",
       "      <td>42588.558464</td>\n",
       "      <td>0.045182</td>\n",
       "      <td>12.156748</td>\n",
       "      <td>1.883852</td>\n",
       "      <td>2016.0</td>\n",
       "      <td>7.190574</td>\n",
       "    </tr>\n",
       "    <tr>\n",
       "      <th>std</th>\n",
       "      <td>2.051338e+05</td>\n",
       "      <td>7436.656392</td>\n",
       "      <td>7168.313752</td>\n",
       "      <td>7094.097797</td>\n",
       "      <td>10.624903</td>\n",
       "      <td>0.037359</td>\n",
       "      <td>208.869736</td>\n",
       "      <td>3.460698</td>\n",
       "      <td>6.356160e+04</td>\n",
       "      <td>32869.554989</td>\n",
       "      <td>...</td>\n",
       "      <td>699.759165</td>\n",
       "      <td>153.860237</td>\n",
       "      <td>104.625030</td>\n",
       "      <td>4424.451962</td>\n",
       "      <td>97.330115</td>\n",
       "      <td>0.208642</td>\n",
       "      <td>3.729718</td>\n",
       "      <td>0.748982</td>\n",
       "      <td>0.0</td>\n",
       "      <td>3.365695</td>\n",
       "    </tr>\n",
       "    <tr>\n",
       "      <th>min</th>\n",
       "      <td>5.473400e+04</td>\n",
       "      <td>500.000000</td>\n",
       "      <td>500.000000</td>\n",
       "      <td>0.000000</td>\n",
       "      <td>36.000000</td>\n",
       "      <td>0.054200</td>\n",
       "      <td>15.670000</td>\n",
       "      <td>0.000000</td>\n",
       "      <td>3.300000e+03</td>\n",
       "      <td>700.000000</td>\n",
       "      <td>...</td>\n",
       "      <td>0.000000</td>\n",
       "      <td>0.000000</td>\n",
       "      <td>42378.000000</td>\n",
       "      <td>0.010000</td>\n",
       "      <td>42378.000000</td>\n",
       "      <td>0.000000</td>\n",
       "      <td>5.000000</td>\n",
       "      <td>1.000000</td>\n",
       "      <td>2016.0</td>\n",
       "      <td>1.000000</td>\n",
       "    </tr>\n",
       "    <tr>\n",
       "      <th>25%</th>\n",
       "      <td>5.115498e+05</td>\n",
       "      <td>5400.000000</td>\n",
       "      <td>5200.000000</td>\n",
       "      <td>5000.000000</td>\n",
       "      <td>36.000000</td>\n",
       "      <td>0.096200</td>\n",
       "      <td>166.500000</td>\n",
       "      <td>2.000000</td>\n",
       "      <td>4.080000e+04</td>\n",
       "      <td>20000.000000</td>\n",
       "      <td>...</td>\n",
       "      <td>0.000000</td>\n",
       "      <td>0.000000</td>\n",
       "      <td>42469.000000</td>\n",
       "      <td>216.590000</td>\n",
       "      <td>42505.000000</td>\n",
       "      <td>0.000000</td>\n",
       "      <td>10.000000</td>\n",
       "      <td>1.000000</td>\n",
       "      <td>2016.0</td>\n",
       "      <td>4.000000</td>\n",
       "    </tr>\n",
       "    <tr>\n",
       "      <th>50%</th>\n",
       "      <td>6.551805e+05</td>\n",
       "      <td>9975.000000</td>\n",
       "      <td>9600.000000</td>\n",
       "      <td>8975.000000</td>\n",
       "      <td>36.000000</td>\n",
       "      <td>0.119900</td>\n",
       "      <td>278.530000</td>\n",
       "      <td>4.000000</td>\n",
       "      <td>5.927800e+04</td>\n",
       "      <td>45000.000000</td>\n",
       "      <td>...</td>\n",
       "      <td>0.000000</td>\n",
       "      <td>0.000000</td>\n",
       "      <td>42562.000000</td>\n",
       "      <td>545.645000</td>\n",
       "      <td>42655.000000</td>\n",
       "      <td>0.000000</td>\n",
       "      <td>12.000000</td>\n",
       "      <td>2.000000</td>\n",
       "      <td>2016.0</td>\n",
       "      <td>7.000000</td>\n",
       "    </tr>\n",
       "    <tr>\n",
       "      <th>75%</th>\n",
       "      <td>8.324275e+05</td>\n",
       "      <td>15000.000000</td>\n",
       "      <td>15000.000000</td>\n",
       "      <td>14400.000000</td>\n",
       "      <td>60.000000</td>\n",
       "      <td>0.147400</td>\n",
       "      <td>429.695000</td>\n",
       "      <td>9.000000</td>\n",
       "      <td>8.300000e+04</td>\n",
       "      <td>85000.000000</td>\n",
       "      <td>...</td>\n",
       "      <td>0.000000</td>\n",
       "      <td>0.000000</td>\n",
       "      <td>42653.000000</td>\n",
       "      <td>3268.897500</td>\n",
       "      <td>42659.000000</td>\n",
       "      <td>0.000000</td>\n",
       "      <td>15.000000</td>\n",
       "      <td>2.000000</td>\n",
       "      <td>2016.0</td>\n",
       "      <td>10.000000</td>\n",
       "    </tr>\n",
       "    <tr>\n",
       "      <th>max</th>\n",
       "      <td>1.077501e+06</td>\n",
       "      <td>35000.000000</td>\n",
       "      <td>35000.000000</td>\n",
       "      <td>35000.000000</td>\n",
       "      <td>60.000000</td>\n",
       "      <td>0.245900</td>\n",
       "      <td>1305.190000</td>\n",
       "      <td>10.000000</td>\n",
       "      <td>6.000000e+06</td>\n",
       "      <td>99900.000000</td>\n",
       "      <td>...</td>\n",
       "      <td>29623.350000</td>\n",
       "      <td>7002.190000</td>\n",
       "      <td>42719.000000</td>\n",
       "      <td>36115.200000</td>\n",
       "      <td>42719.000000</td>\n",
       "      <td>2.000000</td>\n",
       "      <td>25.000000</td>\n",
       "      <td>4.000000</td>\n",
       "      <td>2016.0</td>\n",
       "      <td>12.000000</td>\n",
       "    </tr>\n",
       "  </tbody>\n",
       "</table>\n",
       "<p>8 rows × 36 columns</p>\n",
       "</div>"
      ],
      "text/plain": [
       "                 id     loan_amnt   funded_amnt  funded_amnt_inv  \\\n",
       "count  4.103400e+04  41034.000000  41034.000000     41034.000000   \n",
       "mean   6.803563e+05  11165.055198  10892.249720     10410.807692   \n",
       "std    2.051338e+05   7436.656392   7168.313752      7094.097797   \n",
       "min    5.473400e+04    500.000000    500.000000         0.000000   \n",
       "25%    5.115498e+05   5400.000000   5200.000000      5000.000000   \n",
       "50%    6.551805e+05   9975.000000   9600.000000      8975.000000   \n",
       "75%    8.324275e+05  15000.000000  15000.000000     14400.000000   \n",
       "max    1.077501e+06  35000.000000  35000.000000     35000.000000   \n",
       "\n",
       "               term      int_rate   installment    emp_length    annual_inc  \\\n",
       "count  41034.000000  41034.000000  41034.000000  41034.000000  4.103400e+04   \n",
       "mean      42.421992      0.121650    323.607605      4.955500  6.931481e+04   \n",
       "std       10.624903      0.037359    208.869736      3.460698  6.356160e+04   \n",
       "min       36.000000      0.054200     15.670000      0.000000  3.300000e+03   \n",
       "25%       36.000000      0.096200    166.500000      2.000000  4.080000e+04   \n",
       "50%       36.000000      0.119900    278.530000      4.000000  5.927800e+04   \n",
       "75%       60.000000      0.147400    429.695000      9.000000  8.300000e+04   \n",
       "max       60.000000      0.245900   1305.190000     10.000000  6.000000e+06   \n",
       "\n",
       "           zip_code      ...         recoveries  collection_recovery_fee  \\\n",
       "count  41034.000000      ...       41034.000000             41034.000000   \n",
       "mean   50182.273237      ...          98.520570                13.321207   \n",
       "std    32869.554989      ...         699.759165               153.860237   \n",
       "min      700.000000      ...           0.000000                 0.000000   \n",
       "25%    20000.000000      ...           0.000000                 0.000000   \n",
       "50%    45000.000000      ...           0.000000                 0.000000   \n",
       "75%    85000.000000      ...           0.000000                 0.000000   \n",
       "max    99900.000000      ...       29623.350000              7002.190000   \n",
       "\n",
       "       last_pymnt_d  last_pymnt_amnt  last_credit_pull_d  \\\n",
       "count  41034.000000     41034.000000        41034.000000   \n",
       "mean   42550.677414      2663.782731        42588.558464   \n",
       "std      104.625030      4424.451962           97.330115   \n",
       "min    42378.000000         0.010000        42378.000000   \n",
       "25%    42469.000000       216.590000        42505.000000   \n",
       "50%    42562.000000       545.645000        42655.000000   \n",
       "75%    42653.000000      3268.897500        42659.000000   \n",
       "max    42719.000000     36115.200000        42719.000000   \n",
       "\n",
       "       pub_rec_bankruptcies  new_int_rate        target  issue_year  \\\n",
       "count          41034.000000  41034.000000  41034.000000     41034.0   \n",
       "mean               0.045182     12.156748      1.883852      2016.0   \n",
       "std                0.208642      3.729718      0.748982         0.0   \n",
       "min                0.000000      5.000000      1.000000      2016.0   \n",
       "25%                0.000000     10.000000      1.000000      2016.0   \n",
       "50%                0.000000     12.000000      2.000000      2016.0   \n",
       "75%                0.000000     15.000000      2.000000      2016.0   \n",
       "max                2.000000     25.000000      4.000000      2016.0   \n",
       "\n",
       "        issue_month  \n",
       "count  41034.000000  \n",
       "mean       7.190574  \n",
       "std        3.365695  \n",
       "min        1.000000  \n",
       "25%        4.000000  \n",
       "50%        7.000000  \n",
       "75%       10.000000  \n",
       "max       12.000000  \n",
       "\n",
       "[8 rows x 36 columns]"
      ]
     },
     "execution_count": 4,
     "metadata": {},
     "output_type": "execute_result"
    }
   ],
   "source": [
    "data.describe()"
   ]
  },
  {
   "cell_type": "code",
   "execution_count": 5,
   "metadata": {
    "collapsed": false
   },
   "outputs": [
    {
     "data": {
      "text/plain": [
       "B    12077\n",
       "A    10008\n",
       "C     8402\n",
       "D     5744\n",
       "E     3171\n",
       "F     1196\n",
       "G      436\n",
       "Name: grade, dtype: int64"
      ]
     },
     "execution_count": 5,
     "metadata": {},
     "output_type": "execute_result"
    }
   ],
   "source": [
    "data['grade'].value_counts()"
   ]
  },
  {
   "cell_type": "code",
   "execution_count": 6,
   "metadata": {
    "collapsed": false
   },
   "outputs": [
    {
     "data": {
      "text/plain": [
       "<matplotlib.axes._subplots.AxesSubplot at 0xb4df358>"
      ]
     },
     "execution_count": 6,
     "metadata": {},
     "output_type": "execute_result"
    },
    {
     "data": {
      "image/png": "[encoded data removed]",
      "text/plain": [
       "<matplotlib.figure.Figure at 0xb4df470>"
      ]
     },
     "metadata": {},
     "output_type": "display_data"
    }
   ],
   "source": [
    "data['int_rate'].hist(bins=50)"
   ]
  },
  {
   "cell_type": "code",
   "execution_count": 7,
   "metadata": {
    "collapsed": false
   },
   "outputs": [
    {
     "data": {
      "image/png": "[encoded data removed]",
      "text/plain": [
       "<matplotlib.figure.Figure at 0xbb0a208>"
      ]
     },
     "metadata": {},
     "output_type": "display_data"
    }
   ],
   "source": [
    "# Boxplot for int_rate over grade\n",
    "data.boxplot(column=\"int_rate\", by= \"grade\",figsize= (8,8),patch_artist=True)\n",
    "plt.style.use('ggplot')"
   ]
  },
  {
   "cell_type": "code",
   "execution_count": 8,
   "metadata": {
    "collapsed": false
   },
   "outputs": [
    {
     "data": {
      "text/plain": [
       "<matplotlib.axes._subplots.AxesSubplot at 0xb816e80>"
      ]
     },
     "execution_count": 8,
     "metadata": {},
     "output_type": "execute_result"
    },
    {
     "data": {
      "image/png": "[encoded data removed]",
      "text/plain": [
       "<matplotlib.figure.Figure at 0xbaf9c18>"
      ]
     },
     "metadata": {},
     "output_type": "display_data"
    }
   ],
   "source": [
    "# Pie chart representing grade distributions\n",
    "explode = (0,0,0,0.1,0.1,0.2,0.3)\n",
    "data['grade'].value_counts().plot.pie(explode=explode, autopct='%1.0f%%',)\n"
   ]
  },
  {
   "cell_type": "code",
   "execution_count": 9,
   "metadata": {
    "collapsed": false
   },
   "outputs": [
    {
     "name": "stdout",
     "output_type": "stream",
     "text": [
      "46 columns: Index([u'id', u'member_id', u'loan_amnt', u'funded_amnt', u'funded_amnt_inv',\n",
      "       u'term', u'int_rate', u'installment', u'grade', u'sub_grade',\n",
      "       u'emp_length', u'home_ownership', u'annual_inc', u'verification_status',\n",
      "       u'issue_d', u'loan_status', u'pymnt_plan', u'purpose', u'zip_code',\n",
      "       u'addr_state', u'dti', u'delinq_2yrs', u'earliest_cr_line',\n",
      "       u'inq_last_6mths', u'open_acc', u'pub_rec', u'revol_bal', u'revol_util',\n",
      "       u'total_acc', u'out_prncp', u'out_prncp_inv', u'total_pymnt',\n",
      "       u'total_pymnt_inv', u'total_rec_prncp', u'total_rec_int',\n",
      "       u'total_rec_late_fee', u'recoveries', u'collection_recovery_fee',\n",
      "       u'last_pymnt_d', u'last_pymnt_amnt', u'last_credit_pull_d',\n",
      "       u'pub_rec_bankruptcies', u'new_int_rate', u'target', u'issue_year',\n",
      "       u'issue_month'],\n",
      "      dtype='object')\n"
     ]
    }
   ],
   "source": [
    "# What columns do we have?\n",
    "print(\"{} columns: {}\".format(len(data.columns), data.columns))"
   ]
  },
  {
   "cell_type": "code",
   "execution_count": 10,
   "metadata": {
    "collapsed": false
   },
   "outputs": [],
   "source": [
    "# Hash the dataset until we determine columns that require it\n",
    "\n",
    "data['grade'] = data['grade'].apply(hash)\n",
    "data['sub_grade'] = data['sub_grade'].apply(hash)\n",
    "data['home_ownership'] = data['home_ownership'].apply(hash)\n",
    "data['verification_status'] = data['verification_status'].apply(hash)\n",
    "data['loan_status'] = data['loan_status'].apply(hash)\n",
    "data['pymnt_plan'] = data['pymnt_plan'].apply(hash)\n",
    "data['purpose'] = data['purpose'].apply(hash)\n",
    "data['addr_state'] = data['addr_state'].apply(hash)\n",
    "\n",
    "\n"
   ]
  },
  {
   "cell_type": "code",
   "execution_count": 16,
   "metadata": {
    "collapsed": false
   },
   "outputs": [],
   "source": [
    "feature_cols = ['loan_amnt', 'funded_amnt', 'funded_amnt_inv', 'term', 'installment', #'grade', 'sub_grade',\n",
    "       'emp_length', 'home_ownership', 'annual_inc', 'verification_status', \n",
    "       'loan_status', 'pymnt_plan', \n",
    "       'purpose', \n",
    "       'zip_code', 'addr_state', \n",
    "       'dti', #'delinq_2yrs', 'earliest_cr_line',\n",
    "       'inq_last_6mths', 'open_acc', 'pub_rec', 'revol_bal', 'revol_util',\n",
    "       'total_acc', \n",
    "       'out_prncp', 'out_prncp_inv', 'total_pymnt',\n",
    "       'total_pymnt_inv', 'total_rec_prncp', 'total_rec_int',\n",
    "       'total_rec_late_fee', 'recoveries', 'collection_recovery_fee',\n",
    "       'last_pymnt_d', 'last_pymnt_amnt', 'last_credit_pull_d',\n",
    "       'pub_rec_bankruptcies', #'new_int_rate', 'int_bucket', \n",
    "       'issue_year','issue_month'\n",
    "        ]\n",
    "\n",
    "target_col = 'int_rate'\n",
    "\n",
    "\n",
    "# Extract desired features and target column\n",
    "X = data[feature_cols]\n",
    "Y = np.asarray(data['int_rate'], dtype=\"|S6\")\n",
    "\n"
   ]
  },
  {
   "cell_type": "code",
   "execution_count": 17,
   "metadata": {
    "collapsed": false
   },
   "outputs": [
    {
     "name": "stdout",
     "output_type": "stream",
     "text": [
      "[  3.38722086e-02   3.37451401e-02   3.91775630e-02   4.02887446e-03\n",
      "   4.92813817e-02   3.71831874e-02   2.35554597e-02   3.91377770e-02\n",
      "   2.13789711e-02   8.19892504e-03   9.88089829e-06   3.22715459e-02\n",
      "   4.01499167e-02   3.73113388e-02   4.04898464e-02   3.05674130e-02\n",
      "   3.90758196e-02   5.35292735e-03   3.85406464e-02   4.72805104e-02\n",
      "   3.92309384e-02   6.56844654e-04   7.16650586e-04   4.07773801e-02\n",
      "   4.20201587e-02   3.40986341e-02   5.27269218e-02   7.43211980e-03\n",
      "   7.60709712e-03   6.26321269e-03   4.11877009e-02   4.06488279e-02\n",
      "   3.48066513e-02   4.30002172e-03   0.00000000e+00   4.69175068e-02]\n",
      "Top 10 important features:\n",
      "            feature  importance\n",
      "26    total_rec_int    0.052727\n",
      "4       installment    0.049281\n",
      "19       revol_util    0.047281\n",
      "35      issue_month    0.046918\n",
      "24  total_pymnt_inv    0.042020\n",
      "30     last_pymnt_d    0.041188\n",
      "23      total_pymnt    0.040777\n",
      "31  last_pymnt_amnt    0.040649\n",
      "14              dti    0.040490\n",
      "12         zip_code    0.040150\n"
     ]
    }
   ],
   "source": [
    "# feature extraction\n",
    "model = ExtraTreesClassifier()\n",
    "model.fit(X, Y)\n",
    "print(model.feature_importances_)\n",
    "\n",
    "# Analyze feature importance\n",
    "feature_imps = pd.DataFrame({'feature': X.columns, 'importance': model.feature_importances_})\n",
    "feature_imps.sort_values(by='importance', ascending=False, inplace=True)\n",
    "print(\"Top 10 important features:\")\n",
    "print(feature_imps[:10])"
   ]
  },
  {
   "cell_type": "code",
   "execution_count": 12,
   "metadata": {
    "collapsed": false
   },
   "outputs": [
    {
     "name": "stdout",
     "output_type": "stream",
     "text": [
      "[19 22  9 29  1 16 24 13 25 28 36 21 10 17  5 23 14 30  7  6 11 33 34  3 12\n",
      " 15  2 31 26 27  8  4 18 32 35 20]\n",
      "Top 10 important features:\n",
      "                    feature  importance\n",
      "10               pymnt_plan          36\n",
      "34               issue_year          35\n",
      "22            out_prncp_inv          34\n",
      "21                out_prncp          33\n",
      "33     pub_rec_bankruptcies          32\n",
      "27       total_rec_late_fee          31\n",
      "17                  pub_rec          30\n",
      "3                      term          29\n",
      "9               loan_status          28\n",
      "29  collection_recovery_fee          27\n"
     ]
    }
   ],
   "source": [
    "# create a base classifier used to evaluate a subset of attributes\n",
    "model = DecisionTreeClassifier(random_state=42)\n",
    "names = data[feature_cols]\n",
    "\n",
    "#rank all features, i.e continue the elimination until the last one\n",
    "rfe = RFE(model, n_features_to_select=1)\n",
    "rfe.fit(X,Y)\n",
    "print(rfe.ranking_)\n",
    " \n",
    "# Analyze feature importance\n",
    "feature_imps = pd.DataFrame({'feature': X.columns, 'importance': rfe.ranking_})\n",
    "feature_imps.sort_values(by='importance', ascending=False, inplace=True)\n",
    "print(\"Top 10 important features:\")\n",
    "print(feature_imps[:10])"
   ]
  },
  {
   "cell_type": "code",
   "execution_count": 13,
   "metadata": {
    "collapsed": false
   },
   "outputs": [
    {
     "name": "stdout",
     "output_type": "stream",
     "text": [
      "Top 10 important features:\n",
      "            feature  importance\n",
      "26    total_rec_int    0.063109\n",
      "4       installment    0.057182\n",
      "19       revol_util    0.052791\n",
      "31  last_pymnt_amnt    0.049150\n",
      "14              dti    0.048058\n",
      "18        revol_bal    0.047195\n",
      "12         zip_code    0.045744\n",
      "7        annual_inc    0.044139\n",
      "23      total_pymnt    0.044089\n",
      "24  total_pymnt_inv    0.043502\n"
     ]
    }
   ],
   "source": [
    "# feature selection using random forest\n",
    "randomforest = RandomForestClassifier()\n",
    "randomforest.fit(X, Y)\n",
    " \n",
    "# Analyze feature importance\n",
    "feature_imps = pd.DataFrame({'feature': X.columns, 'importance': randomforest.feature_importances_})\n",
    "feature_imps.sort_values(by='importance', ascending=False, inplace=True)\n",
    "print(\"Top 10 important features:\")\n",
    "print(feature_imps[:10])"
   ]
  },
  {
   "cell_type": "code",
   "execution_count": 14,
   "metadata": {
    "collapsed": false
   },
   "outputs": [],
   "source": [
    "#use this function to randomly select the features\n",
    "#we should look at a few thousand scenarios as we explore the best scores\n",
    "def RandomFeatures():\n",
    "    features = df_features.columns.values.tolist()\n",
    "    results = list()\n",
    "    for f in features:\n",
    "        randomNumber = random.randint(1, 10)\n",
    "        if randomNumber >= 5:\n",
    "            results.append(f)\n",
    "        \n",
    "    return results\n"
   ]
  },
  {
   "cell_type": "code",
   "execution_count": 28,
   "metadata": {
    "collapsed": false
   },
   "outputs": [],
   "source": [
    "#automated classifier support\n",
    "'''\n",
    "model = KNN,LOG_REG, ETC\n",
    "ts = test size (.4)\n",
    "'''\n",
    "from pandas_ml import ConfusionMatrix\n",
    "import matplotlib.pyplot as plt\n",
    "\n",
    "def PredStats(model,ts):\n",
    "    \n",
    "    feature_cols = ['loan_amnt', 'funded_amnt', 'funded_amnt_inv', 'term', 'installment', #'grade', 'sub_grade',\n",
    "       'emp_length', 'home_ownership', 'annual_inc', 'verification_status', \n",
    "       'loan_status', 'pymnt_plan', \n",
    "       'purpose', \n",
    "       'zip_code', 'addr_state', \n",
    "       'dti', #'delinq_2yrs', 'earliest_cr_line',\n",
    "       'inq_last_6mths', 'open_acc', 'pub_rec', 'revol_bal', 'revol_util',\n",
    "       'total_acc', \n",
    "       'out_prncp', 'out_prncp_inv', 'total_pymnt',\n",
    "       'total_pymnt_inv', 'total_rec_prncp', 'total_rec_int',\n",
    "       'total_rec_late_fee', 'recoveries', 'collection_recovery_fee',\n",
    "       'last_pymnt_d', 'last_pymnt_amnt', 'last_credit_pull_d',\n",
    "       'pub_rec_bankruptcies', #'new_int_rate', 'int_bucket', \n",
    "       'issue_year','issue_month'\n",
    "        ]\n",
    "    \n",
    "    X = np.matrix(data[feature_cols])\n",
    "    y = np.asarray(data['target'])\n",
    "    \n",
    "    #train the data\n",
    "    X_train,X_test,y_train,y_test = train_test_split(X,y,random_state=0,test_size=ts)\n",
    "\n",
    "    if model == 'KNN_REG':\n",
    "        #knn regressor\n",
    "        knearest_clf = neighbors.KNeighborsRegressor(n_neighbors=2, weights='uniform') \n",
    "        knearest_clf = knearest_clf.fit(X_train, y_train)\n",
    "        y_pred_class = knearest_clf.predict(X_test)\n",
    "        cm = ConfusionMatrix(y_test, y_pred_class)\n",
    "    elif model =='LOG_REG':\n",
    "        #logistic regression classifier\n",
    "        logreg = LogisticRegression()\n",
    "        logreg = logreg.fit(X_train, y_train)\n",
    "        y_pred_class = logreg.predict(X_test)\n",
    "        cm = ConfusionMatrix(y_test, y_pred_class)\n",
    "    elif model =='SGD_CLF':\n",
    "        #stocastic gradient descent classifier\n",
    "        sdgclf = linear_model.SGDClassifier()\n",
    "        sdgclf = sdgclf.fit(X_train, y_train)\n",
    "        y_pred_class = sdgclf.predict(X_test)\n",
    "    elif model =='KNN_CLF':\n",
    "        #knn classifier\n",
    "        knearest_clf = neighbors.KNeighborsClassifier(n_neighbors=2, weights='uniform') \n",
    "        knearest_clf = knearest_clf.fit(X_train, y_train)\n",
    "        y_pred_class = knearest_clf.predict(X_test)\n",
    "    elif model =='BAYES':\n",
    "        #bayes classifier\n",
    "        bayes_clf = BernoulliNB()\n",
    "        #fit classifier\n",
    "        bayes_clf.fit(X_train, y_train)\n",
    "        y_pred_class = bayes_clf.predict(X_test)\n",
    "    else:\n",
    "        print('Input a correct model')\n",
    "        #break\n",
    "        \n",
    "    #cm.plot()\n",
    "    #print(cm.print_stats())\n",
    "    if model == 'LOG_REG':\n",
    "        print('Coefficients: \\n',logreg.coef_)\n",
    "        print('MSE:',metrics.mean_squared_error(y_test,y_pred_class))\n",
    "        print('Variance score: ' , logreg.score(X,y))\n",
    "        print('R2 score: ' , metrics.r2_score(X,y))\n",
    "    elif model == 'KNN_REG':\n",
    "        print ('KNN Score: ',knearest_clf.score(X,y))\n",
    "        print('MSE:',metrics.mean_squared_error(y_test,y_pred_class))\n",
    "        print('Variance score: ' , knearest_clf.score(X,y))\n",
    "        print('R2 score: ' , metrics.r2_score(X,y))\n",
    "    elif model == 'SGD_CLF':\n",
    "        scores = cross_val_score(sdgclf, X, y, cv=2, scoring='accuracy')\n",
    "        print('Scores: ',scores)\n",
    "        print('Score mean:',scores.mean())\n",
    "    elif model == 'KNN_CLF':\n",
    "        scores = cross_val_score(knearest_clf, X, y, cv=2, scoring='accuracy')\n",
    "        print('Scores: ',scores)\n",
    "        print('Score mean:',scores.mean())\n",
    "    elif model == 'BAYES':\n",
    "        scores = cross_val_score(bayes_clf, X, y, cv=2, scoring='accuracy')\n",
    "        print('Scores: ',scores)\n",
    "        print('Score mean:',scores.mean())\n",
    "\n",
    "\n",
    "\n"
   ]
  },
  {
   "cell_type": "code",
   "execution_count": 30,
   "metadata": {
    "collapsed": false
   },
   "outputs": [
    {
     "name": "stdout",
     "output_type": "stream",
     "text": [
      "Scores:  [ 0.37908178  0.34212322]\n",
      "Score mean: 0.360602501375\n"
     ]
    }
   ],
   "source": [
    "# Look for the best score\n",
    "#for i in range(5):\n",
    "PredStats(\"SGD_CLF\",.4)"
   ]
  },
  {
   "cell_type": "code",
   "execution_count": 31,
   "metadata": {
    "collapsed": false
   },
   "outputs": [
    {
     "name": "stdout",
     "output_type": "stream",
     "text": [
      "Scores:  [ 0.41675602  0.42410801]\n",
      "Score mean: 0.420432016182\n"
     ]
    }
   ],
   "source": [
    "# Look for the best score\n",
    "#for i in range(5):\n",
    "PredStats(\"KNN_CLF\",.4)"
   ]
  },
  {
   "cell_type": "code",
   "execution_count": 32,
   "metadata": {
    "collapsed": false
   },
   "outputs": [
    {
     "name": "stdout",
     "output_type": "stream",
     "text": [
      "Scores:  [ 0.47187835  0.46276077]\n",
      "Score mean: 0.467319561398\n"
     ]
    }
   ],
   "source": [
    "# Look for the best score\n",
    "#for i in range(5):\n",
    "PredStats(\"BAYES\",.4)"
   ]
  },
  {
   "cell_type": "code",
   "execution_count": 33,
   "metadata": {
    "collapsed": false
   },
   "outputs": [
    {
     "data": {
      "text/plain": [
       "-579246432     19169\n",
       "-268137521      5290\n",
       "-2138898509     4180\n",
       "-1656652932     3108\n",
       " 981077433      2260\n",
       " 1807697400     1877\n",
       " 405875049      1582\n",
       "-659397545       972\n",
       "-186727446       727\n",
       " 389019092       604\n",
       "-1063398775      408\n",
       "-2011787987      390\n",
       " 918690210       362\n",
       "-630166846       105\n",
       "Name: purpose, dtype: int64"
      ]
     },
     "execution_count": 33,
     "metadata": {},
     "output_type": "execute_result"
    }
   ],
   "source": [
    "#purpose of the loan\n",
    "data.purpose.value_counts()"
   ]
  },
  {
   "cell_type": "code",
   "execution_count": 34,
   "metadata": {
    "collapsed": false
   },
   "outputs": [
    {
     "data": {
      "text/plain": [
       "-579246432     2728\n",
       "-268137521      933\n",
       "-1656652932     858\n",
       "-2138898509     545\n",
       " 1807697400     395\n",
       " 981077433      320\n",
       " 405875049      190\n",
       "-659397545      138\n",
       "-186727446      114\n",
       " 389019092       85\n",
       "-1063398775      75\n",
       " 918690210       43\n",
       "-2011787987      40\n",
       "-630166846       23\n",
       "Name: purpose, dtype: int64"
      ]
     },
     "execution_count": 34,
     "metadata": {},
     "output_type": "execute_result"
    }
   ],
   "source": [
    "# purpose of the loan for incoming greater than 100,000\n",
    "data[data.annual_inc >=100000].purpose.value_counts()"
   ]
  },
  {
   "cell_type": "code",
   "execution_count": 35,
   "metadata": {
    "collapsed": false
   },
   "outputs": [
    {
     "data": {
      "text/plain": [
       "-579246432     16441\n",
       "-268137521      4357\n",
       "-2138898509     3635\n",
       "-1656652932     2250\n",
       " 981077433      1940\n",
       " 1807697400     1482\n",
       " 405875049      1392\n",
       "-659397545       834\n",
       "-186727446       613\n",
       " 389019092       519\n",
       "-2011787987      350\n",
       "-1063398775      333\n",
       " 918690210       319\n",
       "-630166846        82\n",
       "Name: purpose, dtype: int64"
      ]
     },
     "execution_count": 35,
     "metadata": {},
     "output_type": "execute_result"
    }
   ],
   "source": [
    "#purpose of the loan for incoming less than 100,000\n",
    "data[data.annual_inc < 100000].purpose.value_counts()"
   ]
  },
  {
   "cell_type": "code",
   "execution_count": 36,
   "metadata": {
    "collapsed": false
   },
   "outputs": [
    {
     "data": {
      "text/plain": [
       " 152487765     19314\n",
       "-329577114     18460\n",
       " 1996707235     3126\n",
       " 875434451       134\n",
       "Name: home_ownership, dtype: int64"
      ]
     },
     "execution_count": 36,
     "metadata": {},
     "output_type": "execute_result"
    }
   ],
   "source": [
    "# housing\n",
    "data.home_ownership.value_counts()"
   ]
  },
  {
   "cell_type": "code",
   "execution_count": null,
   "metadata": {
    "collapsed": true
   },
   "outputs": [],
   "source": []
  }
 ],
 "metadata": {
  "anaconda-cloud": {},
  "kernelspec": {
   "display_name": "Python 2",
   "language": "python",
   "name": "python2"
  },
  "language_info": {
   "codemirror_mode": {
    "name": "ipython",
    "version": 2
   },
   "file_extension": ".py",
   "mimetype": "text/x-python",
   "name": "python",
   "nbconvert_exporter": "python",
   "pygments_lexer": "ipython2",
   "version": "2.7.11"
  }
 },
 "nbformat": 4,
 "nbformat_minor": 0
}
