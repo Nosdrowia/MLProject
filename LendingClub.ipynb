{
 "cells": [
  {
   "cell_type": "markdown",
   "metadata": {
    "collapsed": true
   },
   "source": [
    "<h1><font color='blue'>Lending Club</font></h1>"
   ]
  },
  {
   "cell_type": "code",
   "execution_count": 62,
   "metadata": {
    "collapsed": false
   },
   "outputs": [],
   "source": [
    "# Import the python environment libraries\n",
    "import sklearn\n",
    "import numpy as np\n",
    "import pandas as pd\n",
    "#import seaborn as sb\n",
    "#from sklearn.linear_model import SGDClassifier\n",
    "#from sklearn import metrics\n",
    "from sklearn.cross_validation import cross_val_score, KFold, train_test_split\n",
    "from sklearn import neighbors\n",
    "from sklearn.metrics import classification_report\n",
    "from __future__ import print_function\n",
    "import matplotlib.pyplot as plt\n",
    "from sklearn import metrics\n",
    "from sklearn import datasets, linear_model\n",
    "from sklearn.linear_model import LogisticRegression\n",
    "import time\n",
    "from mpl_toolkits.mplot3d import Axes3D\n",
    "from sklearn.cluster import KMeans\n",
    "from sklearn.decomposition import PCA\n",
    "import random\n",
    "import collections\n",
    "from sklearn.naive_bayes import BernoulliNB\n",
    "%matplotlib inline"
   ]
  },
  {
   "cell_type": "code",
   "execution_count": 63,
   "metadata": {
    "collapsed": false
   },
   "outputs": [
    {
     "data": {
      "text/html": [
       "<div>\n",
       "<table border=\"1\" class=\"dataframe\">\n",
       "  <thead>\n",
       "    <tr style=\"text-align: right;\">\n",
       "      <th></th>\n",
       "      <th>id</th>\n",
       "      <th>member_id</th>\n",
       "      <th>loan_amnt</th>\n",
       "      <th>funded_amnt</th>\n",
       "      <th>funded_amnt_inv</th>\n",
       "      <th>term</th>\n",
       "      <th>int_rate</th>\n",
       "      <th>installment</th>\n",
       "    </tr>\n",
       "  </thead>\n",
       "  <tbody>\n",
       "    <tr>\n",
       "      <th>0</th>\n",
       "      <td>55521</td>\n",
       "      <td>107577</td>\n",
       "      <td>1000</td>\n",
       "      <td>1000</td>\n",
       "      <td>0.0</td>\n",
       "      <td>36</td>\n",
       "      <td>16</td>\n",
       "      <td>35.2</td>\n",
       "    </tr>\n",
       "  </tbody>\n",
       "</table>\n",
       "</div>"
      ],
      "text/plain": [
       "      id member_id  loan_amnt  funded_amnt  funded_amnt_inv  term  int_rate  \\\n",
       "0  55521    107577       1000         1000              0.0    36        16   \n",
       "\n",
       "   installment  \n",
       "0         35.2  "
      ]
     },
     "execution_count": 63,
     "metadata": {},
     "output_type": "execute_result"
    }
   ],
   "source": [
    "# Import the data \n",
    "data = pd.read_csv(\"data.csv\", parse_dates = [1])\n",
    "\n",
    "# Adding additional dates to the dataframe \n",
    "# df_date_split = pd.DatetimeIndex(data['issue_d'])\n",
    "# data['issue_year'] = df_date_split.year\n",
    "# data['issue_month'] = df_date_split.month\n",
    "\n",
    "# Setting the initial features\n",
    "df_features = data.copy()\n",
    "# del df_features['id']\n",
    "# del df_features['int_rate']\n",
    "# del df_features['application_type']\n",
    "# del df_features['url']\n",
    "# del df_features['desc']\n",
    "\n",
    "# Hash the dataset until we determine columns that require it\n",
    "\n",
    "# hash = DV(sparece = False)\n",
    "\n",
    "\n",
    "# Preview the data\n",
    "data.head(1)\n"
   ]
  },
  {
   "cell_type": "code",
   "execution_count": 64,
   "metadata": {
    "collapsed": false
   },
   "outputs": [],
   "source": [
    "#use this function to randomly select the features\n",
    "#we should look at a few thousand scenarios as we explore the best scores\n",
    "def RandomFeatures():\n",
    "    features = df_features.columns.values.tolist()\n",
    "    results = list()\n",
    "    for f in features:\n",
    "        randomNumber = random.randint(1, 10)\n",
    "        if randomNumber >= 5:\n",
    "            results.append(f)\n",
    "        \n",
    "    return results\n"
   ]
  },
  {
   "cell_type": "code",
   "execution_count": 73,
   "metadata": {
    "collapsed": false
   },
   "outputs": [],
   "source": [
    "#automated classifier support\n",
    "'''\n",
    "train_c = features to use\n",
    "model = KNN,LOG_REG, ETC\n",
    "ts = test size (.4)\n",
    "'''\n",
    "def PredStats(train_c,model,ts):\n",
    "    \n",
    "    X = np.matrix(data[train_c])\n",
    "    y = (np.array(data['int_rate'])).T\n",
    "\n",
    "    #train the data\n",
    "    X_train,X_test,y_train,y_test = train_test_split(X,y,random_state=0,test_size=ts)\n",
    "\n",
    "    if model == 'KNN_REG':\n",
    "        #knn classifier\n",
    "        knearest_clf = neighbors.KNeighborsRegressor(n_neighbors=2, weights='uniform') \n",
    "        knearest_clf = knearest_clf.fit(X_train, y_train)\n",
    "        y_pred_class = knearest_clf.predict(X_test)\n",
    "    elif model =='LOG_REG':\n",
    "        #logistic regression classifier\n",
    "        logreg = LogisticRegression()\n",
    "        logreg = logreg.fit(X_train, y_train)\n",
    "        y_pred_class = logreg.predict(X_test)\n",
    "    elif model =='BAYES':\n",
    "        #bayes classifier\n",
    "        bayes_clf = BernoulliNB()\n",
    "        #fit classifier\n",
    "        bayes_clf.fit(X_train, y_train)\n",
    "        y_pred_class = bayes_clf.predict(X_test)\n",
    "    else:\n",
    "        print('Input a correct model')\n",
    "        #break\n",
    "\n",
    "    if model == 'LOG_REG':\n",
    "        print('Coefficients: \\n',logreg.coef_)\n",
    "        print('MSE:',metrics.mean_squared_error(y_test,y_pred_class))\n",
    "        print('Variance score: ' , logreg.score(X,y))\n",
    "    elif model == 'KNN_REG':\n",
    "        print ('KNN Score: ',knearest_clf.score(X,y))\n",
    "        print('MSE:',metrics.mean_squared_error(y_test,y_pred_class))\n",
    "        print('Variance score: ' , knearest_clf.score(X,y))\n",
    "    elif model == 'BAYES':\n",
    "        scores = cross_val_score(bayes_clf, X, y, cv=2, scoring='accuracy')\n",
    "        print('Scores: ',scores)\n",
    "        print('Score mean:',scores.mean())\n",
    "    print (train_c)"
   ]
  },
  {
   "cell_type": "code",
   "execution_count": 74,
   "metadata": {
    "collapsed": false
   },
   "outputs": [
    {
     "name": "stdout",
     "output_type": "stream",
     "text": [
      "Scores:  [ 0.12838693  0.12877826]\n",
      "Score mean: 0.128582595479\n",
      "['id', 'member_id', 'loan_amnt', 'funded_amnt', 'term', 'installment']\n",
      "Scores:  [ 0.12838693  0.12877826]\n",
      "Score mean: 0.128582595479\n",
      "['id', 'member_id', 'funded_amnt']\n",
      "Scores:  [ 0.12838693  0.12877826]\n",
      "Score mean: 0.128582595479\n",
      "['id', 'funded_amnt', 'funded_amnt_inv', 'int_rate', 'installment']\n",
      "Scores:  [ 0.12838693  0.12877826]\n",
      "Score mean: 0.128582595479\n",
      "['id', 'loan_amnt', 'term', 'int_rate', 'installment']\n",
      "Scores:  [ 0.12838693  0.12877826]\n",
      "Score mean: 0.128582595479\n",
      "['member_id', 'term', 'int_rate', 'installment']\n"
     ]
    }
   ],
   "source": [
    "# Look for the best score\n",
    "for i in range(5):\n",
    "    features= RandomFeatures()\n",
    "    PredStats(features,\"BAYES\",.4)"
   ]
  },
  {
   "cell_type": "code",
   "execution_count": null,
   "metadata": {
    "collapsed": false
   },
   "outputs": [],
   "source": []
  },
  {
   "cell_type": "code",
   "execution_count": null,
   "metadata": {
    "collapsed": true
   },
   "outputs": [],
   "source": []
  }
 ],
 "metadata": {
  "anaconda-cloud": {},
  "kernelspec": {
   "display_name": "Python [Root]",
   "language": "python",
   "name": "Python [Root]"
  },
  "language_info": {
   "codemirror_mode": {
    "name": "ipython",
    "version": 2
   },
   "file_extension": ".py",
   "mimetype": "text/x-python",
   "name": "python",
   "nbconvert_exporter": "python",
   "pygments_lexer": "ipython2",
   "version": "2.7.12"
  }
 },
 "nbformat": 4,
 "nbformat_minor": 0
}
