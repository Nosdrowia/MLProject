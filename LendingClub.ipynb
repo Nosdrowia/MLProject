{
 "cells": [
  {
   "cell_type": "markdown",
   "metadata": {
    "collapsed": true
   },
   "source": [
    "<h1><font color='blue'>Lending Club</font></h1>"
   ]
  },
  {
   "cell_type": "code",
   "execution_count": 1,
   "metadata": {
    "collapsed": false
   },
   "outputs": [],
   "source": [
    "# Import the python environment libraries\n",
    "import sklearn\n",
    "import numpy as np\n",
    "import pandas as pd\n",
    "#import seaborn as sb\n",
    "#from sklearn.linear_model import SGDClassifier\n",
    "#from sklearn import metrics\n",
    "from sklearn.cross_validation import cross_val_score, KFold, train_test_split\n",
    "from sklearn import neighbors\n",
    "from sklearn.metrics import classification_report\n",
    "from __future__ import print_function\n",
    "import matplotlib.pyplot as plt\n",
    "from sklearn import metrics\n",
    "from sklearn import datasets, linear_model\n",
    "from sklearn.linear_model import LogisticRegression\n",
    "import time\n",
    "from mpl_toolkits.mplot3d import Axes3D\n",
    "from sklearn.cluster import KMeans\n",
    "from sklearn.decomposition import PCA\n",
    "import random\n",
    "import collections\n",
    "from sklearn.naive_bayes import BernoulliNB\n",
    "from sklearn.ensemble import ExtraTreesClassifier, ExtraTreesRegressor\n",
    "from sklearn.feature_selection import RFE\n",
    "from sklearn.tree import DecisionTreeClassifier, DecisionTreeRegressor\n",
    "from sklearn.ensemble import RandomForestClassifier, RandomForestRegressor\n",
    "\n",
    "from pandas_ml import ConfusionMatrix\n",
    "import matplotlib.pyplot as plt\n",
    "from sklearn.metrics import f1_score, accuracy_score\n",
    "from sklearn.grid_search import GridSearchCV\n",
    "from sklearn import preprocessing\n",
    "\n",
    "%matplotlib inline"
   ]
  },
  {
   "cell_type": "code",
   "execution_count": 2,
   "metadata": {
    "collapsed": false
   },
   "outputs": [
    {
     "data": {
      "text/html": [
       "<div>\n",
       "<table border=\"1\" class=\"dataframe\">\n",
       "  <thead>\n",
       "    <tr style=\"text-align: right;\">\n",
       "      <th></th>\n",
       "      <th>id</th>\n",
       "      <th>member_id</th>\n",
       "      <th>loan_amnt</th>\n",
       "      <th>funded_amnt</th>\n",
       "      <th>funded_amnt_inv</th>\n",
       "      <th>term</th>\n",
       "      <th>int_rate</th>\n",
       "      <th>installment</th>\n",
       "      <th>grade</th>\n",
       "      <th>sub_grade</th>\n",
       "      <th>...</th>\n",
       "      <th>recoveries</th>\n",
       "      <th>collection_recovery_fee</th>\n",
       "      <th>last_pymnt_d</th>\n",
       "      <th>last_pymnt_amnt</th>\n",
       "      <th>last_credit_pull_d</th>\n",
       "      <th>pub_rec_bankruptcies</th>\n",
       "      <th>new_int_rate</th>\n",
       "      <th>target</th>\n",
       "      <th>issue_year</th>\n",
       "      <th>issue_month</th>\n",
       "    </tr>\n",
       "  </thead>\n",
       "  <tbody>\n",
       "    <tr>\n",
       "      <th>0</th>\n",
       "      <td>1077501</td>\n",
       "      <td>1296599</td>\n",
       "      <td>5000</td>\n",
       "      <td>5000</td>\n",
       "      <td>4975.0</td>\n",
       "      <td>36</td>\n",
       "      <td>0.1065</td>\n",
       "      <td>162.87</td>\n",
       "      <td>B</td>\n",
       "      <td>B2</td>\n",
       "      <td>...</td>\n",
       "      <td>0.0</td>\n",
       "      <td>0.0</td>\n",
       "      <td>42384</td>\n",
       "      <td>171.62</td>\n",
       "      <td>42659</td>\n",
       "      <td>0</td>\n",
       "      <td>11</td>\n",
       "      <td>2</td>\n",
       "      <td>2016</td>\n",
       "      <td>12</td>\n",
       "    </tr>\n",
       "  </tbody>\n",
       "</table>\n",
       "<p>1 rows × 46 columns</p>\n",
       "</div>"
      ],
      "text/plain": [
       "        id member_id  loan_amnt  funded_amnt  funded_amnt_inv  term  int_rate  \\\n",
       "0  1077501   1296599       5000         5000           4975.0    36    0.1065   \n",
       "\n",
       "   installment grade sub_grade     ...      recoveries  \\\n",
       "0       162.87     B        B2     ...             0.0   \n",
       "\n",
       "  collection_recovery_fee  last_pymnt_d last_pymnt_amnt last_credit_pull_d  \\\n",
       "0                     0.0         42384          171.62              42659   \n",
       "\n",
       "  pub_rec_bankruptcies new_int_rate target  issue_year issue_month  \n",
       "0                    0           11      2        2016          12  \n",
       "\n",
       "[1 rows x 46 columns]"
      ]
     },
     "execution_count": 2,
     "metadata": {},
     "output_type": "execute_result"
    }
   ],
   "source": [
    "# Import the data \n",
    "data = pd.read_csv(\"data.csv\", parse_dates = [1])\n",
    "\n",
    "#Adding additional dates to the dataframe \n",
    "df_date_split = pd.DatetimeIndex(data['issue_d'])\n",
    "data['issue_year'] = df_date_split.year\n",
    "data['issue_month'] = df_date_split.month\n",
    "\n",
    "# Setting the initial features\n",
    "df_features = data.copy()\n",
    "del df_features['id']\n",
    "del df_features['new_int_rate']\n",
    "del df_features['issue_d']\n",
    "\n",
    "\n",
    "# Preview the data\n",
    "data.head(1)\n"
   ]
  },
  {
   "cell_type": "code",
   "execution_count": 3,
   "metadata": {
    "collapsed": false
   },
   "outputs": [
    {
     "name": "stdout",
     "output_type": "stream",
     "text": [
      "<class 'pandas.core.frame.DataFrame'>\n",
      "RangeIndex: 41034 entries, 0 to 41033\n",
      "Data columns (total 46 columns):\n",
      "id                         41034 non-null int64\n",
      "member_id                  41034 non-null object\n",
      "loan_amnt                  41034 non-null int64\n",
      "funded_amnt                41034 non-null int64\n",
      "funded_amnt_inv            41034 non-null float64\n",
      "term                       41034 non-null int64\n",
      "int_rate                   41034 non-null float64\n",
      "installment                41034 non-null float64\n",
      "grade                      41034 non-null object\n",
      "sub_grade                  41034 non-null object\n",
      "emp_length                 41034 non-null int64\n",
      "home_ownership             41034 non-null object\n",
      "annual_inc                 41034 non-null float64\n",
      "verification_status        41034 non-null object\n",
      "issue_d                    41034 non-null object\n",
      "loan_status                41034 non-null object\n",
      "pymnt_plan                 41034 non-null object\n",
      "purpose                    41034 non-null object\n",
      "zip_code                   41034 non-null int64\n",
      "addr_state                 41034 non-null object\n",
      "dti                        41034 non-null float64\n",
      "delinq_2yrs                41034 non-null int64\n",
      "earliest_cr_line           41034 non-null int64\n",
      "inq_last_6mths             41034 non-null int64\n",
      "open_acc                   41034 non-null int64\n",
      "pub_rec                    41034 non-null int64\n",
      "revol_bal                  41034 non-null int64\n",
      "revol_util                 41034 non-null float64\n",
      "total_acc                  41034 non-null int64\n",
      "out_prncp                  41034 non-null float64\n",
      "out_prncp_inv              41034 non-null float64\n",
      "total_pymnt                41034 non-null float64\n",
      "total_pymnt_inv            41034 non-null float64\n",
      "total_rec_prncp            41034 non-null float64\n",
      "total_rec_int              41034 non-null float64\n",
      "total_rec_late_fee         41034 non-null float64\n",
      "recoveries                 41034 non-null float64\n",
      "collection_recovery_fee    41034 non-null float64\n",
      "last_pymnt_d               41034 non-null int64\n",
      "last_pymnt_amnt            41034 non-null float64\n",
      "last_credit_pull_d         41034 non-null int64\n",
      "pub_rec_bankruptcies       41034 non-null int64\n",
      "new_int_rate               41034 non-null int64\n",
      "target                     41034 non-null int64\n",
      "issue_year                 41034 non-null int32\n",
      "issue_month                41034 non-null int32\n",
      "dtypes: float64(16), int32(2), int64(18), object(10)\n",
      "memory usage: 14.1+ MB\n"
     ]
    }
   ],
   "source": [
    "data.info()"
   ]
  },
  {
   "cell_type": "code",
   "execution_count": 7,
   "metadata": {
    "collapsed": false
   },
   "outputs": [
    {
     "data": {
      "text/plain": [
       "debt_consolidation    16441\n",
       "credit_card            4357\n",
       "other                  3635\n",
       "home_improvement       2250\n",
       "major_purchase         1940\n",
       "small_business         1482\n",
       "car                    1392\n",
       "wedding                 834\n",
       "medical                 613\n",
       "moving                  519\n",
       "vacation                350\n",
       "house                   333\n",
       "educational             319\n",
       "renewable_energy         82\n",
       "Name: purpose, dtype: int64"
      ]
     },
     "execution_count": 7,
     "metadata": {},
     "output_type": "execute_result"
    }
   ],
   "source": [
    "#purpose of the loan for incoming less than 100,000\n",
    "data[data.annual_inc < 100000].purpose.value_counts()"
   ]
  },
  {
   "cell_type": "code",
   "execution_count": 8,
   "metadata": {
    "collapsed": false
   },
   "outputs": [
    {
     "data": {
      "text/html": [
       "<div>\n",
       "<table border=\"1\" class=\"dataframe\">\n",
       "  <thead>\n",
       "    <tr style=\"text-align: right;\">\n",
       "      <th></th>\n",
       "      <th>id</th>\n",
       "      <th>loan_amnt</th>\n",
       "      <th>funded_amnt</th>\n",
       "      <th>funded_amnt_inv</th>\n",
       "      <th>term</th>\n",
       "      <th>int_rate</th>\n",
       "      <th>installment</th>\n",
       "      <th>emp_length</th>\n",
       "      <th>annual_inc</th>\n",
       "      <th>zip_code</th>\n",
       "      <th>...</th>\n",
       "      <th>recoveries</th>\n",
       "      <th>collection_recovery_fee</th>\n",
       "      <th>last_pymnt_d</th>\n",
       "      <th>last_pymnt_amnt</th>\n",
       "      <th>last_credit_pull_d</th>\n",
       "      <th>pub_rec_bankruptcies</th>\n",
       "      <th>new_int_rate</th>\n",
       "      <th>target</th>\n",
       "      <th>issue_year</th>\n",
       "      <th>issue_month</th>\n",
       "    </tr>\n",
       "  </thead>\n",
       "  <tbody>\n",
       "    <tr>\n",
       "      <th>count</th>\n",
       "      <td>4.103400e+04</td>\n",
       "      <td>41034.000000</td>\n",
       "      <td>41034.000000</td>\n",
       "      <td>41034.000000</td>\n",
       "      <td>41034.000000</td>\n",
       "      <td>41034.000000</td>\n",
       "      <td>41034.000000</td>\n",
       "      <td>41034.000000</td>\n",
       "      <td>4.103400e+04</td>\n",
       "      <td>41034.000000</td>\n",
       "      <td>...</td>\n",
       "      <td>41034.000000</td>\n",
       "      <td>41034.000000</td>\n",
       "      <td>41034.000000</td>\n",
       "      <td>41034.000000</td>\n",
       "      <td>41034.000000</td>\n",
       "      <td>41034.000000</td>\n",
       "      <td>41034.000000</td>\n",
       "      <td>41034.000000</td>\n",
       "      <td>41034.0</td>\n",
       "      <td>41034.000000</td>\n",
       "    </tr>\n",
       "    <tr>\n",
       "      <th>mean</th>\n",
       "      <td>6.803563e+05</td>\n",
       "      <td>11165.055198</td>\n",
       "      <td>10892.249720</td>\n",
       "      <td>10410.807692</td>\n",
       "      <td>42.421992</td>\n",
       "      <td>0.121650</td>\n",
       "      <td>323.607605</td>\n",
       "      <td>4.955500</td>\n",
       "      <td>6.931481e+04</td>\n",
       "      <td>50182.273237</td>\n",
       "      <td>...</td>\n",
       "      <td>98.520570</td>\n",
       "      <td>13.321207</td>\n",
       "      <td>42550.677414</td>\n",
       "      <td>2663.782731</td>\n",
       "      <td>42588.558464</td>\n",
       "      <td>0.045182</td>\n",
       "      <td>12.156748</td>\n",
       "      <td>1.883852</td>\n",
       "      <td>2016.0</td>\n",
       "      <td>7.190574</td>\n",
       "    </tr>\n",
       "    <tr>\n",
       "      <th>std</th>\n",
       "      <td>2.051338e+05</td>\n",
       "      <td>7436.656392</td>\n",
       "      <td>7168.313752</td>\n",
       "      <td>7094.097797</td>\n",
       "      <td>10.624903</td>\n",
       "      <td>0.037359</td>\n",
       "      <td>208.869736</td>\n",
       "      <td>3.460698</td>\n",
       "      <td>6.356160e+04</td>\n",
       "      <td>32869.554989</td>\n",
       "      <td>...</td>\n",
       "      <td>699.759165</td>\n",
       "      <td>153.860237</td>\n",
       "      <td>104.625030</td>\n",
       "      <td>4424.451962</td>\n",
       "      <td>97.330115</td>\n",
       "      <td>0.208642</td>\n",
       "      <td>3.729718</td>\n",
       "      <td>0.748982</td>\n",
       "      <td>0.0</td>\n",
       "      <td>3.365695</td>\n",
       "    </tr>\n",
       "    <tr>\n",
       "      <th>min</th>\n",
       "      <td>5.473400e+04</td>\n",
       "      <td>500.000000</td>\n",
       "      <td>500.000000</td>\n",
       "      <td>0.000000</td>\n",
       "      <td>36.000000</td>\n",
       "      <td>0.054200</td>\n",
       "      <td>15.670000</td>\n",
       "      <td>0.000000</td>\n",
       "      <td>3.300000e+03</td>\n",
       "      <td>700.000000</td>\n",
       "      <td>...</td>\n",
       "      <td>0.000000</td>\n",
       "      <td>0.000000</td>\n",
       "      <td>42378.000000</td>\n",
       "      <td>0.010000</td>\n",
       "      <td>42378.000000</td>\n",
       "      <td>0.000000</td>\n",
       "      <td>5.000000</td>\n",
       "      <td>1.000000</td>\n",
       "      <td>2016.0</td>\n",
       "      <td>1.000000</td>\n",
       "    </tr>\n",
       "    <tr>\n",
       "      <th>25%</th>\n",
       "      <td>5.115498e+05</td>\n",
       "      <td>5400.000000</td>\n",
       "      <td>5200.000000</td>\n",
       "      <td>5000.000000</td>\n",
       "      <td>36.000000</td>\n",
       "      <td>0.096200</td>\n",
       "      <td>166.500000</td>\n",
       "      <td>2.000000</td>\n",
       "      <td>4.080000e+04</td>\n",
       "      <td>20000.000000</td>\n",
       "      <td>...</td>\n",
       "      <td>0.000000</td>\n",
       "      <td>0.000000</td>\n",
       "      <td>42469.000000</td>\n",
       "      <td>216.590000</td>\n",
       "      <td>42505.000000</td>\n",
       "      <td>0.000000</td>\n",
       "      <td>10.000000</td>\n",
       "      <td>1.000000</td>\n",
       "      <td>2016.0</td>\n",
       "      <td>4.000000</td>\n",
       "    </tr>\n",
       "    <tr>\n",
       "      <th>50%</th>\n",
       "      <td>6.551805e+05</td>\n",
       "      <td>9975.000000</td>\n",
       "      <td>9600.000000</td>\n",
       "      <td>8975.000000</td>\n",
       "      <td>36.000000</td>\n",
       "      <td>0.119900</td>\n",
       "      <td>278.530000</td>\n",
       "      <td>4.000000</td>\n",
       "      <td>5.927800e+04</td>\n",
       "      <td>45000.000000</td>\n",
       "      <td>...</td>\n",
       "      <td>0.000000</td>\n",
       "      <td>0.000000</td>\n",
       "      <td>42562.000000</td>\n",
       "      <td>545.645000</td>\n",
       "      <td>42655.000000</td>\n",
       "      <td>0.000000</td>\n",
       "      <td>12.000000</td>\n",
       "      <td>2.000000</td>\n",
       "      <td>2016.0</td>\n",
       "      <td>7.000000</td>\n",
       "    </tr>\n",
       "    <tr>\n",
       "      <th>75%</th>\n",
       "      <td>8.324275e+05</td>\n",
       "      <td>15000.000000</td>\n",
       "      <td>15000.000000</td>\n",
       "      <td>14400.000000</td>\n",
       "      <td>60.000000</td>\n",
       "      <td>0.147400</td>\n",
       "      <td>429.695000</td>\n",
       "      <td>9.000000</td>\n",
       "      <td>8.300000e+04</td>\n",
       "      <td>85000.000000</td>\n",
       "      <td>...</td>\n",
       "      <td>0.000000</td>\n",
       "      <td>0.000000</td>\n",
       "      <td>42653.000000</td>\n",
       "      <td>3268.897500</td>\n",
       "      <td>42659.000000</td>\n",
       "      <td>0.000000</td>\n",
       "      <td>15.000000</td>\n",
       "      <td>2.000000</td>\n",
       "      <td>2016.0</td>\n",
       "      <td>10.000000</td>\n",
       "    </tr>\n",
       "    <tr>\n",
       "      <th>max</th>\n",
       "      <td>1.077501e+06</td>\n",
       "      <td>35000.000000</td>\n",
       "      <td>35000.000000</td>\n",
       "      <td>35000.000000</td>\n",
       "      <td>60.000000</td>\n",
       "      <td>0.245900</td>\n",
       "      <td>1305.190000</td>\n",
       "      <td>10.000000</td>\n",
       "      <td>6.000000e+06</td>\n",
       "      <td>99900.000000</td>\n",
       "      <td>...</td>\n",
       "      <td>29623.350000</td>\n",
       "      <td>7002.190000</td>\n",
       "      <td>42719.000000</td>\n",
       "      <td>36115.200000</td>\n",
       "      <td>42719.000000</td>\n",
       "      <td>2.000000</td>\n",
       "      <td>25.000000</td>\n",
       "      <td>4.000000</td>\n",
       "      <td>2016.0</td>\n",
       "      <td>12.000000</td>\n",
       "    </tr>\n",
       "  </tbody>\n",
       "</table>\n",
       "<p>8 rows × 36 columns</p>\n",
       "</div>"
      ],
      "text/plain": [
       "                 id     loan_amnt   funded_amnt  funded_amnt_inv  \\\n",
       "count  4.103400e+04  41034.000000  41034.000000     41034.000000   \n",
       "mean   6.803563e+05  11165.055198  10892.249720     10410.807692   \n",
       "std    2.051338e+05   7436.656392   7168.313752      7094.097797   \n",
       "min    5.473400e+04    500.000000    500.000000         0.000000   \n",
       "25%    5.115498e+05   5400.000000   5200.000000      5000.000000   \n",
       "50%    6.551805e+05   9975.000000   9600.000000      8975.000000   \n",
       "75%    8.324275e+05  15000.000000  15000.000000     14400.000000   \n",
       "max    1.077501e+06  35000.000000  35000.000000     35000.000000   \n",
       "\n",
       "               term      int_rate   installment    emp_length    annual_inc  \\\n",
       "count  41034.000000  41034.000000  41034.000000  41034.000000  4.103400e+04   \n",
       "mean      42.421992      0.121650    323.607605      4.955500  6.931481e+04   \n",
       "std       10.624903      0.037359    208.869736      3.460698  6.356160e+04   \n",
       "min       36.000000      0.054200     15.670000      0.000000  3.300000e+03   \n",
       "25%       36.000000      0.096200    166.500000      2.000000  4.080000e+04   \n",
       "50%       36.000000      0.119900    278.530000      4.000000  5.927800e+04   \n",
       "75%       60.000000      0.147400    429.695000      9.000000  8.300000e+04   \n",
       "max       60.000000      0.245900   1305.190000     10.000000  6.000000e+06   \n",
       "\n",
       "           zip_code      ...         recoveries  collection_recovery_fee  \\\n",
       "count  41034.000000      ...       41034.000000             41034.000000   \n",
       "mean   50182.273237      ...          98.520570                13.321207   \n",
       "std    32869.554989      ...         699.759165               153.860237   \n",
       "min      700.000000      ...           0.000000                 0.000000   \n",
       "25%    20000.000000      ...           0.000000                 0.000000   \n",
       "50%    45000.000000      ...           0.000000                 0.000000   \n",
       "75%    85000.000000      ...           0.000000                 0.000000   \n",
       "max    99900.000000      ...       29623.350000              7002.190000   \n",
       "\n",
       "       last_pymnt_d  last_pymnt_amnt  last_credit_pull_d  \\\n",
       "count  41034.000000     41034.000000        41034.000000   \n",
       "mean   42550.677414      2663.782731        42588.558464   \n",
       "std      104.625030      4424.451962           97.330115   \n",
       "min    42378.000000         0.010000        42378.000000   \n",
       "25%    42469.000000       216.590000        42505.000000   \n",
       "50%    42562.000000       545.645000        42655.000000   \n",
       "75%    42653.000000      3268.897500        42659.000000   \n",
       "max    42719.000000     36115.200000        42719.000000   \n",
       "\n",
       "       pub_rec_bankruptcies  new_int_rate        target  issue_year  \\\n",
       "count          41034.000000  41034.000000  41034.000000     41034.0   \n",
       "mean               0.045182     12.156748      1.883852      2016.0   \n",
       "std                0.208642      3.729718      0.748982         0.0   \n",
       "min                0.000000      5.000000      1.000000      2016.0   \n",
       "25%                0.000000     10.000000      1.000000      2016.0   \n",
       "50%                0.000000     12.000000      2.000000      2016.0   \n",
       "75%                0.000000     15.000000      2.000000      2016.0   \n",
       "max                2.000000     25.000000      4.000000      2016.0   \n",
       "\n",
       "        issue_month  \n",
       "count  41034.000000  \n",
       "mean       7.190574  \n",
       "std        3.365695  \n",
       "min        1.000000  \n",
       "25%        4.000000  \n",
       "50%        7.000000  \n",
       "75%       10.000000  \n",
       "max       12.000000  \n",
       "\n",
       "[8 rows x 36 columns]"
      ]
     },
     "execution_count": 8,
     "metadata": {},
     "output_type": "execute_result"
    }
   ],
   "source": [
    "data.describe()"
   ]
  },
  {
   "cell_type": "code",
   "execution_count": 9,
   "metadata": {
    "collapsed": false
   },
   "outputs": [
    {
     "data": {
      "text/plain": [
       "B    12077\n",
       "A    10008\n",
       "C     8402\n",
       "D     5744\n",
       "E     3171\n",
       "F     1196\n",
       "G      436\n",
       "Name: grade, dtype: int64"
      ]
     },
     "execution_count": 9,
     "metadata": {},
     "output_type": "execute_result"
    }
   ],
   "source": [
    "data['grade'].value_counts()"
   ]
  },
  {
   "cell_type": "code",
   "execution_count": 10,
   "metadata": {
    "collapsed": false
   },
   "outputs": [
    {
     "data": {
      "text/plain": [
       "debt_consolidation    19169\n",
       "credit_card            5290\n",
       "other                  4180\n",
       "home_improvement       3108\n",
       "major_purchase         2260\n",
       "small_business         1877\n",
       "car                    1582\n",
       "wedding                 972\n",
       "medical                 727\n",
       "moving                  604\n",
       "house                   408\n",
       "vacation                390\n",
       "educational             362\n",
       "renewable_energy        105\n",
       "Name: purpose, dtype: int64"
      ]
     },
     "execution_count": 10,
     "metadata": {},
     "output_type": "execute_result"
    }
   ],
   "source": [
    "#purpose of the loan\n",
    "data.purpose.value_counts()"
   ]
  },
  {
   "cell_type": "code",
   "execution_count": 11,
   "metadata": {
    "collapsed": false
   },
   "outputs": [
    {
     "data": {
      "text/plain": [
       "debt_consolidation    2728\n",
       "credit_card            933\n",
       "home_improvement       858\n",
       "other                  545\n",
       "small_business         395\n",
       "major_purchase         320\n",
       "car                    190\n",
       "wedding                138\n",
       "medical                114\n",
       "moving                  85\n",
       "house                   75\n",
       "educational             43\n",
       "vacation                40\n",
       "renewable_energy        23\n",
       "Name: purpose, dtype: int64"
      ]
     },
     "execution_count": 11,
     "metadata": {},
     "output_type": "execute_result"
    }
   ],
   "source": [
    "# purpose of the loan for incoming greater than 100,000\n",
    "data[data.annual_inc >=100000].purpose.value_counts()"
   ]
  },
  {
   "cell_type": "code",
   "execution_count": 12,
   "metadata": {
    "collapsed": false
   },
   "outputs": [
    {
     "data": {
      "text/plain": [
       "RENT        19314\n",
       "MORTGAGE    18460\n",
       "OWN          3126\n",
       "OTHER         134\n",
       "Name: home_ownership, dtype: int64"
      ]
     },
     "execution_count": 12,
     "metadata": {},
     "output_type": "execute_result"
    }
   ],
   "source": [
    "# housing\n",
    "data.home_ownership.value_counts()"
   ]
  },
  {
   "cell_type": "code",
   "execution_count": 13,
   "metadata": {
    "collapsed": false
   },
   "outputs": [
    {
     "data": {
      "text/plain": [
       "<matplotlib.axes._subplots.AxesSubplot at 0x104017b8>"
      ]
     },
     "execution_count": 13,
     "metadata": {},
     "output_type": "execute_result"
    },
    {
     "data": {
      "image/png": "[encoded data removed]",
      "text/plain": [
       "<matplotlib.figure.Figure at 0x3ce3cc0>"
      ]
     },
     "metadata": {},
     "output_type": "display_data"
    }
   ],
   "source": [
    "data['int_rate'].hist(bins=50)"
   ]
  },
  {
   "cell_type": "code",
   "execution_count": 14,
   "metadata": {
    "collapsed": false
   },
   "outputs": [
    {
     "data": {
      "image/png": "[encoded data removed]",
      "text/plain": [
       "<matplotlib.figure.Figure at 0x3ce30b8>"
      ]
     },
     "metadata": {},
     "output_type": "display_data"
    }
   ],
   "source": [
    "# Boxplot for int_rate over grade\n",
    "data.boxplot(column=\"int_rate\", by= \"grade\",figsize= (8,8),patch_artist=True)\n",
    "plt.style.use('ggplot')"
   ]
  },
  {
   "cell_type": "code",
   "execution_count": 15,
   "metadata": {
    "collapsed": false
   },
   "outputs": [
    {
     "data": {
      "text/plain": [
       "<matplotlib.axes._subplots.AxesSubplot at 0x106a8e48>"
      ]
     },
     "execution_count": 15,
     "metadata": {},
     "output_type": "execute_result"
    },
    {
     "data": {
      "image/png": "[encoded data removed]",
      "text/plain": [
       "<matplotlib.figure.Figure at 0x107be080>"
      ]
     },
     "metadata": {},
     "output_type": "display_data"
    }
   ],
   "source": [
    "# Pie chart representing grade distributions\n",
    "explode = (0,0,0,0.1,0.1,0.2,0.3)\n",
    "data['grade'].value_counts().plot.pie(explode=explode, autopct='%1.0f%%',)\n"
   ]
  },
  {
   "cell_type": "code",
   "execution_count": 16,
   "metadata": {
    "collapsed": false
   },
   "outputs": [
    {
     "name": "stdout",
     "output_type": "stream",
     "text": [
      "46 columns: Index([u'id', u'member_id', u'loan_amnt', u'funded_amnt', u'funded_amnt_inv',\n",
      "       u'term', u'int_rate', u'installment', u'grade', u'sub_grade',\n",
      "       u'emp_length', u'home_ownership', u'annual_inc', u'verification_status',\n",
      "       u'issue_d', u'loan_status', u'pymnt_plan', u'purpose', u'zip_code',\n",
      "       u'addr_state', u'dti', u'delinq_2yrs', u'earliest_cr_line',\n",
      "       u'inq_last_6mths', u'open_acc', u'pub_rec', u'revol_bal', u'revol_util',\n",
      "       u'total_acc', u'out_prncp', u'out_prncp_inv', u'total_pymnt',\n",
      "       u'total_pymnt_inv', u'total_rec_prncp', u'total_rec_int',\n",
      "       u'total_rec_late_fee', u'recoveries', u'collection_recovery_fee',\n",
      "       u'last_pymnt_d', u'last_pymnt_amnt', u'last_credit_pull_d',\n",
      "       u'pub_rec_bankruptcies', u'new_int_rate', u'target', u'issue_year',\n",
      "       u'issue_month'],\n",
      "      dtype='object')\n"
     ]
    }
   ],
   "source": [
    "# What columns do we have?\n",
    "print(\"{} columns: {}\".format(len(data.columns), data.columns))"
   ]
  },
  {
   "cell_type": "code",
   "execution_count": 17,
   "metadata": {
    "collapsed": false
   },
   "outputs": [
    {
     "data": {
      "text/html": [
       "<div>\n",
       "<table border=\"1\" class=\"dataframe\">\n",
       "  <thead>\n",
       "    <tr style=\"text-align: right;\">\n",
       "      <th></th>\n",
       "      <th>id</th>\n",
       "      <th>member_id</th>\n",
       "      <th>loan_amnt</th>\n",
       "      <th>funded_amnt</th>\n",
       "      <th>funded_amnt_inv</th>\n",
       "      <th>term</th>\n",
       "      <th>int_rate</th>\n",
       "      <th>installment</th>\n",
       "      <th>grade</th>\n",
       "      <th>sub_grade</th>\n",
       "      <th>...</th>\n",
       "      <th>recoveries</th>\n",
       "      <th>collection_recovery_fee</th>\n",
       "      <th>last_pymnt_d</th>\n",
       "      <th>last_pymnt_amnt</th>\n",
       "      <th>last_credit_pull_d</th>\n",
       "      <th>pub_rec_bankruptcies</th>\n",
       "      <th>new_int_rate</th>\n",
       "      <th>target</th>\n",
       "      <th>issue_year</th>\n",
       "      <th>issue_month</th>\n",
       "    </tr>\n",
       "  </thead>\n",
       "  <tbody>\n",
       "    <tr>\n",
       "      <th>0</th>\n",
       "      <td>1077501</td>\n",
       "      <td>1296599</td>\n",
       "      <td>5000</td>\n",
       "      <td>5000</td>\n",
       "      <td>4975.0</td>\n",
       "      <td>36</td>\n",
       "      <td>0.1065</td>\n",
       "      <td>162.87</td>\n",
       "      <td>1</td>\n",
       "      <td>6</td>\n",
       "      <td>...</td>\n",
       "      <td>0.0</td>\n",
       "      <td>0.00</td>\n",
       "      <td>42384</td>\n",
       "      <td>171.62</td>\n",
       "      <td>42659</td>\n",
       "      <td>0</td>\n",
       "      <td>11</td>\n",
       "      <td>2</td>\n",
       "      <td>2016</td>\n",
       "      <td>12</td>\n",
       "    </tr>\n",
       "    <tr>\n",
       "      <th>1</th>\n",
       "      <td>1077430</td>\n",
       "      <td>1314167</td>\n",
       "      <td>2500</td>\n",
       "      <td>2500</td>\n",
       "      <td>2500.0</td>\n",
       "      <td>60</td>\n",
       "      <td>0.1527</td>\n",
       "      <td>59.83</td>\n",
       "      <td>2</td>\n",
       "      <td>13</td>\n",
       "      <td>...</td>\n",
       "      <td>122.9</td>\n",
       "      <td>1.11</td>\n",
       "      <td>42473</td>\n",
       "      <td>119.66</td>\n",
       "      <td>42659</td>\n",
       "      <td>0</td>\n",
       "      <td>15</td>\n",
       "      <td>2</td>\n",
       "      <td>2016</td>\n",
       "      <td>12</td>\n",
       "    </tr>\n",
       "    <tr>\n",
       "      <th>2</th>\n",
       "      <td>1077175</td>\n",
       "      <td>1313524</td>\n",
       "      <td>2400</td>\n",
       "      <td>2400</td>\n",
       "      <td>2400.0</td>\n",
       "      <td>36</td>\n",
       "      <td>0.1596</td>\n",
       "      <td>84.33</td>\n",
       "      <td>2</td>\n",
       "      <td>14</td>\n",
       "      <td>...</td>\n",
       "      <td>0.0</td>\n",
       "      <td>0.00</td>\n",
       "      <td>42535</td>\n",
       "      <td>649.91</td>\n",
       "      <td>42659</td>\n",
       "      <td>0</td>\n",
       "      <td>16</td>\n",
       "      <td>3</td>\n",
       "      <td>2016</td>\n",
       "      <td>12</td>\n",
       "    </tr>\n",
       "    <tr>\n",
       "      <th>3</th>\n",
       "      <td>1076863</td>\n",
       "      <td>1277178</td>\n",
       "      <td>10000</td>\n",
       "      <td>10000</td>\n",
       "      <td>10000.0</td>\n",
       "      <td>36</td>\n",
       "      <td>0.1349</td>\n",
       "      <td>339.31</td>\n",
       "      <td>2</td>\n",
       "      <td>10</td>\n",
       "      <td>...</td>\n",
       "      <td>0.0</td>\n",
       "      <td>0.00</td>\n",
       "      <td>42384</td>\n",
       "      <td>357.48</td>\n",
       "      <td>42476</td>\n",
       "      <td>0</td>\n",
       "      <td>13</td>\n",
       "      <td>2</td>\n",
       "      <td>2016</td>\n",
       "      <td>12</td>\n",
       "    </tr>\n",
       "    <tr>\n",
       "      <th>4</th>\n",
       "      <td>1075358</td>\n",
       "      <td>1311748</td>\n",
       "      <td>3000</td>\n",
       "      <td>3000</td>\n",
       "      <td>3000.0</td>\n",
       "      <td>60</td>\n",
       "      <td>0.1269</td>\n",
       "      <td>67.79</td>\n",
       "      <td>1</td>\n",
       "      <td>9</td>\n",
       "      <td>...</td>\n",
       "      <td>0.0</td>\n",
       "      <td>0.00</td>\n",
       "      <td>42659</td>\n",
       "      <td>67.79</td>\n",
       "      <td>42659</td>\n",
       "      <td>0</td>\n",
       "      <td>13</td>\n",
       "      <td>2</td>\n",
       "      <td>2016</td>\n",
       "      <td>12</td>\n",
       "    </tr>\n",
       "  </tbody>\n",
       "</table>\n",
       "<p>5 rows × 46 columns</p>\n",
       "</div>"
      ],
      "text/plain": [
       "        id member_id  loan_amnt  funded_amnt  funded_amnt_inv  term  int_rate  \\\n",
       "0  1077501   1296599       5000         5000           4975.0    36    0.1065   \n",
       "1  1077430   1314167       2500         2500           2500.0    60    0.1527   \n",
       "2  1077175   1313524       2400         2400           2400.0    36    0.1596   \n",
       "3  1076863   1277178      10000        10000          10000.0    36    0.1349   \n",
       "4  1075358   1311748       3000         3000           3000.0    60    0.1269   \n",
       "\n",
       "   installment  grade  sub_grade     ...       recoveries  \\\n",
       "0       162.87      1          6     ...              0.0   \n",
       "1        59.83      2         13     ...            122.9   \n",
       "2        84.33      2         14     ...              0.0   \n",
       "3       339.31      2         10     ...              0.0   \n",
       "4        67.79      1          9     ...              0.0   \n",
       "\n",
       "   collection_recovery_fee  last_pymnt_d  last_pymnt_amnt last_credit_pull_d  \\\n",
       "0                     0.00         42384           171.62              42659   \n",
       "1                     1.11         42473           119.66              42659   \n",
       "2                     0.00         42535           649.91              42659   \n",
       "3                     0.00         42384           357.48              42476   \n",
       "4                     0.00         42659            67.79              42659   \n",
       "\n",
       "   pub_rec_bankruptcies  new_int_rate  target  issue_year  issue_month  \n",
       "0                     0            11       2        2016           12  \n",
       "1                     0            15       2        2016           12  \n",
       "2                     0            16       3        2016           12  \n",
       "3                     0            13       2        2016           12  \n",
       "4                     0            13       2        2016           12  \n",
       "\n",
       "[5 rows x 46 columns]"
      ]
     },
     "execution_count": 17,
     "metadata": {},
     "output_type": "execute_result"
    }
   ],
   "source": [
    "\n",
    "le_grade = preprocessing.LabelEncoder()\n",
    "le_sub_grade = preprocessing.LabelEncoder()\n",
    "le_home_ownership = preprocessing.LabelEncoder()\n",
    "le_verification_status = preprocessing.LabelEncoder()\n",
    "le_loan_status = preprocessing.LabelEncoder()\n",
    "le_pymnt_plan = preprocessing.LabelEncoder()\n",
    "le_purpose = preprocessing.LabelEncoder()\n",
    "le_addr_state = preprocessing.LabelEncoder()\n",
    "\n",
    "\n",
    "#to convert into numbers using LabelEncoder, to avoid negative values\n",
    "\n",
    "data['grade'] = le_grade.fit_transform(data['grade'])\n",
    "data['sub_grade'] = le_sub_grade.fit_transform(data['sub_grade'])\n",
    "data['home_ownership'] = le_home_ownership.fit_transform(data['home_ownership'])\n",
    "data['verification_status'] = le_verification_status.fit_transform(data['verification_status'])\n",
    "data['loan_status'] = le_loan_status.fit_transform(data['loan_status'])\n",
    "data['pymnt_plan'] = le_pymnt_plan.fit_transform(data['pymnt_plan'])\n",
    "data['purpose'] = le_purpose.fit_transform(data['purpose'])\n",
    "data['addr_state'] = le_addr_state.fit_transform(data['addr_state'])\n",
    "\n",
    "# Hash the dataset until we determine columns that require it\n",
    "\n",
    "#data['grade'] = data['grade'].apply(hash)\n",
    "#data['sub_grade'] = data['sub_grade'].apply(hash)\n",
    "#data['home_ownership'] = data['home_ownership'].apply(hash)\n",
    "#data['verification_status'] = data['verification_status'].apply(hash)\n",
    "#data['loan_status'] = data['loan_status'].apply(hash)\n",
    "#data['pymnt_plan'] = data['pymnt_plan'].apply(hash)\n",
    "#data['purpose'] = data['purpose'].apply(hash)\n",
    "#data['addr_state'] = data['addr_state'].apply(hash)\n",
    "\n",
    "data.head()\n"
   ]
  },
  {
   "cell_type": "code",
   "execution_count": 18,
   "metadata": {
    "collapsed": false
   },
   "outputs": [],
   "source": [
    "feature_cols = ['loan_amnt', 'funded_amnt', 'funded_amnt_inv', 'term', 'installment', #'grade', 'sub_grade',\n",
    "       'emp_length', 'home_ownership', 'annual_inc', 'verification_status', \n",
    "       'loan_status', 'pymnt_plan', \n",
    "       'purpose', \n",
    "       'zip_code', 'addr_state', \n",
    "       'dti', #'delinq_2yrs', 'earliest_cr_line',\n",
    "       'inq_last_6mths', 'open_acc', 'pub_rec', 'revol_bal', 'revol_util',\n",
    "       'total_acc', \n",
    "       'out_prncp', 'out_prncp_inv', 'total_pymnt',\n",
    "       'total_pymnt_inv', 'total_rec_prncp', 'total_rec_int',\n",
    "       'total_rec_late_fee', 'recoveries', 'collection_recovery_fee',\n",
    "       'last_pymnt_d', 'last_pymnt_amnt', 'last_credit_pull_d',\n",
    "       'pub_rec_bankruptcies', #'new_int_rate', 'int_bucket', \n",
    "       'issue_year','issue_month'\n",
    "        ]\n",
    "\n",
    "target_col = 'target'\n",
    "\n",
    "\n",
    "# Extract desired features and target column\n",
    "X = data[feature_cols]\n",
    "Y = np.asarray(data['grade'], dtype=\"|S6\")\n",
    "\n"
   ]
  },
  {
   "cell_type": "code",
   "execution_count": 19,
   "metadata": {
    "collapsed": false
   },
   "outputs": [
    {
     "name": "stdout",
     "output_type": "stream",
     "text": [
      "[  3.70082289e-02   3.75343294e-02   3.67437019e-02   2.61850089e-02\n",
      "   6.42741275e-02   2.76340478e-02   1.82327802e-02   2.78245397e-02\n",
      "   2.00740127e-02   1.54048016e-02   3.42607436e-06   2.54957643e-02\n",
      "   2.78474532e-02   2.70195759e-02   3.01349153e-02   3.31593353e-02\n",
      "   3.18860642e-02   5.57746679e-03   2.91914624e-02   7.68106264e-02\n",
      "   3.05854471e-02   8.83658587e-04   8.86896545e-04   4.30118732e-02\n",
      "   3.99195573e-02   3.67784747e-02   1.03636811e-01   7.64745231e-03\n",
      "   6.55595496e-03   6.05841401e-03   3.00820517e-02   3.71457687e-02\n",
      "   2.46422132e-02   3.53253493e-03   0.00000000e+00   3.05912226e-02]\n",
      "Top 10 important features:\n",
      "            feature  importance\n",
      "26    total_rec_int    0.103637\n",
      "19       revol_util    0.076811\n",
      "4       installment    0.064274\n",
      "23      total_pymnt    0.043012\n",
      "24  total_pymnt_inv    0.039920\n",
      "1       funded_amnt    0.037534\n",
      "31  last_pymnt_amnt    0.037146\n",
      "0         loan_amnt    0.037008\n",
      "25  total_rec_prncp    0.036778\n",
      "2   funded_amnt_inv    0.036744\n"
     ]
    }
   ],
   "source": [
    "# feature extraction\n",
    "model = ExtraTreesClassifier()\n",
    "model.fit(X, Y)\n",
    "print(model.feature_importances_)\n",
    "\n",
    "# Analyze feature importance\n",
    "feature_imps = pd.DataFrame({'feature': X.columns, 'importance': model.feature_importances_})\n",
    "feature_imps.sort_values(by='importance', ascending=False, inplace=True)\n",
    "print(\"Top 10 important features:\")\n",
    "print(feature_imps[:10])"
   ]
  },
  {
   "cell_type": "code",
   "execution_count": 20,
   "metadata": {
    "collapsed": false
   },
   "outputs": [
    {
     "name": "stdout",
     "output_type": "stream",
     "text": [
      "[ 7 13  4 22  1 23 28 15 26 24 35 25 16 19 14 20 18 30  9  6 12 34 33  8 10\n",
      "  2  3 31 27 29 11  5 21 32 36 17]\n",
      "All important features:\n",
      "                    feature  importance\n",
      "34               issue_year          36\n",
      "10               pymnt_plan          35\n",
      "21                out_prncp          34\n",
      "22            out_prncp_inv          33\n",
      "33     pub_rec_bankruptcies          32\n",
      "27       total_rec_late_fee          31\n",
      "17                  pub_rec          30\n",
      "29  collection_recovery_fee          29\n",
      "6            home_ownership          28\n",
      "28               recoveries          27\n",
      "8       verification_status          26\n",
      "11                  purpose          25\n",
      "9               loan_status          24\n",
      "5                emp_length          23\n",
      "3                      term          22\n",
      "32       last_credit_pull_d          21\n",
      "15           inq_last_6mths          20\n",
      "13               addr_state          19\n",
      "16                 open_acc          18\n",
      "35              issue_month          17\n",
      "12                 zip_code          16\n",
      "7                annual_inc          15\n",
      "14                      dti          14\n",
      "1               funded_amnt          13\n",
      "20                total_acc          12\n",
      "30             last_pymnt_d          11\n",
      "24          total_pymnt_inv          10\n",
      "18                revol_bal           9\n",
      "23              total_pymnt           8\n",
      "0                 loan_amnt           7\n",
      "19               revol_util           6\n",
      "31          last_pymnt_amnt           5\n",
      "2           funded_amnt_inv           4\n",
      "26            total_rec_int           3\n",
      "25          total_rec_prncp           2\n",
      "4               installment           1\n"
     ]
    }
   ],
   "source": [
    "# create a base classifier used to evaluate a subset of attributes\n",
    "model = DecisionTreeClassifier(random_state=42)\n",
    "names = data[feature_cols]\n",
    "\n",
    "#rank all features, i.e continue the elimination until the last one\n",
    "rfe = RFE(model, n_features_to_select=1)\n",
    "rfe.fit(X,Y)\n",
    "print(rfe.ranking_)\n",
    " \n",
    "# Analyze feature importance\n",
    "feature_imps = pd.DataFrame({'feature': X.columns, 'importance': rfe.ranking_})\n",
    "feature_imps.sort_values(by='importance', ascending=False, inplace=True)\n",
    "print(\"All important features:\")\n",
    "#print(feature_imps[:10])\n",
    "print(feature_imps[:])"
   ]
  },
  {
   "cell_type": "code",
   "execution_count": 21,
   "metadata": {
    "collapsed": false
   },
   "outputs": [
    {
     "name": "stdout",
     "output_type": "stream",
     "text": [
      "[  3.45358033e-02   2.92395221e-02   5.54638519e-02   1.42197580e-02\n",
      "   1.04615345e-01   1.24740117e-02   4.95062252e-03   2.41528281e-02\n",
      "   5.83979280e-03   1.04380682e-02   0.00000000e+00   1.12202772e-02\n",
      "   2.34313246e-02   1.74949646e-02   2.55994998e-02   1.68268446e-02\n",
      "   2.43479285e-02   1.91098017e-03   3.04012742e-02   7.63343470e-02\n",
      "   2.28071121e-02   1.55756425e-04   2.29710376e-04   2.96271991e-02\n",
      "   2.93529963e-02   5.81851309e-02   1.90291277e-01   2.56100095e-03\n",
      "   4.92109335e-03   3.23771785e-03   2.47902629e-02   7.06314496e-02\n",
      "   1.67059906e-02   1.40878809e-03   0.00000000e+00   2.15974707e-02]\n",
      "Top 10 important features:\n",
      "            feature  importance\n",
      "26    total_rec_int    0.190291\n",
      "4       installment    0.104615\n",
      "19       revol_util    0.076334\n",
      "31  last_pymnt_amnt    0.070631\n",
      "25  total_rec_prncp    0.058185\n",
      "2   funded_amnt_inv    0.055464\n",
      "0         loan_amnt    0.034536\n",
      "18        revol_bal    0.030401\n",
      "23      total_pymnt    0.029627\n",
      "24  total_pymnt_inv    0.029353\n"
     ]
    }
   ],
   "source": [
    "# create a base classifier used to evaluate a subset of attributes\n",
    "model = DecisionTreeClassifier(random_state=42)\n",
    "model.fit(X, Y)\n",
    "print(model.feature_importances_)\n",
    "\n",
    "# Analyze feature importance\n",
    "feature_imps = pd.DataFrame({'feature': X.columns, 'importance': model.feature_importances_})\n",
    "feature_imps.sort_values(by='importance', ascending=False, inplace=True)\n",
    "print(\"Top 10 important features:\")\n",
    "print(feature_imps[:10])"
   ]
  },
  {
   "cell_type": "code",
   "execution_count": 22,
   "metadata": {
    "collapsed": false
   },
   "outputs": [
    {
     "name": "stdout",
     "output_type": "stream",
     "text": [
      "Top 10 important features:\n",
      "            feature  importance\n",
      "26    total_rec_int    0.133887\n",
      "19       revol_util    0.083818\n",
      "4       installment    0.079082\n",
      "31  last_pymnt_amnt    0.050380\n",
      "23      total_pymnt    0.047577\n",
      "24  total_pymnt_inv    0.045976\n",
      "2   funded_amnt_inv    0.043916\n",
      "25  total_rec_prncp    0.040341\n",
      "18        revol_bal    0.035431\n",
      "14              dti    0.033145\n"
     ]
    }
   ],
   "source": [
    "# feature selection using random forest\n",
    "randomforest = RandomForestClassifier()\n",
    "randomforest.fit(X, Y)\n",
    " \n",
    "# Analyze feature importance\n",
    "feature_imps = pd.DataFrame({'feature': X.columns, 'importance': randomforest.feature_importances_})\n",
    "feature_imps.sort_values(by='importance', ascending=False, inplace=True)\n",
    "print(\"Top 10 important features:\")\n",
    "print(feature_imps[:10])"
   ]
  },
  {
   "cell_type": "code",
   "execution_count": 23,
   "metadata": {
    "collapsed": false
   },
   "outputs": [],
   "source": [
    "#use this function to randomly select the features\n",
    "#we should look at a few thousand scenarios as we explore the best scores\n",
    "def RandomFeatures():\n",
    "    features = df_features.columns.values.tolist()\n",
    "    results = list()\n",
    "    for f in features:\n",
    "        randomNumber = random.randint(1, 10)\n",
    "        if randomNumber >= 5:\n",
    "            results.append(f)\n",
    "        \n",
    "    return results\n"
   ]
  },
  {
   "cell_type": "code",
   "execution_count": 24,
   "metadata": {
    "collapsed": false
   },
   "outputs": [],
   "source": [
    "#automated classifier support\n",
    "'''\n",
    "model = KNN,LOG_REG, ETC\n",
    "ts = test size (.4)\n",
    "'''\n",
    "\n",
    "\n",
    "def PredStats(model,ts):\n",
    "    \n",
    "    feature_cols = ['loan_amnt', 'funded_amnt', 'funded_amnt_inv', 'term', 'installment', #'grade', 'sub_grade',\n",
    "       'emp_length', 'home_ownership', 'annual_inc', 'verification_status', \n",
    "       'loan_status', 'pymnt_plan', \n",
    "       'purpose', \n",
    "       'zip_code', 'addr_state', \n",
    "       'dti', #'delinq_2yrs', 'earliest_cr_line',\n",
    "       'inq_last_6mths', 'open_acc', 'pub_rec', 'revol_bal', 'revol_util',\n",
    "       'total_acc', \n",
    "       'out_prncp', 'out_prncp_inv', 'total_pymnt',\n",
    "       'total_pymnt_inv', 'total_rec_prncp', 'total_rec_int',\n",
    "       'total_rec_late_fee', 'recoveries', 'collection_recovery_fee',\n",
    "       'last_pymnt_d', 'last_pymnt_amnt', 'last_credit_pull_d',\n",
    "       'pub_rec_bankruptcies', #'new_int_rate', 'int_bucket', \n",
    "       'issue_year','issue_month'\n",
    "        ]\n",
    "    \n",
    "    X = np.matrix(data[feature_cols])\n",
    "    y = np.asarray(data['target'])\n",
    "    \n",
    "    #train the data\n",
    "    X_train,X_test,y_train,y_test = train_test_split(X,y,random_state=42,test_size=ts)\n",
    "\n",
    "    if model == 'KNN_REG':\n",
    "        #knn regressor\n",
    "        knearest_clf = neighbors.KNeighborsRegressor(n_neighbors=2, weights='uniform') \n",
    "        knearest_clf = knearest_clf.fit(X_train, y_train)\n",
    "        y_pred_class = knearest_clf.predict(X_test)\n",
    "        cm = ConfusionMatrix(y_test, y_pred_class)\n",
    "    elif model =='LOG_REG':\n",
    "        #logistic regression classifier\n",
    "        logreg = LogisticRegression()\n",
    "        logreg = logreg.fit(X_train, y_train)\n",
    "        y_pred_class = logreg.predict(X_test)\n",
    "        cm = ConfusionMatrix(y_test, y_pred_class)\n",
    "    elif model =='SGD_CLF':\n",
    "        #stocastic gradient descent classifier\n",
    "        sdgclf = linear_model.SGDClassifier()\n",
    "        sdgclf = sdgclf.fit(X_train, y_train)\n",
    "        y_pred_class = sdgclf.predict(X_test)\n",
    "    elif model =='KNN_CLF':\n",
    "        #knn classifier\n",
    "        knearest_clf = neighbors.KNeighborsClassifier(n_neighbors=2, weights='uniform') \n",
    "        knearest_clf = knearest_clf.fit(X_train, y_train)\n",
    "        y_pred_class = knearest_clf.predict(X_test)\n",
    "    elif model =='BAYES':\n",
    "        #bayes classifier\n",
    "        bayes_clf = BernoulliNB()\n",
    "        #fit classifier\n",
    "        bayes_clf.fit(X_train, y_train)\n",
    "        y_pred_class = bayes_clf.predict(X_test)\n",
    "    else:\n",
    "        print('Input a correct model')\n",
    "        #break\n",
    "        \n",
    "    #cm.plot()\n",
    "    #print(cm.print_stats())\n",
    "    if model == 'LOG_REG':\n",
    "        print('Coefficients: \\n',logreg.coef_)\n",
    "        print('MSE:',metrics.mean_squared_error(y_test,y_pred_class))\n",
    "        print('Variance score: ' , logreg.score(X,y))\n",
    "        print('R2 score: ' , metrics.r2_score(X,y))\n",
    "    elif model == 'KNN_REG':\n",
    "        print ('KNN Score: ',knearest_clf.score(X,y))\n",
    "        print('MSE:',metrics.mean_squared_error(y_test,y_pred_class))\n",
    "        print('Variance score: ' , knearest_clf.score(X,y))\n",
    "        print('R2 score: ' , metrics.r2_score(X,y))\n",
    "    elif model == 'SGD_CLF':\n",
    "        scores = cross_val_score(sdgclf, X, y, cv=2, scoring='accuracy')\n",
    "        print('Scores: ',scores)\n",
    "        print('Score mean:',scores.mean())\n",
    "        print('Classification report for %s' % sdgclf)\n",
    "        print(metrics.classification_report(y_test, y_pred_class))\n",
    "        print('F1 micro: %1.4f\\n' % f1_score(y_test, y_pred_class, average='micro'))\n",
    "        print('F1 macro: %1.4f\\n' % f1_score(y_test, y_pred_class, average='macro'))\n",
    "        print('F1 weighted: %1.4f\\n' % f1_score(y_test, y_pred_class, average='weighted'))\n",
    "        print('Accuracy: %1.4f' % (accuracy_score(y_test, y_pred_class)))\n",
    "    elif model == 'KNN_CLF':\n",
    "        scores = cross_val_score(knearest_clf, X, y, cv=2, scoring='accuracy')\n",
    "        print('Scores: ',scores)\n",
    "        print('Score mean:',scores.mean())\n",
    "        print('Classification report for %s' % knearest_clf)\n",
    "        print(metrics.classification_report(y_test, y_pred_class))\n",
    "        print('F1 micro: %1.4f\\n' % f1_score(y_test, y_pred_class, average='micro'))\n",
    "        print('F1 macro: %1.4f\\n' % f1_score(y_test, y_pred_class, average='macro'))\n",
    "        print('F1 weighted: %1.4f\\n' % f1_score(y_test, y_pred_class, average='weighted'))\n",
    "        print('Accuracy: %1.4f' % (accuracy_score(y_test, y_pred_class)))\n",
    "    elif model == 'BAYES':\n",
    "        scores = cross_val_score(bayes_clf, X, y, cv=2, scoring='accuracy')\n",
    "        print('Scores: ',scores)\n",
    "        print('Score mean:',scores.mean())\n",
    "        print('Classification report for %s' % bayes_clf)\n",
    "        print(metrics.classification_report(y_test, y_pred_class))\n",
    "        print('F1 micro: %1.4f\\n' % f1_score(y_test, y_pred_class, average='micro'))\n",
    "        print('F1 macro: %1.4f\\n' % f1_score(y_test, y_pred_class, average='macro'))\n",
    "        print('F1 weighted: %1.4f\\n' % f1_score(y_test, y_pred_class, average='weighted'))\n",
    "        print('Accuracy: %1.4f' % (accuracy_score(y_test, y_pred_class)))\n",
    "\n",
    "\n",
    "\n"
   ]
  },
  {
   "cell_type": "code",
   "execution_count": 25,
   "metadata": {
    "collapsed": false
   },
   "outputs": [
    {
     "name": "stdout",
     "output_type": "stream",
     "text": [
      "Scores:  [ 0.52514865  0.47811464]\n",
      "Score mean: 0.501631646098\n",
      "Classification report for SGDClassifier(alpha=0.0001, average=False, class_weight=None, epsilon=0.1,\n",
      "       eta0=0.0, fit_intercept=True, l1_ratio=0.15,\n",
      "       learning_rate='optimal', loss='hinge', n_iter=5, n_jobs=1,\n",
      "       penalty='l2', power_t=0.5, random_state=None, shuffle=True,\n",
      "       verbose=0, warm_start=False)\n",
      "             precision    recall  f1-score   support\n",
      "\n",
      "          1       0.50      0.95      0.65      5394\n",
      "          2       0.69      0.34      0.45      7726\n",
      "          3       0.60      0.45      0.51      3010\n",
      "          4       0.04      0.01      0.01       284\n",
      "\n",
      "avg / total       0.60      0.55      0.52     16414\n",
      "\n",
      "F1 micro: 0.5534\n",
      "\n",
      "F1 macro: 0.4078\n",
      "\n",
      "F1 weighted: 0.5225\n",
      "\n",
      "Accuracy: 0.5534\n"
     ]
    }
   ],
   "source": [
    "# Look for the best score\n",
    "#for i in range(5):\n",
    "PredStats(\"SGD_CLF\",.4)"
   ]
  },
  {
   "cell_type": "code",
   "execution_count": 26,
   "metadata": {
    "collapsed": false
   },
   "outputs": [
    {
     "name": "stdout",
     "output_type": "stream",
     "text": [
      "Scores:  [ 0.45472268  0.42737376]\n",
      "Score mean: 0.441048219795\n",
      "Classification report for KNeighborsClassifier(algorithm='auto', leaf_size=30, metric='minkowski',\n",
      "           metric_params=None, n_jobs=1, n_neighbors=2, p=2,\n",
      "           weights='uniform')\n",
      "             precision    recall  f1-score   support\n",
      "\n",
      "          1       0.41      0.69      0.51      5394\n",
      "          2       0.49      0.42      0.45      7726\n",
      "          3       0.46      0.12      0.19      3010\n",
      "          4       0.07      0.00      0.01       284\n",
      "\n",
      "avg / total       0.45      0.44      0.42     16414\n",
      "\n",
      "F1 micro: 0.4449\n",
      "\n",
      "F1 macro: 0.2903\n",
      "\n",
      "F1 weighted: 0.4163\n",
      "\n",
      "Accuracy: 0.4449\n"
     ]
    }
   ],
   "source": [
    "# Look for the best score\n",
    "#for i in range(5):\n",
    "PredStats(\"KNN_CLF\",.4)"
   ]
  },
  {
   "cell_type": "code",
   "execution_count": 27,
   "metadata": {
    "collapsed": false
   },
   "outputs": [
    {
     "name": "stdout",
     "output_type": "stream",
     "text": [
      "Scores:  [ 0.47290184  0.45915383]\n",
      "Score mean: 0.46602783672\n",
      "Classification report for BernoulliNB(alpha=1.0, binarize=0.0, class_prior=None, fit_prior=True)\n",
      "             precision    recall  f1-score   support\n",
      "\n",
      "          1       0.47      0.42      0.45      5394\n",
      "          2       0.50      0.65      0.56      7726\n",
      "          3       0.37      0.19      0.26      3010\n",
      "          4       0.00      0.00      0.00       284\n",
      "\n",
      "avg / total       0.46      0.48      0.46     16414\n",
      "\n",
      "F1 micro: 0.4792\n",
      "\n",
      "F1 macro: 0.3163\n",
      "\n",
      "F1 weighted: 0.4589\n",
      "\n",
      "Accuracy: 0.4792\n"
     ]
    }
   ],
   "source": [
    "# Look for the best score\n",
    "#for i in range(5):\n",
    "PredStats(\"BAYES\",.4)"
   ]
  },
  {
   "cell_type": "code",
   "execution_count": 28,
   "metadata": {
    "collapsed": true
   },
   "outputs": [],
   "source": [
    "#automated classifier support with hyperparameter selection\n",
    "'''\n",
    "model = KNN,LOG_REG, ETC\n",
    "ts = test size (.4)\n",
    "'''\n",
    "from sklearn.feature_selection import SelectKBest, chi2\n",
    "\n",
    "\n",
    "def PredStats2(model,ts):\n",
    "    \n",
    "    feature_cols = [#'loan_amnt', \n",
    "        ##'funded_amnt', \n",
    "        'funded_amnt_inv', ##'term', \n",
    "        'installment', \n",
    "        #'grade', \n",
    "        #'sub_grade',\n",
    "       ##'emp_length', 'home_ownership', 'annual_inc', 'verification_status', \n",
    "       ##'loan_status', 'pymnt_plan', \n",
    "       ##'purpose', \n",
    "       ##'zip_code', 'addr_state', \n",
    "       #'dti', \n",
    "        #'delinq_2yrs', 'earliest_cr_line',\n",
    "       ##'inq_last_6mths', 'open_acc', 'pub_rec', \n",
    "       ##'revol_bal', \n",
    "        ###'revol_util',\n",
    "       ##'total_acc', \n",
    "       ##'out_prncp', 'out_prncp_inv', \n",
    "        ###'total_pymnt',\n",
    "       #'total_pymnt_inv', \n",
    "        'total_rec_prncp', \n",
    "        'total_rec_int',\n",
    "       ##'total_rec_late_fee', 'recoveries', 'collection_recovery_fee',\n",
    "       ##'last_pymnt_d', \n",
    "        'last_pymnt_amnt', \n",
    "        #'last_credit_pull_d',\n",
    "       ##'pub_rec_bankruptcies', \n",
    "        #'new_int_rate', #'int_bucket', \n",
    "       ##'issue_year','issue_month'\n",
    "        ]\n",
    "    \n",
    "    #X = np.matrix(data[feature_cols])\n",
    "    #y = np.asarray(data['target'])\n",
    "    \n",
    "    # Extract desired features and target column\n",
    "    X = data[feature_cols]\n",
    "    y = np.asarray(data['target'])\n",
    "    \n",
    "    #train the data\n",
    "    X_train,X_test,y_train,y_test = train_test_split(X,y,random_state=42,test_size=ts)\n",
    "    parameters = [{'alpha':np.linspace(0.1,1,10)}]\n",
    "    \n",
    "    \n",
    "    if model == 'KNN_REG':\n",
    "        #knn regressor\n",
    "        knearest_clf = neighbors.KNeighborsRegressor(n_neighbors=2, weights='uniform') \n",
    "        knearest_clf = knearest_clf.fit(X_train, y_train)\n",
    "        y_pred_class = knearest_clf.predict(X_test)\n",
    "        cm = ConfusionMatrix(y_test, y_pred_class)\n",
    "    elif model =='LOG_REG':\n",
    "        #logistic regression classifier\n",
    "        logreg = LogisticRegression()\n",
    "        logreg = logreg.fit(X_train, y_train)\n",
    "        y_pred_class = logreg.predict(X_test)\n",
    "        cm = ConfusionMatrix(y_test, y_pred_class)\n",
    "    elif model =='SGD_CLF':\n",
    "        #stocastic gradient descent classifier\n",
    "        sdgclf = linear_model.SGDClassifier()\n",
    "        sdgclf = sdgclf.fit(X_train, y_train)\n",
    "        y_pred_class = sdgclf.predict(X_test)\n",
    "    elif model =='KNN_CLF':\n",
    "        #knn classifier\n",
    "        knearest_clf = neighbors.KNeighborsClassifier(n_neighbors=5, metric='manhattan', weights='uniform') \n",
    "        knearest_clf = knearest_clf.fit(X_train, y_train)\n",
    "        y_pred_class = knearest_clf.predict(X_test)\n",
    "    elif model =='BAYES':\n",
    "        #bayes classifier\n",
    "        bayes_clf = GridSearchCV(BernoulliNB(), parameters, cv=10, scoring='accuracy')\n",
    "        #apply feature selection using chi2 \n",
    "        #skb = SelectKBest(chi2, k=10)\n",
    "        #X_train = skb.fit_transform(X_train, y_train)\n",
    "        #X_test = skb.transform(X_test)\n",
    "        #fit classifier\n",
    "        bayes_clf.fit(X_train, y_train)\n",
    "        y_pred_class = bayes_clf.predict(X_test)\n",
    "        \n",
    "        ##bayes classifier\n",
    "        #bayes_clf = BernoulliNB()\n",
    "        ##fit classifier\n",
    "        #bayes_clf.fit(X_train, y_train)\n",
    "        #y_pred_class = bayes_clf.predict(X_test)\n",
    "    else:\n",
    "        print('Input a correct model')\n",
    "        #break\n",
    "        \n",
    "    #cm.plot()\n",
    "    #print(cm.print_stats())\n",
    "    if model == 'LOG_REG':\n",
    "        print('Coefficients: \\n',logreg.coef_)\n",
    "        print('MSE:',metrics.mean_squared_error(y_test,y_pred_class))\n",
    "        print('Variance score: ' , logreg.score(X,y))\n",
    "        print('R2 score: ' , metrics.r2_score(X,y))\n",
    "    elif model == 'KNN_REG':\n",
    "        print ('KNN Score: ',knearest_clf.score(X,y))\n",
    "        print('MSE:',metrics.mean_squared_error(y_test,y_pred_class))\n",
    "        print('Variance score: ' , knearest_clf.score(X,y))\n",
    "        print('R2 score: ' , metrics.r2_score(X,y))\n",
    "    elif model == 'SGD_CLF':\n",
    "        scores = cross_val_score(sdgclf, X, y, cv=2, scoring='accuracy')\n",
    "        print('Scores: ',scores)\n",
    "        print('Score mean:',scores.mean())\n",
    "        print('Classification report for %s' % sdgclf)\n",
    "        print(metrics.classification_report(y_test, y_pred_class))\n",
    "        print('F1 micro: %1.4f\\n' % f1_score(y_test, y_pred_class, average='micro'))\n",
    "        print('F1 macro: %1.4f\\n' % f1_score(y_test, y_pred_class, average='macro'))\n",
    "        print('F1 weighted: %1.4f\\n' % f1_score(y_test, y_pred_class, average='weighted'))\n",
    "        print('Accuracy: %1.4f' % (accuracy_score(y_test, y_pred_class)))\n",
    "    elif model == 'KNN_CLF':\n",
    "        scores = cross_val_score(knearest_clf, X, y, cv=2, scoring='accuracy')\n",
    "        print('Scores: ',scores)\n",
    "        print('Score mean:',scores.mean())\n",
    "        print('Classification report for %s' % knearest_clf)\n",
    "        print(metrics.classification_report(y_test, y_pred_class))\n",
    "        print('F1 micro: %1.4f\\n' % f1_score(y_test, y_pred_class, average='micro'))\n",
    "        print('F1 macro: %1.4f\\n' % f1_score(y_test, y_pred_class, average='macro'))\n",
    "        print('F1 weighted: %1.4f\\n' % f1_score(y_test, y_pred_class, average='weighted'))\n",
    "        print('Accuracy: %1.4f' % (accuracy_score(y_test, y_pred_class)))\n",
    "    elif model == 'BAYES':\n",
    "        scores = cross_val_score(bayes_clf, X, y, cv=2, scoring='accuracy')\n",
    "        print('Scores: ',scores)\n",
    "        print('Score mean:',scores.mean())\n",
    "        print('Classification report for %s' % bayes_clf)\n",
    "        print(metrics.classification_report(y_test, y_pred_class))\n",
    "        print('F1 micro: %1.4f\\n' % f1_score(y_test, y_pred_class, average='micro'))\n",
    "        print('F1 macro: %1.4f\\n' % f1_score(y_test, y_pred_class, average='macro'))\n",
    "        print('F1 weighted: %1.4f\\n' % f1_score(y_test, y_pred_class, average='weighted'))\n",
    "        print('Accuracy: %1.4f' % (accuracy_score(y_test, y_pred_class)))\n",
    "        \n",
    "        \n",
    "        "
   ]
  },
  {
   "cell_type": "code",
   "execution_count": 37,
   "metadata": {
    "collapsed": false
   },
   "outputs": [
    {
     "name": "stdout",
     "output_type": "stream",
     "text": [
      "Scores:  [ 0.47451019  0.47455644]\n",
      "Score mean: 0.474533314965\n",
      "Classification report for GridSearchCV(cv=10, error_score='raise',\n",
      "       estimator=BernoulliNB(alpha=1.0, binarize=0.0, class_prior=None, fit_prior=True),\n",
      "       fit_params={}, iid=True, n_jobs=1,\n",
      "       param_grid=[{'alpha': array([ 0.1,  0.2,  0.3,  0.4,  0.5,  0.6,  0.7,  0.8,  0.9,  1. ])}],\n",
      "       pre_dispatch='2*n_jobs', refit=True, scoring='accuracy', verbose=0)\n",
      "             precision    recall  f1-score   support\n",
      "\n",
      "          1       0.50      0.00      0.00      5394\n",
      "          2       0.47      1.00      0.64      7726\n",
      "          3       0.00      0.00      0.00      3010\n",
      "          4       0.00      0.00      0.00       284\n",
      "\n",
      "avg / total       0.39      0.47      0.30     16414\n",
      "\n",
      "F1 micro: 0.4707\n",
      "\n",
      "F1 macro: 0.1601\n",
      "\n",
      "F1 weighted: 0.3014\n",
      "\n",
      "Accuracy: 0.4707\n"
     ]
    }
   ],
   "source": [
    "# Look for the best score\n",
    "#for i in range(5):\n",
    "PredStats2(\"BAYES\",.4)"
   ]
  },
  {
   "cell_type": "code",
   "execution_count": 30,
   "metadata": {
    "collapsed": false
   },
   "outputs": [
    {
     "name": "stdout",
     "output_type": "stream",
     "text": [
      "Scores:  [ 0.74870845  0.76476896]\n",
      "Score mean: 0.756738705964\n",
      "Classification report for KNeighborsClassifier(algorithm='auto', leaf_size=30, metric='manhattan',\n",
      "           metric_params=None, n_jobs=1, n_neighbors=5, p=2,\n",
      "           weights='uniform')\n",
      "             precision    recall  f1-score   support\n",
      "\n",
      "          1       0.83      0.83      0.83      5394\n",
      "          2       0.78      0.86      0.82      7726\n",
      "          3       0.78      0.63      0.70      3010\n",
      "          4       0.61      0.19      0.29       284\n",
      "\n",
      "avg / total       0.79      0.79      0.79     16414\n",
      "\n",
      "F1 micro: 0.7950\n",
      "\n",
      "F1 macro: 0.6596\n",
      "\n",
      "F1 weighted: 0.7899\n",
      "\n",
      "Accuracy: 0.7950\n"
     ]
    }
   ],
   "source": [
    "# Look for the best score\n",
    "#for i in range(5):\n",
    "PredStats2(\"KNN_CLF\",.4)"
   ]
  },
  {
   "cell_type": "code",
   "execution_count": 31,
   "metadata": {
    "collapsed": false
   },
   "outputs": [
    {
     "name": "stdout",
     "output_type": "stream",
     "text": [
      "Scores:  [ 0.45043377  0.45403587]\n",
      "Score mean: 0.452234819957\n",
      "Classification report for SGDClassifier(alpha=0.0001, average=False, class_weight=None, epsilon=0.1,\n",
      "       eta0=0.0, fit_intercept=True, l1_ratio=0.15,\n",
      "       learning_rate='optimal', loss='hinge', n_iter=5, n_jobs=1,\n",
      "       penalty='l2', power_t=0.5, random_state=None, shuffle=True,\n",
      "       verbose=0, warm_start=False)\n",
      "             precision    recall  f1-score   support\n",
      "\n",
      "          1       0.43      0.99      0.60      5394\n",
      "          2       0.51      0.21      0.30      7726\n",
      "          3       0.00      0.00      0.00      3010\n",
      "          4       0.23      0.60      0.33       284\n",
      "\n",
      "avg / total       0.39      0.44      0.35     16414\n",
      "\n",
      "F1 micro: 0.4370\n",
      "\n",
      "F1 macro: 0.3083\n",
      "\n",
      "F1 weighted: 0.3454\n",
      "\n",
      "Accuracy: 0.4370\n"
     ]
    }
   ],
   "source": [
    "# Look for the best score\n",
    "#for i in range(5):\n",
    "PredStats2(\"SGD_CLF\",.4)"
   ]
  },
  {
   "cell_type": "code",
   "execution_count": 32,
   "metadata": {
    "collapsed": false
   },
   "outputs": [
    {
     "name": "stdout",
     "output_type": "stream",
     "text": [
      "\n",
      "model = KNN,LOG_REG, ETC\n",
      "ts = test size (.4)\n",
      "\n"
     ]
    }
   ],
   "source": [
    "print(__doc__)\n",
    "\n",
    "import numpy as np\n",
    "import matplotlib.pyplot as plt\n",
    "from matplotlib.colors import ListedColormap\n",
    "from sklearn import neighbors, datasets\n",
    "\n",
    "\n",
    "\n",
    "feature_cols = [#'loan_amnt', \n",
    "        ##'funded_amnt', \n",
    "        'funded_amnt_inv', ##'term', \n",
    "        'installment', \n",
    "        #'grade', \n",
    "        #'sub_grade',\n",
    "       ##'emp_length', 'home_ownership', 'annual_inc', 'verification_status', \n",
    "       ##'loan_status', 'pymnt_plan', \n",
    "       ##'purpose', \n",
    "       ##'zip_code', 'addr_state', \n",
    "       #'dti', \n",
    "        #'delinq_2yrs', 'earliest_cr_line',\n",
    "       ##'inq_last_6mths', 'open_acc', 'pub_rec', \n",
    "       ##'revol_bal', \n",
    "        ###'revol_util',\n",
    "       ##'total_acc', \n",
    "       ##'out_prncp', 'out_prncp_inv', \n",
    "        ###'total_pymnt',\n",
    "       #'total_pymnt_inv', \n",
    "        'total_rec_prncp', \n",
    "        'total_rec_int',\n",
    "       ##'total_rec_late_fee', 'recoveries', 'collection_recovery_fee',\n",
    "       ##'last_pymnt_d', \n",
    "        'last_pymnt_amnt', \n",
    "        #'last_credit_pull_d',\n",
    "       ##'pub_rec_bankruptcies', \n",
    "        #'new_int_rate', #'int_bucket', \n",
    "       ##'issue_year','issue_month'\n",
    "        ]\n",
    "    \n",
    "#X = np.matrix(data[feature_cols])\n",
    "#y = np.asarray(data['target'])\n",
    "    \n",
    "# Extract desired features and target column\n",
    "X = data[feature_cols]\n",
    "y = np.asarray(data['target'])\n",
    "    \n",
    "#train the data\n",
    "X_train,X_test,y_train,y_test = train_test_split(X,y,random_state=42,test_size=.4)\n",
    "parameters = [{'alpha':np.linspace(0.1,1,10)}]\n"
   ]
  },
  {
   "cell_type": "code",
   "execution_count": 49,
   "metadata": {
    "collapsed": false
   },
   "outputs": [
    {
     "data": {
      "text/plain": [
       "(41034, 5)"
      ]
     },
     "execution_count": 49,
     "metadata": {},
     "output_type": "execute_result"
    }
   ],
   "source": [
    "X.shape"
   ]
  },
  {
   "cell_type": "code",
   "execution_count": 35,
   "metadata": {
    "collapsed": false
   },
   "outputs": [
    {
     "name": "stdout",
     "output_type": "stream",
     "text": [
      "The optimal number of neighbors is 5\n"
     ]
    },
    {
     "data": {
      "image/png": "[encoded data removed]",
      "text/plain": [
       "<matplotlib.figure.Figure at 0xc9cf748>"
      ]
     },
     "metadata": {},
     "output_type": "display_data"
    }
   ],
   "source": [
    "from sklearn.neighbors import KNeighborsClassifier\n",
    "\n",
    "# creating odd list of K for KNN\n",
    "myList = list(range(1,50))\n",
    "\n",
    "# subsetting just the odd ones\n",
    "neighbors = filter(lambda x: x % 2 != 0, myList)\n",
    "\n",
    "# empty list that will hold cv scores\n",
    "cv_scores = []\n",
    "\n",
    "# perform 10-fold cross validation\n",
    "for k in neighbors:\n",
    "    knn = KNeighborsClassifier(n_neighbors=k, metric='manhattan', weights='uniform')\n",
    "    scores = cross_val_score(knn, X_train, y_train, cv=10, scoring='accuracy')\n",
    "    cv_scores.append(scores.mean())\n",
    "    \n",
    "# changing to misclassification error\n",
    "MSE = [1 - x for x in cv_scores]\n",
    "\n",
    "# determining best k\n",
    "optimal_k = neighbors[MSE.index(min(MSE))]\n",
    "print(\"The optimal number of neighbors is %d\" % optimal_k)\n",
    "\n",
    "# plot misclassification error vs k\n",
    "plt.plot(neighbors, MSE)\n",
    "plt.xlabel('Number of Neighbors K')\n",
    "plt.ylabel('Misclassification Error')\n",
    "plt.show()"
   ]
  },
  {
   "cell_type": "code",
   "execution_count": 46,
   "metadata": {
    "collapsed": false
   },
   "outputs": [
    {
     "name": "stdout",
     "output_type": "stream",
     "text": [
      "LR: 0.500823 (0.079957)\n",
      "KNN: 0.626184 (0.087876)\n",
      "SGD: 0.285350 (0.094821)\n",
      "CART: 0.679361 (0.073038)\n",
      "G-NB: 0.323998 (0.055142)\n",
      "B-NB: 0.294389 (0.037486)\n"
     ]
    },
    {
     "data": {
      "image/png": "[encoded data removed]",
      "text/plain": [
       "<matplotlib.figure.Figure at 0x1089da90>"
      ]
     },
     "metadata": {},
     "output_type": "display_data"
    }
   ],
   "source": [
    "\n",
    "# Compare Algorithms\n",
    "import pandas\n",
    "import matplotlib.pyplot as plt\n",
    "from sklearn import cross_validation\n",
    "from sklearn.linear_model import LogisticRegression\n",
    "from sklearn.tree import DecisionTreeClassifier\n",
    "from sklearn.neighbors import KNeighborsClassifier\n",
    "from sklearn.naive_bayes import GaussianNB\n",
    "\n",
    "\n",
    "\n",
    "# prepare configuration for cross validation test harness\n",
    "num_folds = 10\n",
    "num_instances = len(X)\n",
    "seed = 7\n",
    "# prepare models\n",
    "models = []\n",
    "models.append(('LR', LogisticRegression()))\n",
    "models.append(('KNN', KNeighborsClassifier(n_neighbors=5, metric='manhattan', weights='uniform')))\n",
    "models.append(('SGD', linear_model.SGDClassifier()))\n",
    "models.append(('CART', DecisionTreeClassifier()))\n",
    "models.append(('G-NB', GaussianNB()))\n",
    "models.append(('B-NB', BernoulliNB()))\n",
    "\n",
    "# evaluate each model in turn\n",
    "results = []\n",
    "names = []\n",
    "scoring = 'accuracy'\n",
    "for name, model in models:\n",
    "\tkfold = cross_validation.KFold(n=num_instances, n_folds=num_folds, random_state=seed)\n",
    "\tcv_results = cross_validation.cross_val_score(model, X, Y, cv=kfold, scoring=scoring)\n",
    "\tresults.append(cv_results)\n",
    "\tnames.append(name)\n",
    "\tmsg = \"%s: %f (%f)\" % (name, cv_results.mean(), cv_results.std())\n",
    "\tprint(msg)\n",
    "# boxplot algorithm comparison\n",
    "fig = plt.figure()\n",
    "fig.suptitle('Algorithm Comparison')\n",
    "ax = fig.add_subplot(111)\n",
    "plt.boxplot(results)\n",
    "ax.set_xticklabels(names)\n",
    "plt.show()"
   ]
  },
  {
   "cell_type": "code",
   "execution_count": null,
   "metadata": {
    "collapsed": true
   },
   "outputs": [],
   "source": []
  }
 ],
 "metadata": {
  "anaconda-cloud": {},
  "kernelspec": {
   "display_name": "Python [Root]",
   "language": "python",
   "name": "Python [Root]"
  },
  "language_info": {
   "codemirror_mode": {
    "name": "ipython",
    "version": 2
   },
   "file_extension": ".py",
   "mimetype": "text/x-python",
   "name": "python",
   "nbconvert_exporter": "python",
   "pygments_lexer": "ipython2",
   "version": "2.7.11"
  }
 },
 "nbformat": 4,
 "nbformat_minor": 0
}
