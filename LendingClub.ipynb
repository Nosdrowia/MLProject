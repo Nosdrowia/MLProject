{
 "cells": [
  {
   "cell_type": "markdown",
   "metadata": {
    "collapsed": true
   },
   "source": [
    "<h1><font color='blue'>Lending Club</font></h1>"
   ]
  },
  {
   "cell_type": "code",
   "execution_count": 28,
   "metadata": {
    "collapsed": false
   },
   "outputs": [],
   "source": [
    "# Import the python environment libraries\n",
    "import sklearn\n",
    "import numpy as np\n",
    "import pandas as pd\n",
    "#import seaborn as sb\n",
    "#from sklearn.linear_model import SGDClassifier\n",
    "#from sklearn import metrics\n",
    "from sklearn.cross_validation import cross_val_score, KFold, train_test_split\n",
    "from sklearn import neighbors\n",
    "from sklearn.metrics import classification_report\n",
    "from __future__ import print_function\n",
    "import matplotlib.pyplot as plt\n",
    "from sklearn import metrics\n",
    "from sklearn import datasets, linear_model\n",
    "from sklearn.linear_model import LogisticRegression\n",
    "import time\n",
    "from mpl_toolkits.mplot3d import Axes3D\n",
    "from sklearn.cluster import KMeans\n",
    "from sklearn.decomposition import PCA\n",
    "import random\n",
    "import collections\n",
    "from sklearn.naive_bayes import BernoulliNB\n",
    "from sklearn.ensemble import ExtraTreesClassifier, ExtraTreesRegressor\n",
    "from sklearn.feature_selection import RFE\n",
    "from sklearn.tree import DecisionTreeClassifier, DecisionTreeRegressor\n",
    "from sklearn.ensemble import RandomForestClassifier, RandomForestRegressor\n",
    "%matplotlib inline"
   ]
  },
  {
   "cell_type": "code",
   "execution_count": 29,
   "metadata": {
    "collapsed": false
   },
   "outputs": [
    {
     "data": {
      "text/html": [
       "<div>\n",
       "<table border=\"1\" class=\"dataframe\">\n",
       "  <thead>\n",
       "    <tr style=\"text-align: right;\">\n",
       "      <th></th>\n",
       "      <th>id</th>\n",
       "      <th>member_id</th>\n",
       "      <th>loan_amnt</th>\n",
       "      <th>funded_amnt</th>\n",
       "      <th>funded_amnt_inv</th>\n",
       "      <th>term</th>\n",
       "      <th>int_rate</th>\n",
       "      <th>installment</th>\n",
       "      <th>grade</th>\n",
       "      <th>sub_grade</th>\n",
       "      <th>...</th>\n",
       "      <th>recoveries</th>\n",
       "      <th>collection_recovery_fee</th>\n",
       "      <th>last_pymnt_d</th>\n",
       "      <th>last_pymnt_amnt</th>\n",
       "      <th>last_credit_pull_d</th>\n",
       "      <th>pub_rec_bankruptcies</th>\n",
       "      <th>new_int_rate</th>\n",
       "      <th>target</th>\n",
       "      <th>issue_year</th>\n",
       "      <th>issue_month</th>\n",
       "    </tr>\n",
       "  </thead>\n",
       "  <tbody>\n",
       "    <tr>\n",
       "      <th>0</th>\n",
       "      <td>1077501</td>\n",
       "      <td>1296599</td>\n",
       "      <td>5000</td>\n",
       "      <td>5000</td>\n",
       "      <td>4975.0</td>\n",
       "      <td>36</td>\n",
       "      <td>0.1065</td>\n",
       "      <td>162.87</td>\n",
       "      <td>B</td>\n",
       "      <td>B2</td>\n",
       "      <td>...</td>\n",
       "      <td>0.0</td>\n",
       "      <td>0.0</td>\n",
       "      <td>42384</td>\n",
       "      <td>171.62</td>\n",
       "      <td>42659</td>\n",
       "      <td>0</td>\n",
       "      <td>11</td>\n",
       "      <td>2</td>\n",
       "      <td>2016</td>\n",
       "      <td>12</td>\n",
       "    </tr>\n",
       "  </tbody>\n",
       "</table>\n",
       "<p>1 rows × 46 columns</p>\n",
       "</div>"
      ],
      "text/plain": [
       "        id member_id  loan_amnt  funded_amnt  funded_amnt_inv  term  int_rate  \\\n",
       "0  1077501   1296599       5000         5000           4975.0    36    0.1065   \n",
       "\n",
       "   installment grade sub_grade     ...      recoveries  \\\n",
       "0       162.87     B        B2     ...             0.0   \n",
       "\n",
       "  collection_recovery_fee  last_pymnt_d last_pymnt_amnt last_credit_pull_d  \\\n",
       "0                     0.0         42384          171.62              42659   \n",
       "\n",
       "  pub_rec_bankruptcies new_int_rate target  issue_year issue_month  \n",
       "0                    0           11      2        2016          12  \n",
       "\n",
       "[1 rows x 46 columns]"
      ]
     },
     "execution_count": 29,
     "metadata": {},
     "output_type": "execute_result"
    }
   ],
   "source": [
    "# Import the data \n",
    "data = pd.read_csv(\"data.csv\", parse_dates = [1])\n",
    "\n",
    "#Adding additional dates to the dataframe \n",
    "df_date_split = pd.DatetimeIndex(data['issue_d'])\n",
    "data['issue_year'] = df_date_split.year\n",
    "data['issue_month'] = df_date_split.month\n",
    "\n",
    "# Setting the initial features\n",
    "df_features = data.copy()\n",
    "del df_features['id']\n",
    "del df_features['new_int_rate']\n",
    "del df_features['issue_d']\n",
    "\n",
    "\n",
    "# Preview the data\n",
    "data.head(1)\n"
   ]
  },
  {
   "cell_type": "code",
   "execution_count": 30,
   "metadata": {
    "collapsed": false
   },
   "outputs": [
    {
     "name": "stdout",
     "output_type": "stream",
     "text": [
      "<class 'pandas.core.frame.DataFrame'>\n",
      "RangeIndex: 41034 entries, 0 to 41033\n",
      "Data columns (total 46 columns):\n",
      "id                         41034 non-null int64\n",
      "member_id                  41034 non-null object\n",
      "loan_amnt                  41034 non-null int64\n",
      "funded_amnt                41034 non-null int64\n",
      "funded_amnt_inv            41034 non-null float64\n",
      "term                       41034 non-null int64\n",
      "int_rate                   41034 non-null float64\n",
      "installment                41034 non-null float64\n",
      "grade                      41034 non-null object\n",
      "sub_grade                  41034 non-null object\n",
      "emp_length                 41034 non-null int64\n",
      "home_ownership             41034 non-null object\n",
      "annual_inc                 41034 non-null float64\n",
      "verification_status        41034 non-null object\n",
      "issue_d                    41034 non-null object\n",
      "loan_status                41034 non-null object\n",
      "pymnt_plan                 41034 non-null object\n",
      "purpose                    41034 non-null object\n",
      "zip_code                   41034 non-null int64\n",
      "addr_state                 41034 non-null object\n",
      "dti                        41034 non-null float64\n",
      "delinq_2yrs                41034 non-null int64\n",
      "earliest_cr_line           41034 non-null int64\n",
      "inq_last_6mths             41034 non-null int64\n",
      "open_acc                   41034 non-null int64\n",
      "pub_rec                    41034 non-null int64\n",
      "revol_bal                  41034 non-null int64\n",
      "revol_util                 41034 non-null float64\n",
      "total_acc                  41034 non-null int64\n",
      "out_prncp                  41034 non-null float64\n",
      "out_prncp_inv              41034 non-null float64\n",
      "total_pymnt                41034 non-null float64\n",
      "total_pymnt_inv            41034 non-null float64\n",
      "total_rec_prncp            41034 non-null float64\n",
      "total_rec_int              41034 non-null float64\n",
      "total_rec_late_fee         41034 non-null float64\n",
      "recoveries                 41034 non-null float64\n",
      "collection_recovery_fee    41034 non-null float64\n",
      "last_pymnt_d               41034 non-null int64\n",
      "last_pymnt_amnt            41034 non-null float64\n",
      "last_credit_pull_d         41034 non-null int64\n",
      "pub_rec_bankruptcies       41034 non-null int64\n",
      "new_int_rate               41034 non-null int64\n",
      "target                     41034 non-null int64\n",
      "issue_year                 41034 non-null int32\n",
      "issue_month                41034 non-null int32\n",
      "dtypes: float64(16), int32(2), int64(18), object(10)\n",
      "memory usage: 14.1+ MB\n"
     ]
    }
   ],
   "source": [
    "data.info()"
   ]
  },
  {
   "cell_type": "code",
   "execution_count": 31,
   "metadata": {
    "collapsed": false
   },
   "outputs": [
    {
     "data": {
      "text/html": [
       "<div>\n",
       "<table border=\"1\" class=\"dataframe\">\n",
       "  <thead>\n",
       "    <tr style=\"text-align: right;\">\n",
       "      <th></th>\n",
       "      <th>id</th>\n",
       "      <th>loan_amnt</th>\n",
       "      <th>funded_amnt</th>\n",
       "      <th>funded_amnt_inv</th>\n",
       "      <th>term</th>\n",
       "      <th>int_rate</th>\n",
       "      <th>installment</th>\n",
       "      <th>emp_length</th>\n",
       "      <th>annual_inc</th>\n",
       "      <th>zip_code</th>\n",
       "      <th>...</th>\n",
       "      <th>recoveries</th>\n",
       "      <th>collection_recovery_fee</th>\n",
       "      <th>last_pymnt_d</th>\n",
       "      <th>last_pymnt_amnt</th>\n",
       "      <th>last_credit_pull_d</th>\n",
       "      <th>pub_rec_bankruptcies</th>\n",
       "      <th>new_int_rate</th>\n",
       "      <th>target</th>\n",
       "      <th>issue_year</th>\n",
       "      <th>issue_month</th>\n",
       "    </tr>\n",
       "  </thead>\n",
       "  <tbody>\n",
       "    <tr>\n",
       "      <th>count</th>\n",
       "      <td>4.103400e+04</td>\n",
       "      <td>41034.000000</td>\n",
       "      <td>41034.000000</td>\n",
       "      <td>41034.000000</td>\n",
       "      <td>41034.000000</td>\n",
       "      <td>41034.000000</td>\n",
       "      <td>41034.000000</td>\n",
       "      <td>41034.000000</td>\n",
       "      <td>4.103400e+04</td>\n",
       "      <td>41034.000000</td>\n",
       "      <td>...</td>\n",
       "      <td>41034.000000</td>\n",
       "      <td>41034.000000</td>\n",
       "      <td>41034.000000</td>\n",
       "      <td>41034.000000</td>\n",
       "      <td>41034.000000</td>\n",
       "      <td>41034.000000</td>\n",
       "      <td>41034.000000</td>\n",
       "      <td>41034.000000</td>\n",
       "      <td>41034.0</td>\n",
       "      <td>41034.000000</td>\n",
       "    </tr>\n",
       "    <tr>\n",
       "      <th>mean</th>\n",
       "      <td>6.803563e+05</td>\n",
       "      <td>11165.055198</td>\n",
       "      <td>10892.249720</td>\n",
       "      <td>10410.807692</td>\n",
       "      <td>42.421992</td>\n",
       "      <td>0.121650</td>\n",
       "      <td>323.607605</td>\n",
       "      <td>4.955500</td>\n",
       "      <td>6.931481e+04</td>\n",
       "      <td>50182.273237</td>\n",
       "      <td>...</td>\n",
       "      <td>98.520570</td>\n",
       "      <td>13.321207</td>\n",
       "      <td>42550.677414</td>\n",
       "      <td>2663.782731</td>\n",
       "      <td>42588.558464</td>\n",
       "      <td>0.045182</td>\n",
       "      <td>12.156748</td>\n",
       "      <td>1.883852</td>\n",
       "      <td>2016.0</td>\n",
       "      <td>7.190574</td>\n",
       "    </tr>\n",
       "    <tr>\n",
       "      <th>std</th>\n",
       "      <td>2.051338e+05</td>\n",
       "      <td>7436.656392</td>\n",
       "      <td>7168.313752</td>\n",
       "      <td>7094.097797</td>\n",
       "      <td>10.624903</td>\n",
       "      <td>0.037359</td>\n",
       "      <td>208.869736</td>\n",
       "      <td>3.460698</td>\n",
       "      <td>6.356160e+04</td>\n",
       "      <td>32869.554989</td>\n",
       "      <td>...</td>\n",
       "      <td>699.759165</td>\n",
       "      <td>153.860237</td>\n",
       "      <td>104.625030</td>\n",
       "      <td>4424.451962</td>\n",
       "      <td>97.330115</td>\n",
       "      <td>0.208642</td>\n",
       "      <td>3.729718</td>\n",
       "      <td>0.748982</td>\n",
       "      <td>0.0</td>\n",
       "      <td>3.365688</td>\n",
       "    </tr>\n",
       "    <tr>\n",
       "      <th>min</th>\n",
       "      <td>5.473400e+04</td>\n",
       "      <td>500.000000</td>\n",
       "      <td>500.000000</td>\n",
       "      <td>0.000000</td>\n",
       "      <td>36.000000</td>\n",
       "      <td>0.054200</td>\n",
       "      <td>15.670000</td>\n",
       "      <td>0.000000</td>\n",
       "      <td>3.300000e+03</td>\n",
       "      <td>700.000000</td>\n",
       "      <td>...</td>\n",
       "      <td>0.000000</td>\n",
       "      <td>0.000000</td>\n",
       "      <td>42378.000000</td>\n",
       "      <td>0.010000</td>\n",
       "      <td>42378.000000</td>\n",
       "      <td>0.000000</td>\n",
       "      <td>5.000000</td>\n",
       "      <td>1.000000</td>\n",
       "      <td>2016.0</td>\n",
       "      <td>1.000000</td>\n",
       "    </tr>\n",
       "    <tr>\n",
       "      <th>25%</th>\n",
       "      <td>5.115498e+05</td>\n",
       "      <td>5400.000000</td>\n",
       "      <td>5200.000000</td>\n",
       "      <td>5000.000000</td>\n",
       "      <td>36.000000</td>\n",
       "      <td>0.096200</td>\n",
       "      <td>166.500000</td>\n",
       "      <td>2.000000</td>\n",
       "      <td>4.080000e+04</td>\n",
       "      <td>20000.000000</td>\n",
       "      <td>...</td>\n",
       "      <td>0.000000</td>\n",
       "      <td>0.000000</td>\n",
       "      <td>42469.000000</td>\n",
       "      <td>216.590000</td>\n",
       "      <td>42505.000000</td>\n",
       "      <td>0.000000</td>\n",
       "      <td>10.000000</td>\n",
       "      <td>1.000000</td>\n",
       "      <td>2016.0</td>\n",
       "      <td>4.000000</td>\n",
       "    </tr>\n",
       "    <tr>\n",
       "      <th>50%</th>\n",
       "      <td>6.551805e+05</td>\n",
       "      <td>9975.000000</td>\n",
       "      <td>9600.000000</td>\n",
       "      <td>8975.000000</td>\n",
       "      <td>36.000000</td>\n",
       "      <td>0.119900</td>\n",
       "      <td>278.530000</td>\n",
       "      <td>4.000000</td>\n",
       "      <td>5.927800e+04</td>\n",
       "      <td>45000.000000</td>\n",
       "      <td>...</td>\n",
       "      <td>0.000000</td>\n",
       "      <td>0.000000</td>\n",
       "      <td>42562.000000</td>\n",
       "      <td>545.645000</td>\n",
       "      <td>42655.000000</td>\n",
       "      <td>0.000000</td>\n",
       "      <td>12.000000</td>\n",
       "      <td>2.000000</td>\n",
       "      <td>2016.0</td>\n",
       "      <td>7.000000</td>\n",
       "    </tr>\n",
       "    <tr>\n",
       "      <th>75%</th>\n",
       "      <td>8.324275e+05</td>\n",
       "      <td>15000.000000</td>\n",
       "      <td>15000.000000</td>\n",
       "      <td>14400.000000</td>\n",
       "      <td>60.000000</td>\n",
       "      <td>0.147400</td>\n",
       "      <td>429.695000</td>\n",
       "      <td>9.000000</td>\n",
       "      <td>8.300000e+04</td>\n",
       "      <td>85000.000000</td>\n",
       "      <td>...</td>\n",
       "      <td>0.000000</td>\n",
       "      <td>0.000000</td>\n",
       "      <td>42653.000000</td>\n",
       "      <td>3268.897500</td>\n",
       "      <td>42659.000000</td>\n",
       "      <td>0.000000</td>\n",
       "      <td>15.000000</td>\n",
       "      <td>2.000000</td>\n",
       "      <td>2016.0</td>\n",
       "      <td>10.000000</td>\n",
       "    </tr>\n",
       "    <tr>\n",
       "      <th>max</th>\n",
       "      <td>1.077501e+06</td>\n",
       "      <td>35000.000000</td>\n",
       "      <td>35000.000000</td>\n",
       "      <td>35000.000000</td>\n",
       "      <td>60.000000</td>\n",
       "      <td>0.245900</td>\n",
       "      <td>1305.190000</td>\n",
       "      <td>10.000000</td>\n",
       "      <td>6.000000e+06</td>\n",
       "      <td>99900.000000</td>\n",
       "      <td>...</td>\n",
       "      <td>29623.350000</td>\n",
       "      <td>7002.190000</td>\n",
       "      <td>42719.000000</td>\n",
       "      <td>36115.200000</td>\n",
       "      <td>42719.000000</td>\n",
       "      <td>2.000000</td>\n",
       "      <td>25.000000</td>\n",
       "      <td>4.000000</td>\n",
       "      <td>2016.0</td>\n",
       "      <td>12.000000</td>\n",
       "    </tr>\n",
       "  </tbody>\n",
       "</table>\n",
       "<p>8 rows × 36 columns</p>\n",
       "</div>"
      ],
      "text/plain": [
       "                 id     loan_amnt   funded_amnt  funded_amnt_inv  \\\n",
       "count  4.103400e+04  41034.000000  41034.000000     41034.000000   \n",
       "mean   6.803563e+05  11165.055198  10892.249720     10410.807692   \n",
       "std    2.051338e+05   7436.656392   7168.313752      7094.097797   \n",
       "min    5.473400e+04    500.000000    500.000000         0.000000   \n",
       "25%    5.115498e+05   5400.000000   5200.000000      5000.000000   \n",
       "50%    6.551805e+05   9975.000000   9600.000000      8975.000000   \n",
       "75%    8.324275e+05  15000.000000  15000.000000     14400.000000   \n",
       "max    1.077501e+06  35000.000000  35000.000000     35000.000000   \n",
       "\n",
       "               term      int_rate   installment    emp_length    annual_inc  \\\n",
       "count  41034.000000  41034.000000  41034.000000  41034.000000  4.103400e+04   \n",
       "mean      42.421992      0.121650    323.607605      4.955500  6.931481e+04   \n",
       "std       10.624903      0.037359    208.869736      3.460698  6.356160e+04   \n",
       "min       36.000000      0.054200     15.670000      0.000000  3.300000e+03   \n",
       "25%       36.000000      0.096200    166.500000      2.000000  4.080000e+04   \n",
       "50%       36.000000      0.119900    278.530000      4.000000  5.927800e+04   \n",
       "75%       60.000000      0.147400    429.695000      9.000000  8.300000e+04   \n",
       "max       60.000000      0.245900   1305.190000     10.000000  6.000000e+06   \n",
       "\n",
       "           zip_code      ...         recoveries  collection_recovery_fee  \\\n",
       "count  41034.000000      ...       41034.000000             41034.000000   \n",
       "mean   50182.273237      ...          98.520570                13.321207   \n",
       "std    32869.554989      ...         699.759165               153.860237   \n",
       "min      700.000000      ...           0.000000                 0.000000   \n",
       "25%    20000.000000      ...           0.000000                 0.000000   \n",
       "50%    45000.000000      ...           0.000000                 0.000000   \n",
       "75%    85000.000000      ...           0.000000                 0.000000   \n",
       "max    99900.000000      ...       29623.350000              7002.190000   \n",
       "\n",
       "       last_pymnt_d  last_pymnt_amnt  last_credit_pull_d  \\\n",
       "count  41034.000000     41034.000000        41034.000000   \n",
       "mean   42550.677414      2663.782731        42588.558464   \n",
       "std      104.625030      4424.451962           97.330115   \n",
       "min    42378.000000         0.010000        42378.000000   \n",
       "25%    42469.000000       216.590000        42505.000000   \n",
       "50%    42562.000000       545.645000        42655.000000   \n",
       "75%    42653.000000      3268.897500        42659.000000   \n",
       "max    42719.000000     36115.200000        42719.000000   \n",
       "\n",
       "       pub_rec_bankruptcies  new_int_rate        target  issue_year  \\\n",
       "count          41034.000000  41034.000000  41034.000000     41034.0   \n",
       "mean               0.045182     12.156748      1.883852      2016.0   \n",
       "std                0.208642      3.729718      0.748982         0.0   \n",
       "min                0.000000      5.000000      1.000000      2016.0   \n",
       "25%                0.000000     10.000000      1.000000      2016.0   \n",
       "50%                0.000000     12.000000      2.000000      2016.0   \n",
       "75%                0.000000     15.000000      2.000000      2016.0   \n",
       "max                2.000000     25.000000      4.000000      2016.0   \n",
       "\n",
       "        issue_month  \n",
       "count  41034.000000  \n",
       "mean       7.190574  \n",
       "std        3.365688  \n",
       "min        1.000000  \n",
       "25%        4.000000  \n",
       "50%        7.000000  \n",
       "75%       10.000000  \n",
       "max       12.000000  \n",
       "\n",
       "[8 rows x 36 columns]"
      ]
     },
     "execution_count": 31,
     "metadata": {},
     "output_type": "execute_result"
    }
   ],
   "source": [
    "data.describe()"
   ]
  },
  {
   "cell_type": "code",
   "execution_count": 32,
   "metadata": {
    "collapsed": false
   },
   "outputs": [
    {
     "data": {
      "text/plain": [
       "B    12077\n",
       "A    10008\n",
       "C     8402\n",
       "D     5744\n",
       "E     3171\n",
       "F     1196\n",
       "G      436\n",
       "Name: grade, dtype: int64"
      ]
     },
     "execution_count": 32,
     "metadata": {},
     "output_type": "execute_result"
    }
   ],
   "source": [
    "data['grade'].value_counts()"
   ]
  },
  {
   "cell_type": "code",
   "execution_count": 33,
   "metadata": {
    "collapsed": false
   },
   "outputs": [
    {
     "data": {
      "text/plain": [
       "<matplotlib.axes._subplots.AxesSubplot at 0x11535198>"
      ]
     },
     "execution_count": 33,
     "metadata": {},
     "output_type": "execute_result"
    },
    {
     "data": {
      "image/png": "[encoded data removed]",
      "text/plain": [
       "<matplotlib.figure.Figure at 0x11a23d68>"
      ]
     },
     "metadata": {},
     "output_type": "display_data"
    }
   ],
   "source": [
    "data['int_rate'].hist(bins=50)"
   ]
  },
  {
   "cell_type": "code",
   "execution_count": 34,
   "metadata": {
    "collapsed": false
   },
   "outputs": [
    {
     "data": {
      "image/png": "[encoded data removed]",
      "text/plain": [
       "<matplotlib.figure.Figure at 0xca4ec18>"
      ]
     },
     "metadata": {},
     "output_type": "display_data"
    }
   ],
   "source": [
    "# Boxplot for int_rate over grade\n",
    "data.boxplot(column=\"int_rate\", by= \"grade\",figsize= (8,8),patch_artist=True)\n",
    "plt.style.use('ggplot')"
   ]
  },
  {
   "cell_type": "code",
   "execution_count": 35,
   "metadata": {
    "collapsed": false
   },
   "outputs": [
    {
     "data": {
      "text/plain": [
       "<matplotlib.axes._subplots.AxesSubplot at 0x19dfc668>"
      ]
     },
     "execution_count": 35,
     "metadata": {},
     "output_type": "execute_result"
    },
    {
     "data": {
      "image/png": "[encoded data removed]",
      "text/plain": [
       "<matplotlib.figure.Figure at 0x15754f60>"
      ]
     },
     "metadata": {},
     "output_type": "display_data"
    }
   ],
   "source": [
    "# Pie chart representing grade distributions\n",
    "explode = (0,0,0,0.1,0.1,0.2,0.3)\n",
    "data['grade'].value_counts().plot.pie(explode=explode, autopct='%1.0f%%',)\n"
   ]
  },
  {
   "cell_type": "code",
   "execution_count": 36,
   "metadata": {
    "collapsed": false
   },
   "outputs": [
    {
     "name": "stdout",
     "output_type": "stream",
     "text": [
      "46 columns: Index([u'id', u'member_id', u'loan_amnt', u'funded_amnt', u'funded_amnt_inv',\n",
      "       u'term', u'int_rate', u'installment', u'grade', u'sub_grade',\n",
      "       u'emp_length', u'home_ownership', u'annual_inc', u'verification_status',\n",
      "       u'issue_d', u'loan_status', u'pymnt_plan', u'purpose', u'zip_code',\n",
      "       u'addr_state', u'dti', u'delinq_2yrs', u'earliest_cr_line',\n",
      "       u'inq_last_6mths', u'open_acc', u'pub_rec', u'revol_bal', u'revol_util',\n",
      "       u'total_acc', u'out_prncp', u'out_prncp_inv', u'total_pymnt',\n",
      "       u'total_pymnt_inv', u'total_rec_prncp', u'total_rec_int',\n",
      "       u'total_rec_late_fee', u'recoveries', u'collection_recovery_fee',\n",
      "       u'last_pymnt_d', u'last_pymnt_amnt', u'last_credit_pull_d',\n",
      "       u'pub_rec_bankruptcies', u'new_int_rate', u'target', u'issue_year',\n",
      "       u'issue_month'],\n",
      "      dtype='object')\n"
     ]
    }
   ],
   "source": [
    "# What columns do we have?\n",
    "print(\"{} columns: {}\".format(len(data.columns), data.columns))"
   ]
  },
  {
   "cell_type": "code",
   "execution_count": 37,
   "metadata": {
    "collapsed": false
   },
   "outputs": [],
   "source": [
    "# Hash the dataset until we determine columns that require it\n",
    "\n",
    "data['grade'] = data['grade'].apply(hash)\n",
    "data['sub_grade'] = data['sub_grade'].apply(hash)\n",
    "data['home_ownership'] = data['home_ownership'].apply(hash)\n",
    "data['verification_status'] = data['verification_status'].apply(hash)\n",
    "data['loan_status'] = data['loan_status'].apply(hash)\n",
    "data['pymnt_plan'] = data['pymnt_plan'].apply(hash)\n",
    "data['purpose'] = data['purpose'].apply(hash)\n",
    "data['addr_state'] = data['addr_state'].apply(hash)\n",
    "\n",
    "\n"
   ]
  },
  {
   "cell_type": "code",
   "execution_count": 38,
   "metadata": {
    "collapsed": false
   },
   "outputs": [
    {
     "name": "stdout",
     "output_type": "stream",
     "text": [
      "[  3.33361393e-02   3.34259782e-02   3.89290752e-02   4.52484697e-03\n",
      "   5.04622163e-02   3.76589915e-02   2.54654839e-02   3.91479324e-02\n",
      "   2.11721449e-02   7.47316836e-03   7.77875862e-06   3.22051634e-02\n",
      "   4.00014676e-02   3.66741158e-02   4.01991709e-02   3.15445060e-02\n",
      "   3.85550450e-02   5.11183763e-03   3.79946131e-02   4.66722516e-02\n",
      "   3.91563901e-02   7.00707788e-04   7.28016302e-04   4.30804312e-02\n",
      "   4.12129910e-02   3.36047862e-02   5.38473831e-02   6.91119387e-03\n",
      "   7.11908516e-03   5.90446454e-03   4.13502630e-02   4.09083934e-02\n",
      "   3.34021649e-02   3.98170491e-03   0.00000000e+00   4.75300978e-02]\n",
      "Top 10 important features:\n",
      "            feature  importance\n",
      "26    total_rec_int    0.053847\n",
      "4       installment    0.050462\n",
      "35      issue_month    0.047530\n",
      "19       revol_util    0.046672\n",
      "23      total_pymnt    0.043080\n",
      "30     last_pymnt_d    0.041350\n",
      "24  total_pymnt_inv    0.041213\n",
      "31  last_pymnt_amnt    0.040908\n",
      "14              dti    0.040199\n",
      "12         zip_code    0.040001\n"
     ]
    }
   ],
   "source": [
    "feature_cols = ['loan_amnt', 'funded_amnt', 'funded_amnt_inv', 'term', 'installment', #'grade', 'sub_grade',\n",
    "       'emp_length', 'home_ownership', 'annual_inc', 'verification_status', \n",
    "       'loan_status', 'pymnt_plan', \n",
    "       'purpose', \n",
    "       'zip_code', 'addr_state', \n",
    "       'dti', #'delinq_2yrs', 'earliest_cr_line',\n",
    "       'inq_last_6mths', 'open_acc', 'pub_rec', 'revol_bal', 'revol_util',\n",
    "       'total_acc', \n",
    "       'out_prncp', 'out_prncp_inv', 'total_pymnt',\n",
    "       'total_pymnt_inv', 'total_rec_prncp', 'total_rec_int',\n",
    "       'total_rec_late_fee', 'recoveries', 'collection_recovery_fee',\n",
    "       'last_pymnt_d', 'last_pymnt_amnt', 'last_credit_pull_d',\n",
    "       'pub_rec_bankruptcies', #'new_int_rate', 'int_bucket', \n",
    "       'issue_year','issue_month'\n",
    "        ]\n",
    "\n",
    "target_col = 'int_rate'\n",
    "\n",
    "\n",
    "# Extract desired features and target column\n",
    "X = data[feature_cols]\n",
    "Y = np.asarray(data['int_rate'], dtype=\"|S6\")\n",
    "\n",
    "# feature extraction\n",
    "model = ExtraTreesClassifier()\n",
    "model.fit(X, Y)\n",
    "print(model.feature_importances_)\n",
    "\n",
    "# Analyze feature importance\n",
    "feature_imps = pd.DataFrame({'feature': X.columns, 'importance': model.feature_importances_})\n",
    "feature_imps.sort_values(by='importance', ascending=False, inplace=True)\n",
    "print(\"Top 10 important features:\")\n",
    "print(feature_imps[:10])"
   ]
  },
  {
   "cell_type": "code",
   "execution_count": null,
   "metadata": {
    "collapsed": false
   },
   "outputs": [],
   "source": [
    "# create a base classifier used to evaluate a subset of attributes\n",
    "model = DecisionTreeClassifier(random_state=42)\n",
    "names = data[feature_cols]\n",
    "\n",
    "#rank all features, i.e continue the elimination until the last one\n",
    "rfe = RFE(model, n_features_to_select=1)\n",
    "rfe.fit(X,Y)\n",
    "print(rfe.ranking_)\n",
    " \n",
    "# Analyze feature importance\n",
    "feature_imps = pd.DataFrame({'feature': X.columns, 'importance': rfe.ranking_})\n",
    "feature_imps.sort_values(by='importance', ascending=False, inplace=True)\n",
    "print(\"Top 10 important features:\")\n",
    "print(feature_imps[:10])"
   ]
  },
  {
   "cell_type": "code",
   "execution_count": null,
   "metadata": {
    "collapsed": false
   },
   "outputs": [],
   "source": [
    "# feature selection using random forest\n",
    "randomforest = RandomForestClassifier()\n",
    "randomforest.fit(X, Y)\n",
    " \n",
    "# Analyze feature importance\n",
    "feature_imps = pd.DataFrame({'feature': X.columns, 'importance': randomforest.feature_importances_})\n",
    "feature_imps.sort_values(by='importance', ascending=False, inplace=True)\n",
    "print(\"Top 10 important features:\")\n",
    "print(feature_imps[:10])"
   ]
  },
  {
   "cell_type": "code",
   "execution_count": null,
   "metadata": {
    "collapsed": false
   },
   "outputs": [],
   "source": [
    "#use this function to randomly select the features\n",
    "#we should look at a few thousand scenarios as we explore the best scores\n",
    "def RandomFeatures():\n",
    "    features = df_features.columns.values.tolist()\n",
    "    results = list()\n",
    "    for f in features:\n",
    "        randomNumber = random.randint(1, 10)\n",
    "        if randomNumber >= 5:\n",
    "            results.append(f)\n",
    "        \n",
    "    return results\n"
   ]
  },
  {
   "cell_type": "code",
   "execution_count": 24,
   "metadata": {
    "collapsed": false
   },
   "outputs": [],
   "source": [
    "#automated classifier support\n",
    "'''\n",
    "model = KNN,LOG_REG, ETC\n",
    "ts = test size (.4)\n",
    "'''\n",
    "from pandas_ml import ConfusionMatrix\n",
    "import matplotlib.pyplot as plt\n",
    "\n",
    "def PredStats(model,ts):\n",
    "    \n",
    "    feature_cols = ['loan_amnt', 'funded_amnt', 'funded_amnt_inv', 'term', 'installment', #'grade', 'sub_grade',\n",
    "       'emp_length', 'home_ownership', 'annual_inc', 'verification_status', \n",
    "       'loan_status', 'pymnt_plan', \n",
    "       'purpose', \n",
    "       'zip_code', 'addr_state', \n",
    "       'dti', #'delinq_2yrs', 'earliest_cr_line',\n",
    "       'inq_last_6mths', 'open_acc', 'pub_rec', 'revol_bal', 'revol_util',\n",
    "       'total_acc', \n",
    "       'out_prncp', 'out_prncp_inv', 'total_pymnt',\n",
    "       'total_pymnt_inv', 'total_rec_prncp', 'total_rec_int',\n",
    "       'total_rec_late_fee', 'recoveries', 'collection_recovery_fee',\n",
    "       'last_pymnt_d', 'last_pymnt_amnt', 'last_credit_pull_d',\n",
    "       'pub_rec_bankruptcies', #'new_int_rate', 'int_bucket', \n",
    "       'issue_year','issue_month'\n",
    "        ]\n",
    "    \n",
    "    X = np.matrix(data[feature_cols])\n",
    "    y = np.asarray(data['target'])\n",
    "    \n",
    "    #train the data\n",
    "    X_train,X_test,y_train,y_test = train_test_split(X,y,random_state=0,test_size=ts)\n",
    "\n",
    "    if model == 'KNN_REG':\n",
    "        #knn regressor\n",
    "        knearest_clf = neighbors.KNeighborsRegressor(n_neighbors=2, weights='uniform') \n",
    "        knearest_clf = knearest_clf.fit(X_train, y_train)\n",
    "        y_pred_class = knearest_clf.predict(X_test)\n",
    "        cm = ConfusionMatrix(y_test, y_pred_class)\n",
    "    elif model =='LOG_REG':\n",
    "        #logistic regression classifier\n",
    "        logreg = LogisticRegression()\n",
    "        logreg = logreg.fit(X_train, y_train)\n",
    "        y_pred_class = logreg.predict(X_test)\n",
    "        cm = ConfusionMatrix(y_test, y_pred_class)\n",
    "    elif model =='SGD_CLF':\n",
    "        #stocastic gradient descent classifier\n",
    "        sdgclf = linear_model.SGDClassifier()\n",
    "        sdgclf = sdgclf.fit(X_train, y_train)\n",
    "        y_pred_class = sdgclf.predict(X_test)\n",
    "    elif model =='KNN_CLF':\n",
    "        #knn classifier\n",
    "        knearest_clf = neighbors.KNeighborsClassifier(n_neighbors=2, weights='uniform') \n",
    "        knearest_clf = knearest_clf.fit(X_train, y_train)\n",
    "        y_pred_class = knearest_clf.predict(X_test)\n",
    "    elif model =='BAYES':\n",
    "        #bayes classifier\n",
    "        bayes_clf = BernoulliNB()\n",
    "        #fit classifier\n",
    "        bayes_clf.fit(X_train, y_train)\n",
    "        y_pred_class = bayes_clf.predict(X_test)\n",
    "    else:\n",
    "        print('Input a correct model')\n",
    "        #break\n",
    "        \n",
    "    #cm.plot()\n",
    "    print(cm.print_stats())\n",
    "    if model == 'LOG_REG':\n",
    "        print('Coefficients: \\n',logreg.coef_)\n",
    "        print('MSE:',metrics.mean_squared_error(y_test,y_pred_class))\n",
    "        print('Variance score: ' , logreg.score(X,y))\n",
    "        print('R2 score: ' , metrics.r2_score(X,y))\n",
    "    elif model == 'KNN_REG':\n",
    "        print ('KNN Score: ',knearest_clf.score(X,y))\n",
    "        print('MSE:',metrics.mean_squared_error(y_test,y_pred_class))\n",
    "        print('Variance score: ' , knearest_clf.score(X,y))\n",
    "        print('R2 score: ' , metrics.r2_score(X,y))\n",
    "    elif model == 'SGD_CLF':\n",
    "        scores = cross_val_score(sdgclf, X, y, cv=2, scoring='accuracy')\n",
    "        print('Scores: ',scores)\n",
    "        print('Score mean:',scores.mean())\n",
    "    elif model == 'KNN_CLF':\n",
    "        scores = cross_val_score(knearest_clf, X, y, cv=2, scoring='accuracy')\n",
    "        print('Scores: ',scores)\n",
    "        print('Score mean:',scores.mean())\n",
    "    elif model == 'BAYES':\n",
    "        scores = cross_val_score(bayes_clf, X, y, cv=2, scoring='accuracy')\n",
    "        print('Scores: ',scores)\n",
    "        print('Score mean:',scores.mean())\n",
    "        \n",
    "\n"
   ]
  },
  {
   "cell_type": "code",
   "execution_count": 27,
   "metadata": {
    "collapsed": false
   },
   "outputs": [
    {
     "name": "stdout",
     "output_type": "stream",
     "text": [
      "Confusion Matrix:\n",
      "\n",
      "Predicted  1      2  3  4  __all__\n",
      "Actual                            \n",
      "1          0   5356  0  0     5356\n",
      "2          0   7798  0  0     7798\n",
      "3          0   2971  0  0     2971\n",
      "4          0    289  0  0      289\n",
      "__all__    0  16414  0  0    16414\n",
      "\n",
      "\n",
      "Overall Statistics:\n",
      "\n",
      "Accuracy: 0.475082246862\n",
      "95% CI: (0.46741716453416626, 0.48275616239532693)\n",
      "No Information Rate: ToDo\n",
      "P-Value [Acc > NIR]: 1.0\n",
      "Kappa: 0.0\n",
      "Mcnemar's Test P-Value: ToDo\n",
      "\n",
      "\n",
      "Class Statistics:\n",
      "\n",
      "Classes                                       1         2         3          4\n",
      "Population                                16414     16414     16414      16414\n",
      "P: Condition positive                      5356      7798      2971        289\n",
      "N: Condition negative                     11058      8616     13443      16125\n",
      "Test outcome positive                         0     16414         0          0\n",
      "Test outcome negative                     16414         0     16414      16414\n",
      "TP: True Positive                             0      7798         0          0\n",
      "TN: True Negative                         11058         0     13443      16125\n",
      "FP: False Positive                            0      8616         0          0\n",
      "FN: False Negative                         5356         0      2971        289\n",
      "TPR: (Sensitivity, hit rate, recall)          0         1         0          0\n",
      "TNR=SPC: (Specificity)                        1         0         1          1\n",
      "PPV: Pos Pred Value (Precision)             NaN  0.475082       NaN        NaN\n",
      "NPV: Neg Pred Value                    0.673693       NaN  0.818996   0.982393\n",
      "FPR: False-out                                0         1         0          0\n",
      "FDR: False Discovery Rate                   NaN  0.524918       NaN        NaN\n",
      "FNR: Miss Rate                                1         0         1          1\n",
      "ACC: Accuracy                          0.673693  0.475082  0.818996   0.982393\n",
      "F1 score                                      0  0.644143         0          0\n",
      "MCC: Matthews correlation coefficient       NaN       NaN       NaN        NaN\n",
      "Informedness                                  0         0         0          0\n",
      "Markedness                                  NaN       NaN       NaN        NaN\n",
      "Prevalence                             0.326307  0.475082  0.181004  0.0176069\n",
      "LR+: Positive likelihood ratio              NaN         1       NaN        NaN\n",
      "LR-: Negative likelihood ratio                1       NaN         1          1\n",
      "DOR: Diagnostic odds ratio                  NaN       NaN       NaN        NaN\n",
      "FOR: False omission rate               0.326307       NaN  0.181004  0.0176069\n",
      "None\n",
      "Coefficients: \n",
      " [[ -6.84554513e-14  -6.86505835e-14  -6.20183869e-14  -1.68465572e-16\n",
      "   -1.94066358e-15  -3.07573036e-18  -1.04925502e-10  -1.28039146e-13\n",
      "    1.40145895e-10  -6.53505269e-10  -1.00698102e-09   7.39581184e-12\n",
      "   -4.59230857e-14   1.64787282e-12  -3.89443227e-17  -1.00206957e-17\n",
      "   -5.71438322e-18  -1.05733798e-18  -6.20110533e-14  -5.57547876e-18\n",
      "    1.55229952e-17  -2.11140805e-16  -2.10610365e-16  -1.02144441e-13\n",
      "   -9.40750624e-14  -5.87846140e-14  -4.23261159e-14  -2.07072900e-17\n",
      "   -1.01300645e-15  -1.38828385e-16  -3.61888820e-14  -2.63090388e-14\n",
      "   -3.64093379e-14  -7.39993261e-19  -1.71597917e-15  -6.82752488e-18]\n",
      " [  1.16664020e-15   2.62753350e-15  -2.46518027e-15  -1.68118621e-17\n",
      "    1.69653815e-16  -2.00129266e-18   5.39649121e-11  -1.57715614e-14\n",
      "    8.07896060e-12   1.08620778e-10  -6.03270556e-11  -3.38189554e-11\n",
      "   -2.86836716e-15  -3.56757996e-12   9.94639467e-18   2.79689007e-18\n",
      "   -3.31445845e-18   3.42324945e-19   1.85907278e-14   1.14475349e-18\n",
      "   -1.69486911e-17  -3.16665922e-18  -3.42463112e-18   4.34021340e-15\n",
      "   -8.81901107e-16   6.94763136e-15  -2.00175907e-15   2.45619595e-18\n",
      "   -6.08113470e-16  -8.13361394e-17  -2.02072226e-15  -3.97851722e-16\n",
      "   -1.98909161e-15   2.17627259e-19  -9.49320362e-17  -1.94928019e-18]\n",
      " [  3.03332537e-14   2.95647147e-14   3.16264636e-14   8.88615667e-17\n",
      "    7.05146130e-16  -3.46996967e-18   6.09574198e-11  -1.16255133e-14\n",
      "   -1.65642143e-10   4.65489792e-10  -1.00267682e-09   4.11174765e-11\n",
      "   -2.20980947e-14   3.25142352e-12  -1.08207595e-18   3.38189541e-18\n",
      "   -8.29129948e-18   3.88560814e-19   1.43889083e-15   2.48398069e-18\n",
      "   -3.21619474e-17   1.27780235e-16   1.27732279e-16   5.63363992e-14\n",
      "    5.73537501e-14   2.45341326e-14   3.09941106e-14   1.07418239e-17\n",
      "    7.97414379e-16   1.34917817e-16  -3.60668314e-14   1.78357412e-14\n",
      "   -3.60094485e-14   2.93382847e-19  -1.70785550e-15  -4.95679246e-18]\n",
      " [  1.36525307e-07   1.29702110e-07   1.33692436e-07   2.44214603e-10\n",
      "    3.35196590e-09   7.01653738e-12  -3.79994344e-11   4.07241430e-07\n",
      "   -3.24033907e-10   5.69925302e-10  -3.28282243e-09   3.56588082e-11\n",
      "    1.42320563e-08   2.53977589e-11  -1.06448577e-12   3.13876281e-12\n",
      "    2.23728959e-11   2.37687001e-13   4.10575723e-08   3.66354172e-12\n",
      "    2.38107921e-11   8.63770534e-10   8.63071990e-10   1.95879677e-07\n",
      "    1.95671808e-07   9.35001428e-08   9.83092484e-08   1.07243809e-11\n",
      "    4.05955935e-09   3.79203861e-10  -4.89580743e-09   6.13186674e-08\n",
      "   -4.77532445e-09   2.16582423e-13  -2.38804586e-10   1.98126698e-11]]\n",
      "MSE: 0.577738515901\n",
      "Variance score:  0.474508943803\n"
     ]
    },
    {
     "ename": "ValueError",
     "evalue": "y_true and y_pred have different number of output (36!=1)",
     "output_type": "error",
     "traceback": [
      "\u001b[0;31m---------------------------------------------------------------------------\u001b[0m",
      "\u001b[0;31mValueError\u001b[0m                                Traceback (most recent call last)",
      "\u001b[0;32m<ipython-input-27-b58d36ed0e20>\u001b[0m in \u001b[0;36m<module>\u001b[0;34m()\u001b[0m\n\u001b[1;32m      1\u001b[0m \u001b[1;31m# Look for the best score\u001b[0m\u001b[1;33m\u001b[0m\u001b[1;33m\u001b[0m\u001b[0m\n\u001b[1;32m      2\u001b[0m \u001b[1;31m#for i in range(5):\u001b[0m\u001b[1;33m\u001b[0m\u001b[1;33m\u001b[0m\u001b[0m\n\u001b[0;32m----> 3\u001b[0;31m \u001b[0mPredStats\u001b[0m\u001b[1;33m(\u001b[0m\u001b[1;34m\"LOG_REG\"\u001b[0m\u001b[1;33m,\u001b[0m\u001b[1;36m.4\u001b[0m\u001b[1;33m)\u001b[0m\u001b[1;33m\u001b[0m\u001b[0m\n\u001b[0m",
      "\u001b[0;32m<ipython-input-24-1544e71326f4>\u001b[0m in \u001b[0;36mPredStats\u001b[0;34m(model, ts)\u001b[0m\n\u001b[1;32m     69\u001b[0m         \u001b[1;32mprint\u001b[0m\u001b[1;33m(\u001b[0m\u001b[1;34m'MSE:'\u001b[0m\u001b[1;33m,\u001b[0m\u001b[0mmetrics\u001b[0m\u001b[1;33m.\u001b[0m\u001b[0mmean_squared_error\u001b[0m\u001b[1;33m(\u001b[0m\u001b[0my_test\u001b[0m\u001b[1;33m,\u001b[0m\u001b[0my_pred_class\u001b[0m\u001b[1;33m)\u001b[0m\u001b[1;33m)\u001b[0m\u001b[1;33m\u001b[0m\u001b[0m\n\u001b[1;32m     70\u001b[0m         \u001b[1;32mprint\u001b[0m\u001b[1;33m(\u001b[0m\u001b[1;34m'Variance score: '\u001b[0m \u001b[1;33m,\u001b[0m \u001b[0mlogreg\u001b[0m\u001b[1;33m.\u001b[0m\u001b[0mscore\u001b[0m\u001b[1;33m(\u001b[0m\u001b[0mX\u001b[0m\u001b[1;33m,\u001b[0m\u001b[0my\u001b[0m\u001b[1;33m)\u001b[0m\u001b[1;33m)\u001b[0m\u001b[1;33m\u001b[0m\u001b[0m\n\u001b[0;32m---> 71\u001b[0;31m         \u001b[1;32mprint\u001b[0m\u001b[1;33m(\u001b[0m\u001b[1;34m'R2 score: '\u001b[0m \u001b[1;33m,\u001b[0m \u001b[0mmetrics\u001b[0m\u001b[1;33m.\u001b[0m\u001b[0mr2_score\u001b[0m\u001b[1;33m(\u001b[0m\u001b[0mX\u001b[0m\u001b[1;33m,\u001b[0m\u001b[0my\u001b[0m\u001b[1;33m)\u001b[0m\u001b[1;33m)\u001b[0m\u001b[1;33m\u001b[0m\u001b[0m\n\u001b[0m\u001b[1;32m     72\u001b[0m     \u001b[1;32melif\u001b[0m \u001b[0mmodel\u001b[0m \u001b[1;33m==\u001b[0m \u001b[1;34m'KNN_REG'\u001b[0m\u001b[1;33m:\u001b[0m\u001b[1;33m\u001b[0m\u001b[0m\n\u001b[1;32m     73\u001b[0m         \u001b[1;32mprint\u001b[0m \u001b[1;33m(\u001b[0m\u001b[1;34m'KNN Score: '\u001b[0m\u001b[1;33m,\u001b[0m\u001b[0mknearest_clf\u001b[0m\u001b[1;33m.\u001b[0m\u001b[0mscore\u001b[0m\u001b[1;33m(\u001b[0m\u001b[0mX\u001b[0m\u001b[1;33m,\u001b[0m\u001b[0my\u001b[0m\u001b[1;33m)\u001b[0m\u001b[1;33m)\u001b[0m\u001b[1;33m\u001b[0m\u001b[0m\n",
      "\u001b[0;32mC:\\Users\\Hero\\Anaconda2\\lib\\site-packages\\sklearn\\metrics\\regression.pyc\u001b[0m in \u001b[0;36mr2_score\u001b[0;34m(y_true, y_pred, sample_weight, multioutput)\u001b[0m\n\u001b[1;32m    442\u001b[0m     \"\"\"\n\u001b[1;32m    443\u001b[0m     y_type, y_true, y_pred, multioutput = _check_reg_targets(\n\u001b[0;32m--> 444\u001b[0;31m         y_true, y_pred, multioutput)\n\u001b[0m\u001b[1;32m    445\u001b[0m \u001b[1;33m\u001b[0m\u001b[0m\n\u001b[1;32m    446\u001b[0m     \u001b[1;32mif\u001b[0m \u001b[0msample_weight\u001b[0m \u001b[1;32mis\u001b[0m \u001b[1;32mnot\u001b[0m \u001b[0mNone\u001b[0m\u001b[1;33m:\u001b[0m\u001b[1;33m\u001b[0m\u001b[0m\n",
      "\u001b[0;32mC:\\Users\\Hero\\Anaconda2\\lib\\site-packages\\sklearn\\metrics\\regression.pyc\u001b[0m in \u001b[0;36m_check_reg_targets\u001b[0;34m(y_true, y_pred, multioutput)\u001b[0m\n\u001b[1;32m     84\u001b[0m     \u001b[1;32mif\u001b[0m \u001b[0my_true\u001b[0m\u001b[1;33m.\u001b[0m\u001b[0mshape\u001b[0m\u001b[1;33m[\u001b[0m\u001b[1;36m1\u001b[0m\u001b[1;33m]\u001b[0m \u001b[1;33m!=\u001b[0m \u001b[0my_pred\u001b[0m\u001b[1;33m.\u001b[0m\u001b[0mshape\u001b[0m\u001b[1;33m[\u001b[0m\u001b[1;36m1\u001b[0m\u001b[1;33m]\u001b[0m\u001b[1;33m:\u001b[0m\u001b[1;33m\u001b[0m\u001b[0m\n\u001b[1;32m     85\u001b[0m         raise ValueError(\"y_true and y_pred have different number of output \"\n\u001b[0;32m---> 86\u001b[0;31m                          \"({0}!={1})\".format(y_true.shape[1], y_pred.shape[1]))\n\u001b[0m\u001b[1;32m     87\u001b[0m \u001b[1;33m\u001b[0m\u001b[0m\n\u001b[1;32m     88\u001b[0m     \u001b[0mn_outputs\u001b[0m \u001b[1;33m=\u001b[0m \u001b[0my_true\u001b[0m\u001b[1;33m.\u001b[0m\u001b[0mshape\u001b[0m\u001b[1;33m[\u001b[0m\u001b[1;36m1\u001b[0m\u001b[1;33m]\u001b[0m\u001b[1;33m\u001b[0m\u001b[0m\n",
      "\u001b[0;31mValueError\u001b[0m: y_true and y_pred have different number of output (36!=1)"
     ]
    }
   ],
   "source": [
    "# Look for the best score\n",
    "#for i in range(5):\n",
    "PredStats(\"LOG_REG\",.4)"
   ]
  },
  {
   "cell_type": "code",
   "execution_count": 3,
   "metadata": {
    "collapsed": false
   },
   "outputs": [
    {
     "data": {
      "text/plain": [
       "debt_consolidation    19169\n",
       "credit_card            5290\n",
       "other                  4180\n",
       "home_improvement       3108\n",
       "major_purchase         2260\n",
       "small_business         1877\n",
       "car                    1582\n",
       "wedding                 972\n",
       "medical                 727\n",
       "moving                  604\n",
       "house                   408\n",
       "vacation                390\n",
       "educational             362\n",
       "renewable_energy        105\n",
       "Name: purpose, dtype: int64"
      ]
     },
     "execution_count": 3,
     "metadata": {},
     "output_type": "execute_result"
    }
   ],
   "source": [
    "#purpose of the loan\n",
    "data.purpose.value_counts()"
   ]
  },
  {
   "cell_type": "code",
   "execution_count": 4,
   "metadata": {
    "collapsed": false
   },
   "outputs": [
    {
     "data": {
      "text/plain": [
       "debt_consolidation    2728\n",
       "credit_card            933\n",
       "home_improvement       858\n",
       "other                  545\n",
       "small_business         395\n",
       "major_purchase         320\n",
       "car                    190\n",
       "wedding                138\n",
       "medical                114\n",
       "moving                  85\n",
       "house                   75\n",
       "educational             43\n",
       "vacation                40\n",
       "renewable_energy        23\n",
       "Name: purpose, dtype: int64"
      ]
     },
     "execution_count": 4,
     "metadata": {},
     "output_type": "execute_result"
    }
   ],
   "source": [
    "# purpose of the loan for incoming greater than 100,000\n",
    "data[data.annual_inc >=100000].purpose.value_counts()"
   ]
  },
  {
   "cell_type": "code",
   "execution_count": 5,
   "metadata": {
    "collapsed": false
   },
   "outputs": [
    {
     "data": {
      "text/plain": [
       "debt_consolidation    16441\n",
       "credit_card            4357\n",
       "other                  3635\n",
       "home_improvement       2250\n",
       "major_purchase         1940\n",
       "small_business         1482\n",
       "car                    1392\n",
       "wedding                 834\n",
       "medical                 613\n",
       "moving                  519\n",
       "vacation                350\n",
       "house                   333\n",
       "educational             319\n",
       "renewable_energy         82\n",
       "Name: purpose, dtype: int64"
      ]
     },
     "execution_count": 5,
     "metadata": {},
     "output_type": "execute_result"
    }
   ],
   "source": [
    "#purpose of the loan for incoming less than 100,000\n",
    "data[data.annual_inc < 100000].purpose.value_counts()"
   ]
  },
  {
   "cell_type": "code",
   "execution_count": 6,
   "metadata": {
    "collapsed": false
   },
   "outputs": [
    {
     "data": {
      "text/plain": [
       "RENT        19314\n",
       "MORTGAGE    18460\n",
       "OWN          3126\n",
       "OTHER         134\n",
       "Name: home_ownership, dtype: int64"
      ]
     },
     "execution_count": 6,
     "metadata": {},
     "output_type": "execute_result"
    }
   ],
   "source": [
    "# housing\n",
    "data.home_ownership.value_counts()"
   ]
  },
  {
   "cell_type": "code",
   "execution_count": null,
   "metadata": {
    "collapsed": true
   },
   "outputs": [],
   "source": []
  }
 ],
 "metadata": {
  "anaconda-cloud": {},
  "kernelspec": {
   "display_name": "Python [default]",
   "language": "python",
   "name": "python2"
  },
  "language_info": {
   "codemirror_mode": {
    "name": "ipython",
    "version": 2
   },
   "file_extension": ".py",
   "mimetype": "text/x-python",
   "name": "python",
   "nbconvert_exporter": "python",
   "pygments_lexer": "ipython2",
   "version": "2.7.12"
  }
 },
 "nbformat": 4,
 "nbformat_minor": 0
}
